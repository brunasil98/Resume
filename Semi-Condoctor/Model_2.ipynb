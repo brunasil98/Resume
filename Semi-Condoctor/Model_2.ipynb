{
 "cells": [
  {
   "cell_type": "markdown",
   "metadata": {
    "colab_type": "text",
    "id": "view-in-github"
   },
   "source": [
    "<a href=\"https://colab.research.google.com/github/brunasil98/Colab_Semiconductor/blob/main/Test_3_128.ipynb\" target=\"_parent\"><img src=\"https://colab.research.google.com/assets/colab-badge.svg\" alt=\"Open In Colab\"/></a>"
   ]
  },
  {
   "cell_type": "code",
   "execution_count": null,
   "metadata": {
    "colab": {
     "base_uri": "https://localhost:8080/"
    },
    "id": "SCiSFcPxc3pm",
    "outputId": "dde2130c-73f2-4ca4-ba30-37a20715f6f4"
   },
   "outputs": [
    {
     "name": "stdout",
     "output_type": "stream",
     "text": [
      "Mounted at /content/drive\n"
     ]
    }
   ],
   "source": [
    "from google.colab import drive\n",
    "drive.mount('/content/drive')"
   ]
  },
  {
   "cell_type": "code",
   "execution_count": null,
   "metadata": {
    "id": "tYFtntFxc4gD"
   },
   "outputs": [],
   "source": [
    "import matplotlib.pyplot as plt\n",
    "import matplotlib.image as mpimg\n",
    "\n",
    "plt.style.use('classic')\n",
    "#############################################################\n",
    "import tensorflow.keras.utils as conv_utils\n",
    "from keras.preprocessing.image import ImageDataGenerator\n",
    "from keras.models import Sequential\n",
    "from keras.layers import Conv2D, MaxPooling2D, BatchNormalization\n",
    "from keras.layers import Activation, Dropout, Flatten, Dense\n",
    "from keras.layers import Activation, Dropout, Flatten, Dense\n",
    "import tensorflow as tf\n",
    "#from keras import backend as K\n",
    "####################################################\n",
    "import os\n",
    "import cv2\n",
    "\n",
    "from PIL import Image\n",
    "import numpy as np\n",
    "\n",
    "import numpy as np"
   ]
  },
  {
   "cell_type": "code",
   "execution_count": null,
   "metadata": {
    "id": "XhAaJcjXpiob"
   },
   "outputs": [],
   "source": []
  },
  {
   "cell_type": "code",
   "execution_count": null,
   "metadata": {
    "id": "p7-RxZ40pikd"
   },
   "outputs": [],
   "source": []
  },
  {
   "cell_type": "code",
   "execution_count": null,
   "metadata": {
    "id": "n0ahLRwOc8vG"
   },
   "outputs": [],
   "source": [
    "image_directory = r'drive/MyDrive/Youtube_Neural_Network/'\n",
    "SIZE = 128\n",
    "dataset = []  #Many ways to handle data, you can use pandas. Here, we are using a list format.  \n",
    "label = []  #Place holders to define add labels. We will add 0 to all parasitized images and 1 to uninfected.\n",
    "\n",
    "Error = os.listdir(image_directory + 'Error/')\n",
    "for i, image_name in enumerate(Error):    #Remember enumerate method adds a counter and returns the enumerate object\n",
    "    \n",
    "    if (image_name.split('.')[1] == 'jpg'):\n",
    "        image = cv2.imread (image_directory + 'Error/' + image_name, cv2.IMREAD_GRAYSCALE)\n",
    "        image = Image.fromarray(image)\n",
    "        image = image.resize((SIZE, SIZE))\n",
    "        dataset.append(np.array(image))\n",
    "        label.append(1)"
   ]
  },
  {
   "cell_type": "code",
   "execution_count": null,
   "metadata": {
    "id": "9HizIHmXc9g-"
   },
   "outputs": [],
   "source": [
    "Non_error = os.listdir(image_directory + 'Non_error/')\n",
    "for i, image_name in enumerate(Non_error):\n",
    "    if (image_name.split('.')[1] == 'jpg'):\n",
    "        image = cv2.imread(image_directory + 'Non_error/' + image_name,cv2.IMREAD_GRAYSCALE)\n",
    "        image = Image.fromarray(image)\n",
    "        image = image.resize((SIZE, SIZE))\n",
    "        dataset.append(np.array(image))\n",
    "        label.append(0)"
   ]
  },
  {
   "cell_type": "code",
   "execution_count": null,
   "metadata": {
    "id": "6_JIWsIrc9j2"
   },
   "outputs": [],
   "source": [
    "from sklearn.model_selection import train_test_split\n",
    "#from keras.utils import to_categorical\n",
    "\n",
    "X_train, X_test, y_train, y_test = train_test_split(dataset, label, test_size = 0.20, random_state = 0)"
   ]
  },
  {
   "cell_type": "code",
   "execution_count": null,
   "metadata": {
    "id": "f2q927oGc9pJ"
   },
   "outputs": [],
   "source": [
    "X_train = np.array(X_train)\n",
    "X_train = X_train.reshape(len(X_train),X_train.shape[1],X_train.shape[2],1)\n",
    "y_train = np.array(y_train)\n",
    "y_train = y_train.reshape(len(y_train),1)\n",
    "X_test = np.array(X_test)\n",
    "X_test = X_test.reshape(len(X_test),X_test.shape[1],X_test.shape[2],1)\n",
    "y_test = np.array(y_test)\n",
    "y_test = y_test.reshape(len(y_test),1)"
   ]
  },
  {
   "cell_type": "code",
   "execution_count": null,
   "metadata": {
    "colab": {
     "base_uri": "https://localhost:8080/"
    },
    "id": "_xT4ABDLc9sB",
    "outputId": "b0ae512d-114a-4a71-b411-30aa3d312963"
   },
   "outputs": [
    {
     "name": "stdout",
     "output_type": "stream",
     "text": [
      "(285, 128, 128, 1)\n",
      "(285, 1)\n",
      "(72, 128, 128, 1)\n",
      "(72, 1)\n"
     ]
    }
   ],
   "source": [
    "print(X_train.shape)\n",
    "print(y_train.shape)\n",
    "print(X_test.shape)\n",
    "print(y_test.shape)"
   ]
  },
  {
   "cell_type": "code",
   "execution_count": null,
   "metadata": {
    "id": "LsXZt027c9ut"
   },
   "outputs": [],
   "source": [
    "\n",
    "X_train = conv_utils.normalize(X_train)\n",
    "X_test = conv_utils.normalize(X_test)"
   ]
  },
  {
   "cell_type": "code",
   "execution_count": null,
   "metadata": {
    "id": "h8RUqJITc9xe"
   },
   "outputs": [],
   "source": [
    "INPUT_SHAPE = (SIZE, SIZE, 1)   #change to (SIZE, SIZE, 1)\n",
    "\n",
    "\n",
    "model = Sequential()\n",
    "model.add(Conv2D(32, (3, 3), input_shape=INPUT_SHAPE))\n",
    "model.add(Activation('relu'))\n",
    "model.add(MaxPooling2D(pool_size=(2, 2)))\n",
    "model.add(BatchNormalization())\n",
    "\n",
    "\n",
    "model.add(Conv2D(32, (3, 3), kernel_initializer = 'he_uniform'))\n",
    "model.add(Activation('relu'))\n",
    "model.add(MaxPooling2D(pool_size=(2, 2)))\n",
    "model.add(BatchNormalization())\n",
    "\n",
    "\n",
    "model.add(Conv2D(64, (3, 3), kernel_initializer = 'he_uniform'))\n",
    "model.add(Activation('relu'))\n",
    "model.add(MaxPooling2D(pool_size=(2, 2)))\n",
    "model.add(BatchNormalization())\n",
    "\n",
    "model.add(Flatten())\n",
    "model.add(Dense(64))\n",
    "model.add(Activation('relu'))\n",
    "model.add(Dropout(0.5))\n",
    "model.add(BatchNormalization())\n",
    "\n",
    "model.add(Dense(1))\n",
    "model.add(Activation('sigmoid')) \n",
    "model.add(BatchNormalization()) "
   ]
  },
  {
   "cell_type": "code",
   "execution_count": null,
   "metadata": {
    "colab": {
     "base_uri": "https://localhost:8080/"
    },
    "id": "ZBkPmeqJc90Q",
    "outputId": "7617e1da-80ea-4939-801d-9c6492c3e87a"
   },
   "outputs": [
    {
     "name": "stdout",
     "output_type": "stream",
     "text": [
      "Model: \"sequential\"\n",
      "_________________________________________________________________\n",
      "Layer (type)                 Output Shape              Param #   \n",
      "=================================================================\n",
      "conv2d (Conv2D)              (None, 126, 126, 32)      320       \n",
      "_________________________________________________________________\n",
      "activation (Activation)      (None, 126, 126, 32)      0         \n",
      "_________________________________________________________________\n",
      "max_pooling2d (MaxPooling2D) (None, 63, 63, 32)        0         \n",
      "_________________________________________________________________\n",
      "batch_normalization (BatchNo (None, 63, 63, 32)        128       \n",
      "_________________________________________________________________\n",
      "conv2d_1 (Conv2D)            (None, 61, 61, 32)        9248      \n",
      "_________________________________________________________________\n",
      "activation_1 (Activation)    (None, 61, 61, 32)        0         \n",
      "_________________________________________________________________\n",
      "max_pooling2d_1 (MaxPooling2 (None, 30, 30, 32)        0         \n",
      "_________________________________________________________________\n",
      "batch_normalization_1 (Batch (None, 30, 30, 32)        128       \n",
      "_________________________________________________________________\n",
      "conv2d_2 (Conv2D)            (None, 28, 28, 64)        18496     \n",
      "_________________________________________________________________\n",
      "activation_2 (Activation)    (None, 28, 28, 64)        0         \n",
      "_________________________________________________________________\n",
      "max_pooling2d_2 (MaxPooling2 (None, 14, 14, 64)        0         \n",
      "_________________________________________________________________\n",
      "batch_normalization_2 (Batch (None, 14, 14, 64)        256       \n",
      "_________________________________________________________________\n",
      "flatten (Flatten)            (None, 12544)             0         \n",
      "_________________________________________________________________\n",
      "dense (Dense)                (None, 64)                802880    \n",
      "_________________________________________________________________\n",
      "activation_3 (Activation)    (None, 64)                0         \n",
      "_________________________________________________________________\n",
      "dropout (Dropout)            (None, 64)                0         \n",
      "_________________________________________________________________\n",
      "batch_normalization_3 (Batch (None, 64)                256       \n",
      "_________________________________________________________________\n",
      "dense_1 (Dense)              (None, 1)                 65        \n",
      "_________________________________________________________________\n",
      "activation_4 (Activation)    (None, 1)                 0         \n",
      "_________________________________________________________________\n",
      "batch_normalization_4 (Batch (None, 1)                 4         \n",
      "=================================================================\n",
      "Total params: 831,781\n",
      "Trainable params: 831,395\n",
      "Non-trainable params: 386\n",
      "_________________________________________________________________\n",
      "None\n"
     ]
    }
   ],
   "source": [
    "model.compile(loss='binary_crossentropy',\n",
    "              optimizer='rmsprop',             #also try adam\n",
    "              metrics=['acc'])\n",
    "\n",
    "print(model.summary())    \n",
    "###############################################################  \n"
   ]
  },
  {
   "cell_type": "code",
   "execution_count": null,
   "metadata": {
    "colab": {
     "base_uri": "https://localhost:8080/"
    },
    "id": "AX-3adj4c920",
    "outputId": "b7802d6c-a60a-4b23-a916-eaef7187a7fe"
   },
   "outputs": [
    {
     "name": "stdout",
     "output_type": "stream",
     "text": [
      "(72, 128, 128, 1)\n"
     ]
    }
   ],
   "source": [
    "print(X_test.shape)"
   ]
  },
  {
   "cell_type": "code",
   "execution_count": null,
   "metadata": {
    "colab": {
     "base_uri": "https://localhost:8080/"
    },
    "id": "uQrUrelpc95e",
    "outputId": "9f837a05-ea10-4774-d3ae-7a6a382e62b3"
   },
   "outputs": [
    {
     "name": "stdout",
     "output_type": "stream",
     "text": [
      "(285, 128, 128, 1)\n"
     ]
    }
   ],
   "source": [
    "print(X_train.shape)"
   ]
  },
  {
   "cell_type": "code",
   "execution_count": null,
   "metadata": {
    "colab": {
     "base_uri": "https://localhost:8080/"
    },
    "id": "vy1ljhLPc976",
    "outputId": "062a380d-3e87-4dda-d3b5-6d933d4f1012"
   },
   "outputs": [
    {
     "name": "stdout",
     "output_type": "stream",
     "text": [
      "Epoch 1/300\n",
      "4/4 [==============================] - 4s 1s/step - loss: 3.4190 - acc: 0.6719 - val_loss: 0.7280 - val_acc: 0.5517\n",
      "Epoch 2/300\n",
      "4/4 [==============================] - 4s 1s/step - loss: 4.0487 - acc: 0.6289 - val_loss: 0.8844 - val_acc: 0.5517\n",
      "Epoch 3/300\n",
      "4/4 [==============================] - 4s 1s/step - loss: 3.1656 - acc: 0.7031 - val_loss: 3.3573 - val_acc: 0.5517\n",
      "Epoch 4/300\n",
      "4/4 [==============================] - 4s 1s/step - loss: 2.8952 - acc: 0.7109 - val_loss: 6.9146 - val_acc: 0.5517\n",
      "Epoch 5/300\n",
      "4/4 [==============================] - 4s 1s/step - loss: 2.8363 - acc: 0.7031 - val_loss: 3.2428 - val_acc: 0.5517\n",
      "Epoch 6/300\n",
      "4/4 [==============================] - 4s 1s/step - loss: 2.9121 - acc: 0.7148 - val_loss: 1.1299 - val_acc: 0.4483\n",
      "Epoch 7/300\n",
      "4/4 [==============================] - 4s 1s/step - loss: 3.3069 - acc: 0.6484 - val_loss: 1.2672 - val_acc: 0.4483\n",
      "Epoch 8/300\n",
      "4/4 [==============================] - 4s 1s/step - loss: 2.8685 - acc: 0.6562 - val_loss: 1.1438 - val_acc: 0.4483\n",
      "Epoch 9/300\n",
      "4/4 [==============================] - 4s 1s/step - loss: 2.5310 - acc: 0.6641 - val_loss: 1.1181 - val_acc: 0.4483\n",
      "Epoch 10/300\n",
      "4/4 [==============================] - 4s 1s/step - loss: 2.0889 - acc: 0.7070 - val_loss: 0.8931 - val_acc: 0.4483\n",
      "Epoch 11/300\n",
      "4/4 [==============================] - 4s 1s/step - loss: 2.1033 - acc: 0.7539 - val_loss: 0.8120 - val_acc: 0.3793\n",
      "Epoch 12/300\n",
      "4/4 [==============================] - 4s 1s/step - loss: 1.9996 - acc: 0.7422 - val_loss: 0.7989 - val_acc: 0.5862\n",
      "Epoch 13/300\n",
      "4/4 [==============================] - 4s 1s/step - loss: 1.7932 - acc: 0.7852 - val_loss: 0.8155 - val_acc: 0.5862\n",
      "Epoch 14/300\n",
      "4/4 [==============================] - 4s 1s/step - loss: 1.8137 - acc: 0.7852 - val_loss: 6.9146 - val_acc: 0.5517\n",
      "Epoch 15/300\n",
      "4/4 [==============================] - 4s 1s/step - loss: 2.5394 - acc: 0.7383 - val_loss: 6.9146 - val_acc: 0.5517\n",
      "Epoch 16/300\n",
      "4/4 [==============================] - 4s 1s/step - loss: 1.7466 - acc: 0.8008 - val_loss: 6.9146 - val_acc: 0.5517\n",
      "Epoch 17/300\n",
      "4/4 [==============================] - 4s 1s/step - loss: 2.0960 - acc: 0.8125 - val_loss: 6.9146 - val_acc: 0.5517\n",
      "Epoch 18/300\n",
      "4/4 [==============================] - 4s 1s/step - loss: 1.8895 - acc: 0.8242 - val_loss: 6.9146 - val_acc: 0.5517\n",
      "Epoch 19/300\n",
      "4/4 [==============================] - 4s 1s/step - loss: 1.7833 - acc: 0.8320 - val_loss: 6.9146 - val_acc: 0.5517\n",
      "Epoch 20/300\n",
      "4/4 [==============================] - 4s 1s/step - loss: 1.4439 - acc: 0.8359 - val_loss: 6.9146 - val_acc: 0.5517\n",
      "Epoch 21/300\n",
      "4/4 [==============================] - 4s 1s/step - loss: 1.5141 - acc: 0.8555 - val_loss: 6.9146 - val_acc: 0.5517\n",
      "Epoch 22/300\n",
      "4/4 [==============================] - 4s 1s/step - loss: 1.6517 - acc: 0.8125 - val_loss: 6.9146 - val_acc: 0.5517\n",
      "Epoch 23/300\n",
      "4/4 [==============================] - 4s 1s/step - loss: 1.7732 - acc: 0.8281 - val_loss: 6.9146 - val_acc: 0.5517\n",
      "Epoch 24/300\n",
      "4/4 [==============================] - 4s 1s/step - loss: 1.6296 - acc: 0.8594 - val_loss: 6.9146 - val_acc: 0.5517\n",
      "Epoch 25/300\n",
      "4/4 [==============================] - 4s 1s/step - loss: 1.6081 - acc: 0.8555 - val_loss: 6.9146 - val_acc: 0.5517\n",
      "Epoch 26/300\n",
      "4/4 [==============================] - 4s 1s/step - loss: 1.6418 - acc: 0.8711 - val_loss: 6.9146 - val_acc: 0.5517\n",
      "Epoch 27/300\n",
      "4/4 [==============================] - 4s 1s/step - loss: 1.4790 - acc: 0.8672 - val_loss: 6.9146 - val_acc: 0.5517\n",
      "Epoch 28/300\n",
      "4/4 [==============================] - 4s 1s/step - loss: 1.5212 - acc: 0.8438 - val_loss: 6.9146 - val_acc: 0.5517\n",
      "Epoch 29/300\n",
      "4/4 [==============================] - 4s 1s/step - loss: 1.0690 - acc: 0.8906 - val_loss: 6.9146 - val_acc: 0.5517\n",
      "Epoch 30/300\n",
      "4/4 [==============================] - 4s 1s/step - loss: 1.1425 - acc: 0.8828 - val_loss: 6.9146 - val_acc: 0.5517\n",
      "Epoch 31/300\n",
      "4/4 [==============================] - 4s 1s/step - loss: 1.3037 - acc: 0.8789 - val_loss: 6.9146 - val_acc: 0.5517\n",
      "Epoch 32/300\n",
      "4/4 [==============================] - 4s 1s/step - loss: 1.0448 - acc: 0.9062 - val_loss: 6.9146 - val_acc: 0.5517\n",
      "Epoch 33/300\n",
      "4/4 [==============================] - 4s 1s/step - loss: 0.8900 - acc: 0.8984 - val_loss: 6.9146 - val_acc: 0.5517\n",
      "Epoch 34/300\n",
      "4/4 [==============================] - 4s 1s/step - loss: 0.8945 - acc: 0.8672 - val_loss: 3.6300 - val_acc: 0.5517\n",
      "Epoch 35/300\n",
      "4/4 [==============================] - 4s 1s/step - loss: 0.8061 - acc: 0.8867 - val_loss: 4.1549 - val_acc: 0.5517\n",
      "Epoch 36/300\n",
      "4/4 [==============================] - 4s 1s/step - loss: 0.7194 - acc: 0.8906 - val_loss: 6.9146 - val_acc: 0.5517\n",
      "Epoch 37/300\n",
      "4/4 [==============================] - 4s 1s/step - loss: 0.9310 - acc: 0.8828 - val_loss: 6.9146 - val_acc: 0.5517\n",
      "Epoch 38/300\n",
      "4/4 [==============================] - 4s 1s/step - loss: 0.9276 - acc: 0.8750 - val_loss: 3.4740 - val_acc: 0.6897\n",
      "Epoch 39/300\n",
      "4/4 [==============================] - 4s 1s/step - loss: 0.7887 - acc: 0.8867 - val_loss: 4.5428 - val_acc: 0.5517\n",
      "Epoch 40/300\n",
      "4/4 [==============================] - 4s 1s/step - loss: 0.7682 - acc: 0.8945 - val_loss: 5.5067 - val_acc: 0.5517\n",
      "Epoch 41/300\n",
      "4/4 [==============================] - 4s 1s/step - loss: 0.4737 - acc: 0.8984 - val_loss: 6.9146 - val_acc: 0.5517\n",
      "Epoch 42/300\n",
      "4/4 [==============================] - 4s 1s/step - loss: 0.7969 - acc: 0.8984 - val_loss: 3.5313 - val_acc: 0.6207\n",
      "Epoch 43/300\n",
      "4/4 [==============================] - 4s 1s/step - loss: 0.5159 - acc: 0.9219 - val_loss: 5.9715 - val_acc: 0.5517\n",
      "Epoch 44/300\n",
      "4/4 [==============================] - 4s 1s/step - loss: 0.4930 - acc: 0.9219 - val_loss: 6.9146 - val_acc: 0.5517\n",
      "Epoch 45/300\n",
      "4/4 [==============================] - 4s 1s/step - loss: 0.3093 - acc: 0.9570 - val_loss: 6.9146 - val_acc: 0.5517\n",
      "Epoch 46/300\n",
      "4/4 [==============================] - 4s 1s/step - loss: 0.3813 - acc: 0.9492 - val_loss: 6.9146 - val_acc: 0.5517\n",
      "Epoch 47/300\n",
      "4/4 [==============================] - 4s 1s/step - loss: 0.6058 - acc: 0.8906 - val_loss: 6.9146 - val_acc: 0.5517\n",
      "Epoch 48/300\n",
      "4/4 [==============================] - 4s 1s/step - loss: 0.5542 - acc: 0.9102 - val_loss: 5.9888 - val_acc: 0.5517\n",
      "Epoch 49/300\n",
      "4/4 [==============================] - 4s 1s/step - loss: 0.6783 - acc: 0.8750 - val_loss: 6.9146 - val_acc: 0.5517\n",
      "Epoch 50/300\n",
      "4/4 [==============================] - 4s 1s/step - loss: 0.3170 - acc: 0.9648 - val_loss: 6.9146 - val_acc: 0.5517\n",
      "Epoch 51/300\n",
      "4/4 [==============================] - 4s 1s/step - loss: 0.2794 - acc: 0.9531 - val_loss: 6.9146 - val_acc: 0.5517\n",
      "Epoch 52/300\n",
      "4/4 [==============================] - 4s 1s/step - loss: 0.3336 - acc: 0.9531 - val_loss: 6.9146 - val_acc: 0.5517\n",
      "Epoch 53/300\n",
      "4/4 [==============================] - 4s 1s/step - loss: 0.3120 - acc: 0.9570 - val_loss: 6.9146 - val_acc: 0.5517\n",
      "Epoch 54/300\n",
      "4/4 [==============================] - 4s 1s/step - loss: 0.2983 - acc: 0.9570 - val_loss: 6.9146 - val_acc: 0.5517\n",
      "Epoch 55/300\n",
      "4/4 [==============================] - 4s 1s/step - loss: 0.3696 - acc: 0.9531 - val_loss: 6.9146 - val_acc: 0.5517\n",
      "Epoch 56/300\n",
      "4/4 [==============================] - 4s 1s/step - loss: 0.1605 - acc: 0.9844 - val_loss: 6.9146 - val_acc: 0.5517\n",
      "Epoch 57/300\n",
      "4/4 [==============================] - 4s 1s/step - loss: 0.1768 - acc: 0.9727 - val_loss: 6.9146 - val_acc: 0.5517\n",
      "Epoch 58/300\n",
      "4/4 [==============================] - 4s 1s/step - loss: 0.1500 - acc: 0.9883 - val_loss: 6.9146 - val_acc: 0.5517\n",
      "Epoch 59/300\n",
      "4/4 [==============================] - 4s 1s/step - loss: 0.2155 - acc: 0.9766 - val_loss: 6.9146 - val_acc: 0.5517\n",
      "Epoch 60/300\n",
      "4/4 [==============================] - 4s 1s/step - loss: 0.4556 - acc: 0.9414 - val_loss: 6.9146 - val_acc: 0.5517\n",
      "Epoch 61/300\n",
      "4/4 [==============================] - 4s 1s/step - loss: 0.1758 - acc: 0.9688 - val_loss: 6.9146 - val_acc: 0.5517\n",
      "Epoch 62/300\n",
      "4/4 [==============================] - 4s 1s/step - loss: 0.1867 - acc: 0.9688 - val_loss: 6.9146 - val_acc: 0.5517\n",
      "Epoch 63/300\n",
      "4/4 [==============================] - 4s 1s/step - loss: 0.3102 - acc: 0.9531 - val_loss: 6.4645 - val_acc: 0.5517\n",
      "Epoch 64/300\n",
      "4/4 [==============================] - 4s 1s/step - loss: 0.3767 - acc: 0.9531 - val_loss: 6.9146 - val_acc: 0.5517\n",
      "Epoch 65/300\n",
      "4/4 [==============================] - 4s 1s/step - loss: 0.1782 - acc: 0.9727 - val_loss: 6.9146 - val_acc: 0.5517\n",
      "Epoch 66/300\n",
      "4/4 [==============================] - 4s 1s/step - loss: 0.1372 - acc: 0.9922 - val_loss: 6.9146 - val_acc: 0.5517\n",
      "Epoch 67/300\n",
      "4/4 [==============================] - 4s 1s/step - loss: 0.1427 - acc: 0.9844 - val_loss: 6.9146 - val_acc: 0.5517\n",
      "Epoch 68/300\n",
      "4/4 [==============================] - 4s 1s/step - loss: 0.1022 - acc: 0.9883 - val_loss: 6.9146 - val_acc: 0.5517\n",
      "Epoch 69/300\n",
      "4/4 [==============================] - 4s 1s/step - loss: 0.1770 - acc: 0.9648 - val_loss: 6.9146 - val_acc: 0.5517\n",
      "Epoch 70/300\n",
      "4/4 [==============================] - 4s 1s/step - loss: 0.2580 - acc: 0.9336 - val_loss: 6.9146 - val_acc: 0.5517\n",
      "Epoch 71/300\n",
      "4/4 [==============================] - 4s 1s/step - loss: 0.1030 - acc: 0.9766 - val_loss: 6.9146 - val_acc: 0.5517\n",
      "Epoch 72/300\n",
      "4/4 [==============================] - 4s 1s/step - loss: 0.0276 - acc: 0.9961 - val_loss: 6.9146 - val_acc: 0.5517\n",
      "Epoch 73/300\n",
      "4/4 [==============================] - 4s 1s/step - loss: 0.1104 - acc: 0.9844 - val_loss: 6.9146 - val_acc: 0.5517\n",
      "Epoch 74/300\n",
      "4/4 [==============================] - 4s 1s/step - loss: 0.0322 - acc: 0.9883 - val_loss: 6.9146 - val_acc: 0.5517\n",
      "Epoch 75/300\n",
      "4/4 [==============================] - 4s 1s/step - loss: 0.0790 - acc: 0.9883 - val_loss: 6.9146 - val_acc: 0.5517\n",
      "Epoch 76/300\n",
      "4/4 [==============================] - 4s 1s/step - loss: 0.0738 - acc: 0.9922 - val_loss: 6.9146 - val_acc: 0.5517\n",
      "Epoch 77/300\n",
      "4/4 [==============================] - 4s 1s/step - loss: 0.0798 - acc: 0.9922 - val_loss: 6.9146 - val_acc: 0.5517\n",
      "Epoch 78/300\n",
      "4/4 [==============================] - 4s 1s/step - loss: 0.0674 - acc: 0.9961 - val_loss: 6.9146 - val_acc: 0.5517\n",
      "Epoch 79/300\n",
      "4/4 [==============================] - 4s 1s/step - loss: 0.0665 - acc: 0.9961 - val_loss: 6.9146 - val_acc: 0.5517\n",
      "Epoch 80/300\n",
      "4/4 [==============================] - 4s 1s/step - loss: 0.0791 - acc: 0.9883 - val_loss: 6.9146 - val_acc: 0.5517\n",
      "Epoch 81/300\n",
      "4/4 [==============================] - 4s 1s/step - loss: 0.0828 - acc: 0.9922 - val_loss: 6.9146 - val_acc: 0.5517\n",
      "Epoch 82/300\n",
      "4/4 [==============================] - 4s 1s/step - loss: 0.0736 - acc: 0.9844 - val_loss: 6.9146 - val_acc: 0.5517\n",
      "Epoch 83/300\n",
      "4/4 [==============================] - 4s 1s/step - loss: 0.1865 - acc: 0.9844 - val_loss: 6.9146 - val_acc: 0.5517\n",
      "Epoch 84/300\n",
      "4/4 [==============================] - 4s 1s/step - loss: 0.0675 - acc: 0.9961 - val_loss: 6.9146 - val_acc: 0.5517\n",
      "Epoch 85/300\n",
      "4/4 [==============================] - 4s 1s/step - loss: 0.1024 - acc: 0.9805 - val_loss: 6.9146 - val_acc: 0.5517\n",
      "Epoch 86/300\n",
      "4/4 [==============================] - 4s 1s/step - loss: 0.0794 - acc: 0.9883 - val_loss: 6.9146 - val_acc: 0.5517\n",
      "Epoch 87/300\n",
      "4/4 [==============================] - 4s 1s/step - loss: 0.1478 - acc: 0.9883 - val_loss: 6.9146 - val_acc: 0.5517\n",
      "Epoch 88/300\n",
      "4/4 [==============================] - 4s 1s/step - loss: 0.0687 - acc: 0.9961 - val_loss: 6.9146 - val_acc: 0.5517\n",
      "Epoch 89/300\n",
      "4/4 [==============================] - 4s 1s/step - loss: 0.0304 - acc: 0.9883 - val_loss: 6.9146 - val_acc: 0.5517\n",
      "Epoch 90/300\n",
      "4/4 [==============================] - 4s 1s/step - loss: 0.0668 - acc: 0.9961 - val_loss: 6.9146 - val_acc: 0.5517\n",
      "Epoch 91/300\n",
      "4/4 [==============================] - 4s 1s/step - loss: 0.0806 - acc: 0.9961 - val_loss: 6.9146 - val_acc: 0.5517\n",
      "Epoch 92/300\n",
      "4/4 [==============================] - 4s 1s/step - loss: 0.0729 - acc: 0.9961 - val_loss: 6.9146 - val_acc: 0.5517\n",
      "Epoch 93/300\n",
      "4/4 [==============================] - 4s 1s/step - loss: 0.0720 - acc: 0.9961 - val_loss: 6.9146 - val_acc: 0.5517\n",
      "Epoch 94/300\n",
      "4/4 [==============================] - 4s 1s/step - loss: 0.0698 - acc: 0.9922 - val_loss: 6.9146 - val_acc: 0.5517\n",
      "Epoch 95/300\n",
      "4/4 [==============================] - 4s 1s/step - loss: 0.1303 - acc: 0.9922 - val_loss: 6.9146 - val_acc: 0.5517\n",
      "Epoch 96/300\n",
      "4/4 [==============================] - 4s 1s/step - loss: 0.0652 - acc: 0.9961 - val_loss: 6.9146 - val_acc: 0.5517\n",
      "Epoch 97/300\n",
      "4/4 [==============================] - 4s 1s/step - loss: 0.0649 - acc: 0.9961 - val_loss: 6.9146 - val_acc: 0.5517\n",
      "Epoch 98/300\n",
      "4/4 [==============================] - 4s 1s/step - loss: 0.0629 - acc: 0.9961 - val_loss: 6.9146 - val_acc: 0.5517\n",
      "Epoch 99/300\n",
      "4/4 [==============================] - 4s 1s/step - loss: 0.0651 - acc: 0.9961 - val_loss: 6.9146 - val_acc: 0.5517\n",
      "Epoch 100/300\n",
      "4/4 [==============================] - 4s 1s/step - loss: 0.0680 - acc: 0.9961 - val_loss: 6.9146 - val_acc: 0.5517\n",
      "Epoch 101/300\n",
      "4/4 [==============================] - 4s 1s/step - loss: 0.0630 - acc: 0.9961 - val_loss: 6.9146 - val_acc: 0.5517\n",
      "Epoch 102/300\n",
      "4/4 [==============================] - 4s 1s/step - loss: 0.1078 - acc: 0.9766 - val_loss: 6.9146 - val_acc: 0.5517\n",
      "Epoch 103/300\n",
      "4/4 [==============================] - 4s 1s/step - loss: 0.0294 - acc: 0.9844 - val_loss: 6.9146 - val_acc: 0.5517\n",
      "Epoch 104/300\n",
      "4/4 [==============================] - 4s 1s/step - loss: 0.0984 - acc: 0.9883 - val_loss: 6.3850 - val_acc: 0.5862\n",
      "Epoch 105/300\n",
      "4/4 [==============================] - 4s 1s/step - loss: 0.0954 - acc: 0.9844 - val_loss: 6.4815 - val_acc: 0.5517\n",
      "Epoch 106/300\n",
      "4/4 [==============================] - 4s 1s/step - loss: 0.0710 - acc: 0.9922 - val_loss: 6.4711 - val_acc: 0.5517\n",
      "Epoch 107/300\n",
      "4/4 [==============================] - 4s 1s/step - loss: 0.0619 - acc: 0.9961 - val_loss: 6.9146 - val_acc: 0.5517\n",
      "Epoch 108/300\n",
      "4/4 [==============================] - 4s 1s/step - loss: 0.0847 - acc: 0.9922 - val_loss: 6.9146 - val_acc: 0.5517\n",
      "Epoch 109/300\n",
      "4/4 [==============================] - 4s 1s/step - loss: 0.0750 - acc: 0.9883 - val_loss: 6.9146 - val_acc: 0.5517\n",
      "Epoch 110/300\n",
      "4/4 [==============================] - 4s 1s/step - loss: 0.0606 - acc: 0.9961 - val_loss: 6.9146 - val_acc: 0.5517\n",
      "Epoch 111/300\n",
      "4/4 [==============================] - 4s 1s/step - loss: 0.2652 - acc: 0.9688 - val_loss: 6.9146 - val_acc: 0.5517\n",
      "Epoch 112/300\n",
      "4/4 [==============================] - 4s 1s/step - loss: 0.0668 - acc: 0.9961 - val_loss: 6.9146 - val_acc: 0.5517\n",
      "Epoch 113/300\n",
      "4/4 [==============================] - 4s 1s/step - loss: 0.0722 - acc: 0.9961 - val_loss: 6.9146 - val_acc: 0.5517\n",
      "Epoch 114/300\n",
      "4/4 [==============================] - 4s 1s/step - loss: 0.0628 - acc: 0.9961 - val_loss: 6.5795 - val_acc: 0.5517\n",
      "Epoch 115/300\n",
      "4/4 [==============================] - 4s 1s/step - loss: 0.0802 - acc: 0.9883 - val_loss: 6.4395 - val_acc: 0.5517\n",
      "Epoch 116/300\n",
      "4/4 [==============================] - 4s 1s/step - loss: 0.0265 - acc: 0.9844 - val_loss: 6.4237 - val_acc: 0.5517\n",
      "Epoch 117/300\n",
      "4/4 [==============================] - 4s 1s/step - loss: 0.0922 - acc: 0.9805 - val_loss: 6.9146 - val_acc: 0.5517\n",
      "Epoch 118/300\n",
      "4/4 [==============================] - 4s 1s/step - loss: 0.0048 - acc: 1.0000 - val_loss: 6.9146 - val_acc: 0.5517\n",
      "Epoch 119/300\n",
      "4/4 [==============================] - 4s 1s/step - loss: 0.0705 - acc: 0.9922 - val_loss: 6.9146 - val_acc: 0.5517\n",
      "Epoch 120/300\n",
      "4/4 [==============================] - 4s 1s/step - loss: 0.0064 - acc: 0.9961 - val_loss: 6.4478 - val_acc: 0.5517\n",
      "Epoch 121/300\n",
      "4/4 [==============================] - 4s 1s/step - loss: 0.0172 - acc: 1.0000 - val_loss: 6.4326 - val_acc: 0.5517\n",
      "Epoch 122/300\n",
      "4/4 [==============================] - 4s 1s/step - loss: 0.0115 - acc: 1.0000 - val_loss: 6.9146 - val_acc: 0.5517\n",
      "Epoch 123/300\n",
      "4/4 [==============================] - 4s 1s/step - loss: 0.0081 - acc: 0.9961 - val_loss: 5.9669 - val_acc: 0.5517\n",
      "Epoch 124/300\n",
      "4/4 [==============================] - 4s 1s/step - loss: 0.0059 - acc: 1.0000 - val_loss: 6.9146 - val_acc: 0.5517\n",
      "Epoch 125/300\n",
      "4/4 [==============================] - 4s 1s/step - loss: 0.0627 - acc: 0.9961 - val_loss: 5.8979 - val_acc: 0.5862\n",
      "Epoch 126/300\n",
      "4/4 [==============================] - 4s 1s/step - loss: 0.0070 - acc: 0.9961 - val_loss: 4.9315 - val_acc: 0.6207\n",
      "Epoch 127/300\n",
      "4/4 [==============================] - 4s 1s/step - loss: 0.0068 - acc: 1.0000 - val_loss: 5.8977 - val_acc: 0.5862\n",
      "Epoch 128/300\n",
      "4/4 [==============================] - 4s 1s/step - loss: 0.0684 - acc: 0.9961 - val_loss: 5.8827 - val_acc: 0.5862\n",
      "Epoch 129/300\n",
      "4/4 [==============================] - 4s 1s/step - loss: 0.0625 - acc: 0.9961 - val_loss: 5.9044 - val_acc: 0.5862\n",
      "Epoch 130/300\n",
      "4/4 [==============================] - 4s 1s/step - loss: 0.0672 - acc: 0.9922 - val_loss: 5.9511 - val_acc: 0.5862\n",
      "Epoch 131/300\n",
      "4/4 [==============================] - 4s 1s/step - loss: 0.0687 - acc: 0.9961 - val_loss: 4.9103 - val_acc: 0.6552\n",
      "Epoch 132/300\n",
      "4/4 [==============================] - 4s 1s/step - loss: 0.0629 - acc: 0.9961 - val_loss: 5.4546 - val_acc: 0.5862\n",
      "Epoch 133/300\n",
      "4/4 [==============================] - 4s 1s/step - loss: 0.0064 - acc: 1.0000 - val_loss: 3.9161 - val_acc: 0.6897\n",
      "Epoch 134/300\n",
      "4/4 [==============================] - 4s 1s/step - loss: 0.0838 - acc: 0.9844 - val_loss: 2.6755 - val_acc: 0.8276\n",
      "Epoch 135/300\n",
      "4/4 [==============================] - 4s 1s/step - loss: 0.0120 - acc: 0.9961 - val_loss: 2.1882 - val_acc: 0.8276\n",
      "Epoch 136/300\n",
      "4/4 [==============================] - 4s 1s/step - loss: 0.0607 - acc: 0.9961 - val_loss: 2.2038 - val_acc: 0.8276\n",
      "Epoch 137/300\n",
      "4/4 [==============================] - 4s 1s/step - loss: 0.0034 - acc: 1.0000 - val_loss: 2.1643 - val_acc: 0.8621\n",
      "Epoch 138/300\n",
      "4/4 [==============================] - 4s 1s/step - loss: 0.0026 - acc: 1.0000 - val_loss: 2.1596 - val_acc: 0.8621\n",
      "Epoch 139/300\n",
      "4/4 [==============================] - 4s 1s/step - loss: 0.0071 - acc: 1.0000 - val_loss: 2.2625 - val_acc: 0.8276\n",
      "Epoch 140/300\n",
      "4/4 [==============================] - 4s 1s/step - loss: 7.6751e-04 - acc: 1.0000 - val_loss: 2.6944 - val_acc: 0.8276\n",
      "Epoch 141/300\n",
      "4/4 [==============================] - 4s 1s/step - loss: 0.0096 - acc: 0.9961 - val_loss: 2.7266 - val_acc: 0.7931\n",
      "Epoch 142/300\n",
      "4/4 [==============================] - 4s 1s/step - loss: 0.0031 - acc: 1.0000 - val_loss: 2.7343 - val_acc: 0.7586\n",
      "Epoch 143/300\n",
      "4/4 [==============================] - 4s 1s/step - loss: 0.0020 - acc: 1.0000 - val_loss: 2.7464 - val_acc: 0.7586\n",
      "Epoch 144/300\n",
      "4/4 [==============================] - 4s 1s/step - loss: 8.8121e-04 - acc: 1.0000 - val_loss: 2.7738 - val_acc: 0.7241\n",
      "Epoch 145/300\n",
      "4/4 [==============================] - 4s 1s/step - loss: 0.0015 - acc: 1.0000 - val_loss: 2.2913 - val_acc: 0.7931\n",
      "Epoch 146/300\n",
      "4/4 [==============================] - 4s 1s/step - loss: 0.0621 - acc: 0.9961 - val_loss: 2.7437 - val_acc: 0.7586\n",
      "Epoch 147/300\n",
      "4/4 [==============================] - 4s 1s/step - loss: 1.0314e-04 - acc: 1.0000 - val_loss: 2.1892 - val_acc: 0.8276\n",
      "Epoch 148/300\n",
      "4/4 [==============================] - 4s 1s/step - loss: 0.0039 - acc: 0.9961 - val_loss: 2.7771 - val_acc: 0.7586\n",
      "Epoch 149/300\n",
      "4/4 [==============================] - 4s 1s/step - loss: 0.0022 - acc: 1.0000 - val_loss: 2.2519 - val_acc: 0.8276\n",
      "Epoch 150/300\n",
      "4/4 [==============================] - 4s 1s/step - loss: 0.0050 - acc: 0.9961 - val_loss: 2.2149 - val_acc: 0.8276\n",
      "Epoch 151/300\n",
      "4/4 [==============================] - 4s 1s/step - loss: 0.0646 - acc: 0.9961 - val_loss: 2.1535 - val_acc: 0.8621\n",
      "Epoch 152/300\n",
      "4/4 [==============================] - 4s 1s/step - loss: 0.0250 - acc: 0.9961 - val_loss: 2.6624 - val_acc: 0.8276\n",
      "Epoch 153/300\n",
      "4/4 [==============================] - 4s 1s/step - loss: 0.0120 - acc: 0.9922 - val_loss: 2.6828 - val_acc: 0.8276\n",
      "Epoch 154/300\n",
      "4/4 [==============================] - 4s 1s/step - loss: 0.0120 - acc: 0.9961 - val_loss: 2.2206 - val_acc: 0.7931\n",
      "Epoch 155/300\n",
      "4/4 [==============================] - 4s 1s/step - loss: 0.0049 - acc: 1.0000 - val_loss: 2.1919 - val_acc: 0.7931\n",
      "Epoch 156/300\n",
      "4/4 [==============================] - 4s 1s/step - loss: 0.0000e+00 - acc: 1.0000 - val_loss: 2.1774 - val_acc: 0.8276\n",
      "Epoch 157/300\n",
      "4/4 [==============================] - 4s 1s/step - loss: 0.0054 - acc: 0.9961 - val_loss: 2.1940 - val_acc: 0.8276\n",
      "Epoch 158/300\n",
      "4/4 [==============================] - 4s 1s/step - loss: 0.0268 - acc: 0.9883 - val_loss: 2.7212 - val_acc: 0.7931\n",
      "Epoch 159/300\n",
      "4/4 [==============================] - 4s 1s/step - loss: 0.0014 - acc: 1.0000 - val_loss: 2.2863 - val_acc: 0.7931\n",
      "Epoch 160/300\n",
      "4/4 [==============================] - 4s 1s/step - loss: 1.3911e-04 - acc: 1.0000 - val_loss: 2.2171 - val_acc: 0.8276\n",
      "Epoch 161/300\n",
      "4/4 [==============================] - 4s 1s/step - loss: 0.0077 - acc: 0.9961 - val_loss: 2.1662 - val_acc: 0.8276\n",
      "Epoch 162/300\n",
      "4/4 [==============================] - 4s 1s/step - loss: 2.2631e-04 - acc: 1.0000 - val_loss: 2.1580 - val_acc: 0.8621\n",
      "Epoch 163/300\n",
      "4/4 [==============================] - 4s 1s/step - loss: 0.0022 - acc: 1.0000 - val_loss: 2.1429 - val_acc: 0.8621\n",
      "Epoch 164/300\n",
      "4/4 [==============================] - 4s 1s/step - loss: 0.0028 - acc: 0.9961 - val_loss: 2.1392 - val_acc: 0.8621\n",
      "Epoch 165/300\n",
      "4/4 [==============================] - 4s 1s/step - loss: 0.0012 - acc: 1.0000 - val_loss: 1.6487 - val_acc: 0.8621\n",
      "Epoch 166/300\n",
      "4/4 [==============================] - 4s 1s/step - loss: 0.0042 - acc: 1.0000 - val_loss: 2.6853 - val_acc: 0.8276\n",
      "Epoch 167/300\n",
      "4/4 [==============================] - 4s 1s/step - loss: 0.0041 - acc: 1.0000 - val_loss: 2.2071 - val_acc: 0.8276\n",
      "Epoch 168/300\n",
      "4/4 [==============================] - 4s 1s/step - loss: 2.3704e-04 - acc: 1.0000 - val_loss: 2.1881 - val_acc: 0.8276\n",
      "Epoch 169/300\n",
      "4/4 [==============================] - 4s 1s/step - loss: 0.0019 - acc: 1.0000 - val_loss: 2.1551 - val_acc: 0.8621\n",
      "Epoch 170/300\n",
      "4/4 [==============================] - 4s 1s/step - loss: 0.0036 - acc: 1.0000 - val_loss: 2.1635 - val_acc: 0.8276\n",
      "Epoch 171/300\n",
      "4/4 [==============================] - 4s 1s/step - loss: 0.0000e+00 - acc: 1.0000 - val_loss: 2.1553 - val_acc: 0.8276\n",
      "Epoch 172/300\n",
      "4/4 [==============================] - 4s 1s/step - loss: 0.0066 - acc: 0.9961 - val_loss: 2.1436 - val_acc: 0.8621\n",
      "Epoch 173/300\n",
      "4/4 [==============================] - 4s 1s/step - loss: 0.0025 - acc: 1.0000 - val_loss: 2.2819 - val_acc: 0.7931\n",
      "Epoch 174/300\n",
      "4/4 [==============================] - 4s 1s/step - loss: 0.0015 - acc: 1.0000 - val_loss: 1.7203 - val_acc: 0.7931\n",
      "Epoch 175/300\n",
      "4/4 [==============================] - 4s 1s/step - loss: 0.0014 - acc: 1.0000 - val_loss: 1.7025 - val_acc: 0.7931\n",
      "Epoch 176/300\n",
      "4/4 [==============================] - 4s 1s/step - loss: 0.0089 - acc: 0.9961 - val_loss: 2.1559 - val_acc: 0.8621\n",
      "Epoch 177/300\n",
      "4/4 [==============================] - 4s 1s/step - loss: 0.0018 - acc: 1.0000 - val_loss: 1.6583 - val_acc: 0.8621\n",
      "Epoch 178/300\n",
      "4/4 [==============================] - 4s 1s/step - loss: 0.0022 - acc: 1.0000 - val_loss: 1.6094 - val_acc: 0.8966\n",
      "Epoch 179/300\n",
      "4/4 [==============================] - 4s 1s/step - loss: 3.6979e-04 - acc: 1.0000 - val_loss: 0.1569 - val_acc: 0.8966\n",
      "Epoch 180/300\n",
      "4/4 [==============================] - 4s 1s/step - loss: 0.0035 - acc: 1.0000 - val_loss: 1.1414 - val_acc: 0.8966\n",
      "Epoch 181/300\n",
      "4/4 [==============================] - 4s 1s/step - loss: 0.0000e+00 - acc: 1.0000 - val_loss: 1.1212 - val_acc: 0.8966\n",
      "Epoch 182/300\n",
      "4/4 [==============================] - 4s 1s/step - loss: 0.0051 - acc: 0.9961 - val_loss: 1.1170 - val_acc: 0.8966\n",
      "Epoch 183/300\n",
      "4/4 [==============================] - 4s 1s/step - loss: 0.0036 - acc: 1.0000 - val_loss: 0.0800 - val_acc: 0.9310\n",
      "Epoch 184/300\n",
      "4/4 [==============================] - 4s 1s/step - loss: 0.0064 - acc: 0.9961 - val_loss: 0.6237 - val_acc: 0.9310\n",
      "Epoch 185/300\n",
      "4/4 [==============================] - 4s 1s/step - loss: 0.0738 - acc: 0.9883 - val_loss: 1.6068 - val_acc: 0.8966\n",
      "Epoch 186/300\n",
      "4/4 [==============================] - 4s 1s/step - loss: 0.0000e+00 - acc: 1.0000 - val_loss: 1.6036 - val_acc: 0.8966\n",
      "Epoch 187/300\n",
      "4/4 [==============================] - 4s 1s/step - loss: 0.0140 - acc: 0.9961 - val_loss: 1.6398 - val_acc: 0.8621\n",
      "Epoch 188/300\n",
      "4/4 [==============================] - 4s 1s/step - loss: 0.0059 - acc: 0.9961 - val_loss: 1.6158 - val_acc: 0.8966\n",
      "Epoch 189/300\n",
      "4/4 [==============================] - 4s 1s/step - loss: 0.0010 - acc: 1.0000 - val_loss: 1.6157 - val_acc: 0.8966\n",
      "Epoch 190/300\n",
      "4/4 [==============================] - 4s 1s/step - loss: 0.0000e+00 - acc: 1.0000 - val_loss: 1.6115 - val_acc: 0.8966\n",
      "Epoch 191/300\n",
      "4/4 [==============================] - 4s 1s/step - loss: 0.0025 - acc: 1.0000 - val_loss: 1.6153 - val_acc: 0.8966\n",
      "Epoch 192/300\n",
      "4/4 [==============================] - 4s 1s/step - loss: 0.0241 - acc: 0.9961 - val_loss: 0.6834 - val_acc: 0.8621\n",
      "Epoch 193/300\n",
      "4/4 [==============================] - 4s 1s/step - loss: 0.0068 - acc: 0.9961 - val_loss: 1.2009 - val_acc: 0.8966\n",
      "Epoch 194/300\n",
      "4/4 [==============================] - 4s 1s/step - loss: 0.0054 - acc: 0.9961 - val_loss: 1.1415 - val_acc: 0.8966\n",
      "Epoch 195/300\n",
      "4/4 [==============================] - 4s 1s/step - loss: 0.0017 - acc: 1.0000 - val_loss: 1.6042 - val_acc: 0.8966\n",
      "Epoch 196/300\n",
      "4/4 [==============================] - 4s 1s/step - loss: 0.0032 - acc: 1.0000 - val_loss: 1.6106 - val_acc: 0.8966\n",
      "Epoch 197/300\n",
      "4/4 [==============================] - 4s 1s/step - loss: 0.0016 - acc: 1.0000 - val_loss: 1.6027 - val_acc: 0.8966\n",
      "Epoch 198/300\n",
      "4/4 [==============================] - 4s 1s/step - loss: 3.4767e-04 - acc: 1.0000 - val_loss: 1.6150 - val_acc: 0.8966\n",
      "Epoch 199/300\n",
      "4/4 [==============================] - 4s 1s/step - loss: 0.0017 - acc: 1.0000 - val_loss: 0.1334 - val_acc: 0.9310\n",
      "Epoch 200/300\n",
      "4/4 [==============================] - 4s 1s/step - loss: 0.0089 - acc: 0.9961 - val_loss: 1.6089 - val_acc: 0.8966\n",
      "Epoch 201/300\n",
      "4/4 [==============================] - 4s 1s/step - loss: 0.0054 - acc: 0.9961 - val_loss: 0.0000e+00 - val_acc: 1.0000\n",
      "Epoch 202/300\n",
      "4/4 [==============================] - 4s 1s/step - loss: 0.0023 - acc: 1.0000 - val_loss: 0.0000e+00 - val_acc: 1.0000\n",
      "Epoch 203/300\n",
      "4/4 [==============================] - 4s 1s/step - loss: 0.0000e+00 - acc: 1.0000 - val_loss: 0.0000e+00 - val_acc: 1.0000\n",
      "Epoch 204/300\n",
      "4/4 [==============================] - 4s 1s/step - loss: 0.0015 - acc: 1.0000 - val_loss: 0.0020 - val_acc: 1.0000\n",
      "Epoch 205/300\n",
      "4/4 [==============================] - 4s 1s/step - loss: 5.3028e-04 - acc: 1.0000 - val_loss: 0.0080 - val_acc: 1.0000\n",
      "Epoch 206/300\n",
      "4/4 [==============================] - 4s 1s/step - loss: 0.0016 - acc: 1.0000 - val_loss: 0.0000e+00 - val_acc: 1.0000\n",
      "Epoch 207/300\n",
      "4/4 [==============================] - 4s 1s/step - loss: 0.0015 - acc: 1.0000 - val_loss: 0.0000e+00 - val_acc: 1.0000\n",
      "Epoch 208/300\n",
      "4/4 [==============================] - 4s 1s/step - loss: 0.0065 - acc: 1.0000 - val_loss: 0.0000e+00 - val_acc: 1.0000\n",
      "Epoch 209/300\n",
      "4/4 [==============================] - 4s 1s/step - loss: 0.0033 - acc: 0.9961 - val_loss: 0.0055 - val_acc: 1.0000\n",
      "Epoch 210/300\n",
      "4/4 [==============================] - 4s 1s/step - loss: 0.0013 - acc: 1.0000 - val_loss: 0.0092 - val_acc: 1.0000\n",
      "Epoch 211/300\n",
      "4/4 [==============================] - 4s 1s/step - loss: 0.0106 - acc: 0.9922 - val_loss: 0.6383 - val_acc: 0.9310\n",
      "Epoch 212/300\n",
      "4/4 [==============================] - 4s 1s/step - loss: 0.0096 - acc: 0.9961 - val_loss: 0.0000e+00 - val_acc: 1.0000\n",
      "Epoch 213/300\n",
      "4/4 [==============================] - 4s 1s/step - loss: 2.6398e-06 - acc: 1.0000 - val_loss: 0.0000e+00 - val_acc: 1.0000\n",
      "Epoch 214/300\n",
      "4/4 [==============================] - 4s 1s/step - loss: 0.0000e+00 - acc: 1.0000 - val_loss: 0.0000e+00 - val_acc: 1.0000\n",
      "Epoch 215/300\n",
      "4/4 [==============================] - 4s 1s/step - loss: 6.9677e-05 - acc: 1.0000 - val_loss: 0.0000e+00 - val_acc: 1.0000\n",
      "Epoch 216/300\n",
      "4/4 [==============================] - 4s 1s/step - loss: 0.0033 - acc: 1.0000 - val_loss: 0.0000e+00 - val_acc: 1.0000\n",
      "Epoch 217/300\n",
      "4/4 [==============================] - 4s 1s/step - loss: 0.0025 - acc: 1.0000 - val_loss: 0.0000e+00 - val_acc: 1.0000\n",
      "Epoch 218/300\n",
      "4/4 [==============================] - 4s 1s/step - loss: 0.0000e+00 - acc: 1.0000 - val_loss: 0.0000e+00 - val_acc: 1.0000\n",
      "Epoch 219/300\n",
      "4/4 [==============================] - 4s 1s/step - loss: 0.0043 - acc: 1.0000 - val_loss: 0.0125 - val_acc: 1.0000\n",
      "Epoch 220/300\n",
      "4/4 [==============================] - 4s 1s/step - loss: 0.0622 - acc: 0.9961 - val_loss: 0.0000e+00 - val_acc: 1.0000\n",
      "Epoch 221/300\n",
      "4/4 [==============================] - 4s 1s/step - loss: 0.0039 - acc: 0.9961 - val_loss: 0.0000e+00 - val_acc: 1.0000\n",
      "Epoch 222/300\n",
      "4/4 [==============================] - 4s 1s/step - loss: 0.0081 - acc: 0.9961 - val_loss: 0.0000e+00 - val_acc: 1.0000\n",
      "Epoch 223/300\n",
      "4/4 [==============================] - 4s 1s/step - loss: 0.0019 - acc: 1.0000 - val_loss: 0.0057 - val_acc: 1.0000\n",
      "Epoch 224/300\n",
      "4/4 [==============================] - 4s 1s/step - loss: 0.0013 - acc: 1.0000 - val_loss: 0.0153 - val_acc: 1.0000\n",
      "Epoch 225/300\n",
      "4/4 [==============================] - 4s 1s/step - loss: 4.7623e-04 - acc: 1.0000 - val_loss: 0.0000e+00 - val_acc: 1.0000\n",
      "Epoch 226/300\n",
      "4/4 [==============================] - 4s 1s/step - loss: 0.0016 - acc: 1.0000 - val_loss: 0.0000e+00 - val_acc: 1.0000\n",
      "Epoch 227/300\n",
      "4/4 [==============================] - 4s 1s/step - loss: 0.0039 - acc: 0.9961 - val_loss: 0.0000e+00 - val_acc: 1.0000\n",
      "Epoch 228/300\n",
      "4/4 [==============================] - 4s 1s/step - loss: 0.0000e+00 - acc: 1.0000 - val_loss: 0.0000e+00 - val_acc: 1.0000\n",
      "Epoch 229/300\n",
      "4/4 [==============================] - 4s 1s/step - loss: 0.0000e+00 - acc: 1.0000 - val_loss: 0.0000e+00 - val_acc: 1.0000\n",
      "Epoch 230/300\n",
      "4/4 [==============================] - 4s 1s/step - loss: 0.0121 - acc: 0.9922 - val_loss: 0.0018 - val_acc: 1.0000\n",
      "Epoch 231/300\n",
      "4/4 [==============================] - 4s 1s/step - loss: 0.0016 - acc: 1.0000 - val_loss: 0.0000e+00 - val_acc: 1.0000\n",
      "Epoch 232/300\n",
      "4/4 [==============================] - 4s 1s/step - loss: 0.0000e+00 - acc: 1.0000 - val_loss: 0.0000e+00 - val_acc: 1.0000\n",
      "Epoch 233/300\n",
      "4/4 [==============================] - 4s 1s/step - loss: 0.0052 - acc: 1.0000 - val_loss: 0.0000e+00 - val_acc: 1.0000\n",
      "Epoch 234/300\n",
      "4/4 [==============================] - 4s 1s/step - loss: 0.0000e+00 - acc: 1.0000 - val_loss: 0.0000e+00 - val_acc: 1.0000\n",
      "Epoch 235/300\n",
      "4/4 [==============================] - 4s 1s/step - loss: 2.2807e-05 - acc: 1.0000 - val_loss: 0.0000e+00 - val_acc: 1.0000\n",
      "Epoch 236/300\n",
      "4/4 [==============================] - 4s 1s/step - loss: 0.0030 - acc: 0.9961 - val_loss: 0.0000e+00 - val_acc: 1.0000\n",
      "Epoch 237/300\n",
      "4/4 [==============================] - 4s 1s/step - loss: 0.0043 - acc: 0.9961 - val_loss: 0.0000e+00 - val_acc: 1.0000\n",
      "Epoch 238/300\n",
      "4/4 [==============================] - 4s 1s/step - loss: 5.4290e-04 - acc: 1.0000 - val_loss: 0.0000e+00 - val_acc: 1.0000\n",
      "Epoch 239/300\n",
      "4/4 [==============================] - 4s 1s/step - loss: 2.6398e-04 - acc: 1.0000 - val_loss: 0.0000e+00 - val_acc: 1.0000\n",
      "Epoch 240/300\n",
      "4/4 [==============================] - 4s 1s/step - loss: 0.0013 - acc: 1.0000 - val_loss: 0.0000e+00 - val_acc: 1.0000\n",
      "Epoch 241/300\n",
      "4/4 [==============================] - 4s 1s/step - loss: 0.0000e+00 - acc: 1.0000 - val_loss: 0.0000e+00 - val_acc: 1.0000\n",
      "Epoch 242/300\n",
      "4/4 [==============================] - 4s 1s/step - loss: 0.0000e+00 - acc: 1.0000 - val_loss: 0.0000e+00 - val_acc: 1.0000\n",
      "Epoch 243/300\n",
      "4/4 [==============================] - 4s 1s/step - loss: 4.8349e-04 - acc: 1.0000 - val_loss: 0.0000e+00 - val_acc: 1.0000\n",
      "Epoch 244/300\n",
      "4/4 [==============================] - 4s 1s/step - loss: 0.0000e+00 - acc: 1.0000 - val_loss: 0.0000e+00 - val_acc: 1.0000\n",
      "Epoch 245/300\n",
      "4/4 [==============================] - 4s 1s/step - loss: 0.0043 - acc: 1.0000 - val_loss: 0.0040 - val_acc: 1.0000\n",
      "Epoch 246/300\n",
      "4/4 [==============================] - 4s 1s/step - loss: 0.0000e+00 - acc: 1.0000 - val_loss: 0.0035 - val_acc: 1.0000\n",
      "Epoch 247/300\n",
      "4/4 [==============================] - 4s 1s/step - loss: 0.0042 - acc: 0.9961 - val_loss: 0.0099 - val_acc: 1.0000\n",
      "Epoch 248/300\n",
      "4/4 [==============================] - 4s 1s/step - loss: 0.0025 - acc: 1.0000 - val_loss: 0.0057 - val_acc: 1.0000\n",
      "Epoch 249/300\n",
      "4/4 [==============================] - 4s 1s/step - loss: 0.0167 - acc: 0.9922 - val_loss: 0.7612 - val_acc: 0.9310\n",
      "Epoch 250/300\n",
      "4/4 [==============================] - 4s 1s/step - loss: 0.0040 - acc: 1.0000 - val_loss: 0.5696 - val_acc: 0.9310\n",
      "Epoch 251/300\n",
      "4/4 [==============================] - 4s 1s/step - loss: 0.0010 - acc: 1.0000 - val_loss: 0.1610 - val_acc: 0.9310\n",
      "Epoch 252/300\n",
      "4/4 [==============================] - 4s 1s/step - loss: 1.1080e-04 - acc: 1.0000 - val_loss: 0.1013 - val_acc: 0.9655\n",
      "Epoch 253/300\n",
      "4/4 [==============================] - 4s 1s/step - loss: 0.0000e+00 - acc: 1.0000 - val_loss: 0.0890 - val_acc: 0.9655\n",
      "Epoch 254/300\n",
      "4/4 [==============================] - 4s 1s/step - loss: 0.0000e+00 - acc: 1.0000 - val_loss: 0.0793 - val_acc: 0.9655\n",
      "Epoch 255/300\n",
      "4/4 [==============================] - 4s 1s/step - loss: 0.0000e+00 - acc: 1.0000 - val_loss: 0.0720 - val_acc: 0.9655\n",
      "Epoch 256/300\n",
      "4/4 [==============================] - 4s 1s/step - loss: 0.0000e+00 - acc: 1.0000 - val_loss: 0.0656 - val_acc: 0.9655\n",
      "Epoch 257/300\n",
      "4/4 [==============================] - 4s 1s/step - loss: 4.6013e-04 - acc: 1.0000 - val_loss: 0.1043 - val_acc: 0.9655\n",
      "Epoch 258/300\n",
      "4/4 [==============================] - 4s 1s/step - loss: 5.1028e-04 - acc: 1.0000 - val_loss: 0.0000e+00 - val_acc: 1.0000\n",
      "Epoch 259/300\n",
      "4/4 [==============================] - 4s 1s/step - loss: 7.0440e-04 - acc: 1.0000 - val_loss: 0.0000e+00 - val_acc: 1.0000\n",
      "Epoch 260/300\n",
      "4/4 [==============================] - 4s 1s/step - loss: 0.0065 - acc: 0.9961 - val_loss: 0.0000e+00 - val_acc: 1.0000\n",
      "Epoch 261/300\n",
      "4/4 [==============================] - 4s 1s/step - loss: 0.0000e+00 - acc: 1.0000 - val_loss: 0.0000e+00 - val_acc: 1.0000\n",
      "Epoch 262/300\n",
      "4/4 [==============================] - 4s 1s/step - loss: 5.2771e-04 - acc: 1.0000 - val_loss: 0.0000e+00 - val_acc: 1.0000\n",
      "Epoch 263/300\n",
      "4/4 [==============================] - 4s 1s/step - loss: 3.5936e-04 - acc: 1.0000 - val_loss: 0.0000e+00 - val_acc: 1.0000\n",
      "Epoch 264/300\n",
      "4/4 [==============================] - 4s 1s/step - loss: 0.0000e+00 - acc: 1.0000 - val_loss: 0.0000e+00 - val_acc: 1.0000\n",
      "Epoch 265/300\n",
      "4/4 [==============================] - 4s 1s/step - loss: 0.0000e+00 - acc: 1.0000 - val_loss: 0.0000e+00 - val_acc: 1.0000\n",
      "Epoch 266/300\n",
      "4/4 [==============================] - 4s 1s/step - loss: 0.0021 - acc: 1.0000 - val_loss: 0.0000e+00 - val_acc: 1.0000\n",
      "Epoch 267/300\n",
      "4/4 [==============================] - 4s 1s/step - loss: 9.3596e-05 - acc: 1.0000 - val_loss: 0.0000e+00 - val_acc: 1.0000\n",
      "Epoch 268/300\n",
      "4/4 [==============================] - 4s 1s/step - loss: 0.0165 - acc: 0.9961 - val_loss: 0.0000e+00 - val_acc: 1.0000\n",
      "Epoch 269/300\n",
      "4/4 [==============================] - 4s 1s/step - loss: 0.0013 - acc: 1.0000 - val_loss: 0.0000e+00 - val_acc: 1.0000\n",
      "Epoch 270/300\n",
      "4/4 [==============================] - 4s 1s/step - loss: 0.0076 - acc: 0.9961 - val_loss: 0.0000e+00 - val_acc: 1.0000\n",
      "Epoch 271/300\n",
      "4/4 [==============================] - 4s 1s/step - loss: 0.0050 - acc: 1.0000 - val_loss: 0.0011 - val_acc: 1.0000\n",
      "Epoch 272/300\n",
      "4/4 [==============================] - 4s 1s/step - loss: 0.0024 - acc: 1.0000 - val_loss: 0.0067 - val_acc: 1.0000\n",
      "Epoch 273/300\n",
      "4/4 [==============================] - 4s 1s/step - loss: 0.0000e+00 - acc: 1.0000 - val_loss: 0.0050 - val_acc: 1.0000\n",
      "Epoch 274/300\n",
      "4/4 [==============================] - 4s 1s/step - loss: 0.0068 - acc: 0.9961 - val_loss: 0.0000e+00 - val_acc: 1.0000\n",
      "Epoch 275/300\n",
      "4/4 [==============================] - 4s 1s/step - loss: 5.3704e-04 - acc: 1.0000 - val_loss: 0.0043 - val_acc: 1.0000\n",
      "Epoch 276/300\n",
      "4/4 [==============================] - 4s 1s/step - loss: 0.0035 - acc: 1.0000 - val_loss: 0.0050 - val_acc: 1.0000\n",
      "Epoch 277/300\n",
      "4/4 [==============================] - 4s 1s/step - loss: 0.0014 - acc: 1.0000 - val_loss: 0.0053 - val_acc: 1.0000\n",
      "Epoch 278/300\n",
      "4/4 [==============================] - 4s 1s/step - loss: 0.0000e+00 - acc: 1.0000 - val_loss: 0.0030 - val_acc: 1.0000\n",
      "Epoch 279/300\n",
      "4/4 [==============================] - 4s 1s/step - loss: 0.0015 - acc: 1.0000 - val_loss: 0.0010 - val_acc: 1.0000\n",
      "Epoch 280/300\n",
      "4/4 [==============================] - 4s 1s/step - loss: 5.1280e-05 - acc: 1.0000 - val_loss: 0.0118 - val_acc: 1.0000\n",
      "Epoch 281/300\n",
      "4/4 [==============================] - 4s 1s/step - loss: 2.5264e-05 - acc: 1.0000 - val_loss: 0.0095 - val_acc: 1.0000\n",
      "Epoch 282/300\n",
      "4/4 [==============================] - 4s 1s/step - loss: 0.0000e+00 - acc: 1.0000 - val_loss: 0.0081 - val_acc: 1.0000\n",
      "Epoch 283/300\n",
      "4/4 [==============================] - 4s 1s/step - loss: 0.0000e+00 - acc: 1.0000 - val_loss: 0.0069 - val_acc: 1.0000\n",
      "Epoch 284/300\n",
      "4/4 [==============================] - 4s 1s/step - loss: 0.0000e+00 - acc: 1.0000 - val_loss: 0.0059 - val_acc: 1.0000\n",
      "Epoch 285/300\n",
      "4/4 [==============================] - 4s 1s/step - loss: 0.0000e+00 - acc: 1.0000 - val_loss: 0.0048 - val_acc: 1.0000\n",
      "Epoch 286/300\n",
      "4/4 [==============================] - 4s 1s/step - loss: 0.0000e+00 - acc: 1.0000 - val_loss: 0.0038 - val_acc: 1.0000\n",
      "Epoch 287/300\n",
      "4/4 [==============================] - 4s 1s/step - loss: 2.7683e-04 - acc: 1.0000 - val_loss: 0.0000e+00 - val_acc: 1.0000\n",
      "Epoch 288/300\n",
      "4/4 [==============================] - 4s 1s/step - loss: 0.0039 - acc: 0.9961 - val_loss: 0.0062 - val_acc: 1.0000\n",
      "Epoch 289/300\n",
      "4/4 [==============================] - 4s 1s/step - loss: 0.0000e+00 - acc: 1.0000 - val_loss: 0.0051 - val_acc: 1.0000\n",
      "Epoch 290/300\n",
      "4/4 [==============================] - 4s 1s/step - loss: 7.4218e-04 - acc: 1.0000 - val_loss: 0.0000e+00 - val_acc: 1.0000\n",
      "Epoch 291/300\n",
      "4/4 [==============================] - 4s 1s/step - loss: 0.0022 - acc: 1.0000 - val_loss: 0.0144 - val_acc: 1.0000\n",
      "Epoch 292/300\n",
      "4/4 [==============================] - 4s 1s/step - loss: 0.0596 - acc: 0.9961 - val_loss: 0.0122 - val_acc: 1.0000\n",
      "Epoch 293/300\n",
      "4/4 [==============================] - 4s 1s/step - loss: 0.0014 - acc: 1.0000 - val_loss: 0.0075 - val_acc: 1.0000\n",
      "Epoch 294/300\n",
      "4/4 [==============================] - 4s 1s/step - loss: 0.0040 - acc: 0.9961 - val_loss: 0.0000e+00 - val_acc: 1.0000\n",
      "Epoch 295/300\n",
      "4/4 [==============================] - 4s 1s/step - loss: 0.0202 - acc: 0.9922 - val_loss: 0.0000e+00 - val_acc: 1.0000\n",
      "Epoch 296/300\n",
      "4/4 [==============================] - 4s 1s/step - loss: 0.0607 - acc: 0.9961 - val_loss: 0.0000e+00 - val_acc: 1.0000\n",
      "Epoch 297/300\n",
      "4/4 [==============================] - 4s 1s/step - loss: 3.4106e-04 - acc: 1.0000 - val_loss: 0.0000e+00 - val_acc: 1.0000\n",
      "Epoch 298/300\n",
      "4/4 [==============================] - 4s 1s/step - loss: 0.0038 - acc: 1.0000 - val_loss: 0.0000e+00 - val_acc: 1.0000\n",
      "Epoch 299/300\n",
      "4/4 [==============================] - 4s 1s/step - loss: 1.6283e-04 - acc: 1.0000 - val_loss: 0.0000e+00 - val_acc: 1.0000\n",
      "Epoch 300/300\n",
      "4/4 [==============================] - 4s 1s/step - loss: 0.0017 - acc: 1.0000 - val_loss: 0.0000e+00 - val_acc: 1.0000\n"
     ]
    }
   ],
   "source": [
    "history = model.fit(X_train, \n",
    "                         y_train, \n",
    "                         batch_size = 64, \n",
    "                         verbose = 1, \n",
    "                         epochs = 300,      \n",
    "                         validation_split= 0.1,\n",
    "                         shuffle = True\n",
    "                     )\n",
    "\n",
    "\n",
    "model.save('semiconductor_model3_128_300epochs_2.h5')  "
   ]
  },
  {
   "cell_type": "code",
   "execution_count": null,
   "metadata": {
    "colab": {
     "base_uri": "https://localhost:8080/",
     "height": 922
    },
    "id": "rqcOIASqc9-l",
    "outputId": "9dab4020-1109-4594-cc9e-e2c2f66d2f87"
   },
   "outputs": [
    {
     "data": {
      "image/png": "[encoded data removed]",
      "text/plain": [
       "<Figure size 640x480 with 1 Axes>"
      ]
     },
     "metadata": {
      "tags": []
     },
     "output_type": "display_data"
    },
    {
     "data": {
      "image/png": "[encoded data removed]",
      "text/plain": [
       "<Figure size 640x480 with 1 Axes>"
      ]
     },
     "metadata": {
      "tags": []
     },
     "output_type": "display_data"
    }
   ],
   "source": [
    "\n",
    "#plot the training and validation accuracy and loss at each epoch\n",
    "loss = history.history['loss']\n",
    "val_loss = history.history['val_loss']\n",
    "epochs = range(1, len(loss) + 1)\n",
    "plt.plot(epochs, loss, 'y', label='Training loss')\n",
    "plt.plot(epochs, val_loss, 'r', label='Validation loss')\n",
    "plt.title('Training and validation loss')\n",
    "plt.xlabel('Epochs')\n",
    "plt.ylabel('Loss')\n",
    "plt.legend()\n",
    "plt.show()\n",
    "\n",
    "acc = history.history['acc']\n",
    "val_acc = history.history['val_acc']\n",
    "plt.plot(epochs, acc, 'y', label='Training acc')\n",
    "plt.plot(epochs, val_acc, 'r', label='Validation acc')\n",
    "plt.title('Training and validation accuracy')\n",
    "plt.xlabel('Epochs')\n",
    "plt.ylabel('Accuracy')\n",
    "plt.legend()\n",
    "plt.show()"
   ]
  },
  {
   "cell_type": "code",
   "execution_count": null,
   "metadata": {
    "colab": {
     "base_uri": "https://localhost:8080/",
     "height": 455
    },
    "id": "kuvrR6Kjc-BJ",
    "outputId": "83b41409-51cb-4806-ff48-bd82caca2102"
   },
   "outputs": [
    {
     "data": {
      "text/plain": [
       "<matplotlib.image.AxesImage at 0x7f5a8c2dc0d0>"
      ]
     },
     "execution_count": 35,
     "metadata": {
      "tags": []
     },
     "output_type": "execute_result"
    },
    {
     "data": {
      "image/png": "[encoded data removed]",
      "text/plain": [
       "<Figure size 640x480 with 1 Axes>"
      ]
     },
     "metadata": {
      "tags": []
     },
     "output_type": "display_data"
    }
   ],
   "source": [
    "n=23  #Select the index of image to be loaded for testing\n",
    "img = X_test[n]\n",
    "plt.imshow(tf.squeeze(img) )"
   ]
  },
  {
   "cell_type": "code",
   "execution_count": null,
   "metadata": {
    "colab": {
     "base_uri": "https://localhost:8080/"
    },
    "id": "ewL_f98hc-D1",
    "outputId": "0c2d4e6b-b876-40c2-d6fd-8711535572ef"
   },
   "outputs": [
    {
     "name": "stdout",
     "output_type": "stream",
     "text": [
      "The prediction for this image is:  [[-1.0886319]]\n",
      "The actual label for this image is:  [0]\n"
     ]
    }
   ],
   "source": [
    "input_img = np.expand_dims(img, axis=0) #Expand dims so the input is (num images, x, y, c)\n",
    "print(\"The prediction for this image is: \", model.predict(input_img))\n",
    "print(\"The actual label for this image is: \", y_test[n])"
   ]
  },
  {
   "cell_type": "code",
   "execution_count": null,
   "metadata": {
    "id": "dxFIBrI7dg-q"
   },
   "outputs": [],
   "source": [
    "from keras.models import load_model\n",
    "# # load model\n",
    "model = load_model('semiconductor_model3_128_300epochs_2.h5')\n",
    "\n"
   ]
  },
  {
   "cell_type": "code",
   "execution_count": null,
   "metadata": {
    "colab": {
     "base_uri": "https://localhost:8080/"
    },
    "id": "xAZY6ht2dg7i",
    "outputId": "7f095e5a-f0b0-41f1-f0b3-136b66ca7e09"
   },
   "outputs": [
    {
     "name": "stdout",
     "output_type": "stream",
     "text": [
      "3/3 [==============================] - 1s 83ms/step - loss: 0.9225 - acc: 0.9306\n",
      "Accuracy =  93.05555820465088 %\n"
     ]
    }
   ],
   "source": [
    "\n",
    "_, acc = model.evaluate(X_test, y_test)\n",
    "print(\"Accuracy = \", (acc * 100.0), \"%\")"
   ]
  },
  {
   "cell_type": "code",
   "execution_count": null,
   "metadata": {
    "id": "BhNFdNARdg0y"
   },
   "outputs": [],
   "source": []
  },
  {
   "cell_type": "code",
   "execution_count": null,
   "metadata": {
    "id": "Yh-AkEbMdgxl"
   },
   "outputs": [],
   "source": []
  },
  {
   "cell_type": "code",
   "execution_count": null,
   "metadata": {
    "id": "0FEXxe6Ddguz"
   },
   "outputs": [],
   "source": []
  }
 ],
 "metadata": {
  "colab": {
   "authorship_tag": "ABX9TyNhwqfjJDWa+WGX0EVEK+wA",
   "collapsed_sections": [],
   "include_colab_link": true,
   "name": "Test_3_128.ipynb",
   "provenance": []
  },
  "kernelspec": {
   "display_name": "Python 3",
   "language": "python",
   "name": "python3"
  },
  "language_info": {
   "codemirror_mode": {
    "name": "ipython",
    "version": 3
   },
   "file_extension": ".py",
   "mimetype": "text/x-python",
   "name": "python",
   "nbconvert_exporter": "python",
   "pygments_lexer": "ipython3",
   "version": "3.8.3"
  }
 },
 "nbformat": 4,
 "nbformat_minor": 4
}
