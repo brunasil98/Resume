{
 "cells": [
  {
   "cell_type": "markdown",
   "metadata": {
    "colab_type": "text",
    "id": "view-in-github"
   },
   "source": [
    "<a href=\"https://colab.research.google.com/github/brunasil98/Colab_Semiconductor/blob/main/Test_2.ipynb\" target=\"_parent\"><img src=\"https://colab.research.google.com/assets/colab-badge.svg\" alt=\"Open In Colab\"/></a>"
   ]
  },
  {
   "cell_type": "code",
   "execution_count": null,
   "metadata": {
    "colab": {
     "base_uri": "https://localhost:8080/"
    },
    "id": "zxekphtNyO0P",
    "outputId": "565c9ce2-01ed-4535-c9e6-4ef59d0af5db"
   },
   "outputs": [
    {
     "name": "stdout",
     "output_type": "stream",
     "text": [
      "Drive already mounted at /content/drive; to attempt to forcibly remount, call drive.mount(\"/content/drive\", force_remount=True).\n"
     ]
    }
   ],
   "source": [
    "from google.colab import drive\n",
    "drive.mount('/content/drive')"
   ]
  },
  {
   "cell_type": "code",
   "execution_count": null,
   "metadata": {
    "id": "VWeCMJu8yQSt"
   },
   "outputs": [],
   "source": [
    "import matplotlib.pyplot as plt\n",
    "import matplotlib.image as mpimg\n",
    "\n",
    "plt.style.use('classic')\n",
    "#############################################################\n",
    "from keras.preprocessing.image import ImageDataGenerator\n",
    "from keras.models import Sequential\n",
    "from keras.layers import Conv2D, MaxPooling2D, BatchNormalization\n",
    "from keras.layers import Activation, Dropout, Flatten, Dense\n",
    "#from keras import backend as K\n",
    "####################################################\n",
    "import os\n",
    "import cv2\n",
    "\n",
    "from PIL import Image\n",
    "import numpy as np\n"
   ]
  },
  {
   "cell_type": "code",
   "execution_count": null,
   "metadata": {
    "id": "xcszpSQNyXft"
   },
   "outputs": [],
   "source": [
    "import tensorflow.keras.utils as conv_utils"
   ]
  },
  {
   "cell_type": "code",
   "execution_count": null,
   "metadata": {
    "id": "nmOAQjmfyZqA"
   },
   "outputs": [],
   "source": [
    "image_directory = r'drive/MyDrive/Youtube_Neural_Network/'\n",
    "SIZE = 128\n",
    "dataset = []  #Many ways to handle data, you can use pandas. Here, we are using a list format.  \n",
    "label = []  #Place holders to define add labels. We will add 0 to all parasitized images and 1 to uninfected.\n",
    "\n",
    "Error = os.listdir(image_directory + 'Error/')\n",
    "for i, image_name in enumerate(Error):    #Remember enumerate method adds a counter and returns the enumerate object\n",
    "    \n",
    "    if (image_name.split('.')[1] == 'jpg'):\n",
    "        image = cv2.imread (image_directory + 'Error/' + image_name,cv2.IMREAD_GRAYSCALE)\n",
    "        image = Image.fromarray(image, mode = 'L')\n",
    "        image = image.resize((SIZE, SIZE))\n",
    "        dataset.append(np.array(image))\n",
    "        label.append(1)\n",
    "             \n",
    "   \n",
    "     "
   ]
  },
  {
   "cell_type": "code",
   "execution_count": null,
   "metadata": {
    "id": "-uCAj6kElATq"
   },
   "outputs": [],
   "source": [
    "      \n",
    "plt.show(image) "
   ]
  },
  {
   "cell_type": "code",
   "execution_count": null,
   "metadata": {
    "id": "e8Q9cA1qybq9"
   },
   "outputs": [],
   "source": [
    "Non_error = os.listdir(image_directory + 'Non_error/')\n",
    "for i, image_name in enumerate(Non_error):\n",
    "    if (image_name.split('.')[1] == 'jpg'):\n",
    "        image = cv2.imread(image_directory + 'Non_error/' + image_name,cv2.IMREAD_GRAYSCALE)\n",
    "        image = Image.fromarray(image, mode = 'L')\n",
    "        image = image.resize((SIZE, SIZE))\n",
    "        dataset.append(np.array(image))\n",
    "        label.append(0)"
   ]
  },
  {
   "cell_type": "code",
   "execution_count": null,
   "metadata": {
    "id": "E6gODDeXyyPd"
   },
   "outputs": [],
   "source": []
  },
  {
   "cell_type": "code",
   "execution_count": null,
   "metadata": {
    "id": "FrlE4wJdy4TH"
   },
   "outputs": [],
   "source": [
    "from sklearn.model_selection import train_test_split\n",
    "#from keras.utils import to_categorical\n",
    "\n",
    "X_train, X_test, y_train, y_test = train_test_split(dataset, label, test_size = 0.20, random_state = 0)\n"
   ]
  },
  {
   "cell_type": "code",
   "execution_count": null,
   "metadata": {
    "id": "gSjjN500y4Vw"
   },
   "outputs": [],
   "source": [
    "\n",
    "X_train = conv_utils.normalize(X_train)\n",
    "X_test = conv_utils.normalize(X_test)\n"
   ]
  },
  {
   "cell_type": "code",
   "execution_count": null,
   "metadata": {
    "id": "FvfF9hL6EQ2G"
   },
   "outputs": [],
   "source": [
    "X_train = np.array(X_train).reshape(len(X_train),X_train.shape[1],X_train.shape[2],1)\n",
    "y_train = np.array(y_train).reshape(len(y_train),1)\n",
    "X_test = np.array(X_test).reshape(len(X_test),X_test.shape[1],X_test.shape[2],1)\n",
    "y_test = np.array(y_test).reshape(len(y_test),1)"
   ]
  },
  {
   "cell_type": "code",
   "execution_count": null,
   "metadata": {
    "id": "bEZSDt8by4YS"
   },
   "outputs": [],
   "source": [
    "INPUT_SHAPE = (SIZE, SIZE, 1)   #change to (SIZE, SIZE, 1)\n",
    "\n",
    "\n",
    "model = Sequential()\n",
    "model.add(Conv2D(32, (3, 3), input_shape=INPUT_SHAPE))\n",
    "model.add(Activation('relu'))\n",
    "model.add(MaxPooling2D(pool_size=(2, 2)))\n",
    "model.add(BatchNormalization())\n",
    "\n",
    "\n",
    "model.add(Conv2D(32, (3, 3), kernel_initializer = 'he_uniform'))\n",
    "model.add(Activation('relu'))\n",
    "model.add(MaxPooling2D(pool_size=(2, 2)))\n",
    "model.add(BatchNormalization())\n",
    "\n",
    "\n",
    "model.add(Conv2D(64, (3, 3), kernel_initializer = 'he_uniform'))\n",
    "model.add(Activation('relu'))\n",
    "model.add(MaxPooling2D(pool_size=(2, 2)))\n",
    "model.add(BatchNormalization())\n",
    "\n",
    "model.add(Flatten())\n",
    "model.add(Dense(64))\n",
    "model.add(Activation('relu'))\n",
    "model.add(Dropout(0.5))\n",
    "model.add(BatchNormalization())\n",
    "\n",
    "model.add(Dense(1))\n",
    "model.add(Activation('sigmoid')) \n",
    "model.add(BatchNormalization()) "
   ]
  },
  {
   "cell_type": "code",
   "execution_count": null,
   "metadata": {
    "colab": {
     "base_uri": "https://localhost:8080/"
    },
    "id": "nPcAH6K3y4an",
    "outputId": "2d9458be-b9d7-46b2-8b2d-d204faa39d03"
   },
   "outputs": [
    {
     "name": "stdout",
     "output_type": "stream",
     "text": [
      "Model: \"sequential_10\"\n",
      "_________________________________________________________________\n",
      "Layer (type)                 Output Shape              Param #   \n",
      "=================================================================\n",
      "conv2d_30 (Conv2D)           (None, 126, 126, 32)      320       \n",
      "_________________________________________________________________\n",
      "activation_50 (Activation)   (None, 126, 126, 32)      0         \n",
      "_________________________________________________________________\n",
      "max_pooling2d_30 (MaxPooling (None, 63, 63, 32)        0         \n",
      "_________________________________________________________________\n",
      "batch_normalization_50 (Batc (None, 63, 63, 32)        128       \n",
      "_________________________________________________________________\n",
      "conv2d_31 (Conv2D)           (None, 61, 61, 32)        9248      \n",
      "_________________________________________________________________\n",
      "activation_51 (Activation)   (None, 61, 61, 32)        0         \n",
      "_________________________________________________________________\n",
      "max_pooling2d_31 (MaxPooling (None, 30, 30, 32)        0         \n",
      "_________________________________________________________________\n",
      "batch_normalization_51 (Batc (None, 30, 30, 32)        128       \n",
      "_________________________________________________________________\n",
      "conv2d_32 (Conv2D)           (None, 28, 28, 64)        18496     \n",
      "_________________________________________________________________\n",
      "activation_52 (Activation)   (None, 28, 28, 64)        0         \n",
      "_________________________________________________________________\n",
      "max_pooling2d_32 (MaxPooling (None, 14, 14, 64)        0         \n",
      "_________________________________________________________________\n",
      "batch_normalization_52 (Batc (None, 14, 14, 64)        256       \n",
      "_________________________________________________________________\n",
      "flatten_10 (Flatten)         (None, 12544)             0         \n",
      "_________________________________________________________________\n",
      "dense_20 (Dense)             (None, 64)                802880    \n",
      "_________________________________________________________________\n",
      "activation_53 (Activation)   (None, 64)                0         \n",
      "_________________________________________________________________\n",
      "dropout_10 (Dropout)         (None, 64)                0         \n",
      "_________________________________________________________________\n",
      "batch_normalization_53 (Batc (None, 64)                256       \n",
      "_________________________________________________________________\n",
      "dense_21 (Dense)             (None, 1)                 65        \n",
      "_________________________________________________________________\n",
      "activation_54 (Activation)   (None, 1)                 0         \n",
      "_________________________________________________________________\n",
      "batch_normalization_54 (Batc (None, 1)                 4         \n",
      "=================================================================\n",
      "Total params: 831,781\n",
      "Trainable params: 831,395\n",
      "Non-trainable params: 386\n",
      "_________________________________________________________________\n",
      "None\n"
     ]
    }
   ],
   "source": [
    "model.compile(loss='binary_crossentropy',\n",
    "              optimizer='rmsprop',             #also try adam\n",
    "              metrics=['acc'])\n",
    "\n",
    "print(model.summary())    \n",
    "###############################################################  \n"
   ]
  },
  {
   "cell_type": "code",
   "execution_count": null,
   "metadata": {
    "id": "oqxLGrmefQEs"
   },
   "outputs": [],
   "source": [
    "# X_train = X_train.reshape(len(X_train),  128, 128, 1)\n",
    "# y_train = y_train.reshape(len(y_train), 1)\n",
    "\n",
    "# X_train = np.array(X_train).reshape(len(X_train),X_train.shape[1],X_train.shape[2],1)\n",
    "# y_train = np.array(y_train).reshape(len(y_train),1)\n",
    "# X_test = np.array(X_test).reshape(len(X_test),X_test.shape[1],X_test.shape[2],1)\n",
    "# y_test = np.array(y_test).reshape(len(y_test),1)"
   ]
  },
  {
   "cell_type": "code",
   "execution_count": null,
   "metadata": {
    "colab": {
     "base_uri": "https://localhost:8080/"
    },
    "id": "lv1Dw5QZGi9Q",
    "outputId": "aa831506-8422-4617-d251-b69c6fcb8ebe"
   },
   "outputs": [
    {
     "data": {
      "text/plain": [
       "(72, 128, 128, 1)"
      ]
     },
     "execution_count": 210,
     "metadata": {
      "tags": []
     },
     "output_type": "execute_result"
    }
   ],
   "source": [
    "X_test.shape"
   ]
  },
  {
   "cell_type": "code",
   "execution_count": null,
   "metadata": {
    "colab": {
     "base_uri": "https://localhost:8080/"
    },
    "id": "UdIpe9zAHF2l",
    "outputId": "5fab5c1d-3c4f-4254-9138-b9d99c35c5b5"
   },
   "outputs": [
    {
     "data": {
      "text/plain": [
       "(285, 128, 128, 1)"
      ]
     },
     "execution_count": 211,
     "metadata": {
      "tags": []
     },
     "output_type": "execute_result"
    }
   ],
   "source": [
    "X_train.shape"
   ]
  },
  {
   "cell_type": "code",
   "execution_count": null,
   "metadata": {
    "colab": {
     "base_uri": "https://localhost:8080/"
    },
    "id": "TADYbPDTy4dL",
    "outputId": "67262bd4-2e5a-4b42-d9f0-70fb8442b7c2"
   },
   "outputs": [
    {
     "name": "stdout",
     "output_type": "stream",
     "text": [
      "Epoch 1/300\n",
      "4/4 [==============================] - 5s 1s/step - loss: 5.5988 - acc: 0.5000 - val_loss: 0.7747 - val_acc: 0.4483\n",
      "Epoch 2/300\n",
      "4/4 [==============================] - 5s 1s/step - loss: 4.5321 - acc: 0.5352 - val_loss: 1.1823 - val_acc: 0.4483\n",
      "Epoch 3/300\n",
      "4/4 [==============================] - 5s 1s/step - loss: 4.4113 - acc: 0.5391 - val_loss: 1.3866 - val_acc: 0.4483\n",
      "Epoch 4/300\n",
      "4/4 [==============================] - 5s 1s/step - loss: 3.1886 - acc: 0.5508 - val_loss: 1.2334 - val_acc: 0.4483\n",
      "Epoch 5/300\n",
      "4/4 [==============================] - 5s 1s/step - loss: 3.1956 - acc: 0.5508 - val_loss: 1.2774 - val_acc: 0.4483\n",
      "Epoch 6/300\n",
      "4/4 [==============================] - 5s 1s/step - loss: 3.0411 - acc: 0.5312 - val_loss: 1.4159 - val_acc: 0.4483\n",
      "Epoch 7/300\n",
      "4/4 [==============================] - 5s 1s/step - loss: 3.1856 - acc: 0.5508 - val_loss: 1.3490 - val_acc: 0.4483\n",
      "Epoch 8/300\n",
      "4/4 [==============================] - 5s 1s/step - loss: 3.0448 - acc: 0.5273 - val_loss: 1.2879 - val_acc: 0.4483\n",
      "Epoch 9/300\n",
      "4/4 [==============================] - 5s 1s/step - loss: 3.1133 - acc: 0.5195 - val_loss: 1.2151 - val_acc: 0.4483\n",
      "Epoch 10/300\n",
      "4/4 [==============================] - 5s 1s/step - loss: 3.0575 - acc: 0.5391 - val_loss: 1.1827 - val_acc: 0.4483\n",
      "Epoch 11/300\n",
      "4/4 [==============================] - 5s 1s/step - loss: 2.7080 - acc: 0.5742 - val_loss: 1.1521 - val_acc: 0.4483\n",
      "Epoch 12/300\n",
      "4/4 [==============================] - 5s 1s/step - loss: 2.7669 - acc: 0.5625 - val_loss: 1.1142 - val_acc: 0.4483\n",
      "Epoch 13/300\n",
      "4/4 [==============================] - 5s 1s/step - loss: 2.6536 - acc: 0.5859 - val_loss: 1.0513 - val_acc: 0.4483\n",
      "Epoch 14/300\n",
      "4/4 [==============================] - 5s 1s/step - loss: 2.6354 - acc: 0.5312 - val_loss: 1.0158 - val_acc: 0.4483\n",
      "Epoch 15/300\n",
      "4/4 [==============================] - 5s 1s/step - loss: 2.9863 - acc: 0.5156 - val_loss: 1.0446 - val_acc: 0.4483\n",
      "Epoch 16/300\n",
      "4/4 [==============================] - 5s 1s/step - loss: 2.6594 - acc: 0.6172 - val_loss: 0.9628 - val_acc: 0.4483\n",
      "Epoch 17/300\n",
      "4/4 [==============================] - 5s 1s/step - loss: 2.7478 - acc: 0.5898 - val_loss: 0.9662 - val_acc: 0.4483\n",
      "Epoch 18/300\n",
      "4/4 [==============================] - 5s 1s/step - loss: 2.6995 - acc: 0.5781 - val_loss: 0.9510 - val_acc: 0.4483\n",
      "Epoch 19/300\n",
      "4/4 [==============================] - 5s 1s/step - loss: 2.6375 - acc: 0.5625 - val_loss: 0.9759 - val_acc: 0.4483\n",
      "Epoch 20/300\n",
      "4/4 [==============================] - 5s 1s/step - loss: 2.8039 - acc: 0.5625 - val_loss: 0.9411 - val_acc: 0.4483\n",
      "Epoch 21/300\n",
      "4/4 [==============================] - 5s 1s/step - loss: 2.5121 - acc: 0.5938 - val_loss: 0.9185 - val_acc: 0.4483\n",
      "Epoch 22/300\n",
      "4/4 [==============================] - 5s 1s/step - loss: 2.5207 - acc: 0.5859 - val_loss: 0.8990 - val_acc: 0.4483\n",
      "Epoch 23/300\n",
      "4/4 [==============================] - 5s 1s/step - loss: 2.4900 - acc: 0.5781 - val_loss: 0.8920 - val_acc: 0.4483\n",
      "Epoch 24/300\n",
      "4/4 [==============================] - 5s 1s/step - loss: 2.4754 - acc: 0.5508 - val_loss: 0.9073 - val_acc: 0.4483\n",
      "Epoch 25/300\n",
      "4/4 [==============================] - 5s 1s/step - loss: 2.5160 - acc: 0.5820 - val_loss: 0.8877 - val_acc: 0.4483\n",
      "Epoch 26/300\n",
      "4/4 [==============================] - 5s 1s/step - loss: 2.3501 - acc: 0.5859 - val_loss: 0.8627 - val_acc: 0.4483\n",
      "Epoch 27/300\n",
      "4/4 [==============================] - 5s 1s/step - loss: 2.3042 - acc: 0.6211 - val_loss: 0.8546 - val_acc: 0.4483\n",
      "Epoch 28/300\n",
      "4/4 [==============================] - 5s 1s/step - loss: 2.3937 - acc: 0.5625 - val_loss: 0.8422 - val_acc: 0.4483\n",
      "Epoch 29/300\n",
      "4/4 [==============================] - 5s 1s/step - loss: 2.3915 - acc: 0.5742 - val_loss: 0.8534 - val_acc: 0.4483\n",
      "Epoch 30/300\n",
      "4/4 [==============================] - 5s 1s/step - loss: 2.3761 - acc: 0.6289 - val_loss: 0.8343 - val_acc: 0.4483\n",
      "Epoch 31/300\n",
      "4/4 [==============================] - 5s 1s/step - loss: 2.4376 - acc: 0.5898 - val_loss: 0.8316 - val_acc: 0.4483\n",
      "Epoch 32/300\n",
      "4/4 [==============================] - 5s 1s/step - loss: 2.3826 - acc: 0.5898 - val_loss: 0.8199 - val_acc: 0.4483\n",
      "Epoch 33/300\n",
      "4/4 [==============================] - 5s 1s/step - loss: 2.4530 - acc: 0.5977 - val_loss: 0.8340 - val_acc: 0.4483\n",
      "Epoch 34/300\n",
      "4/4 [==============================] - 5s 1s/step - loss: 2.5171 - acc: 0.6211 - val_loss: 0.7567 - val_acc: 0.4483\n",
      "Epoch 35/300\n",
      "4/4 [==============================] - 5s 1s/step - loss: 2.3318 - acc: 0.5977 - val_loss: 0.7400 - val_acc: 0.4483\n",
      "Epoch 36/300\n",
      "4/4 [==============================] - 5s 1s/step - loss: 2.3169 - acc: 0.6289 - val_loss: 0.7859 - val_acc: 0.4483\n",
      "Epoch 37/300\n",
      "4/4 [==============================] - 5s 1s/step - loss: 2.2427 - acc: 0.6250 - val_loss: 0.7813 - val_acc: 0.4483\n",
      "Epoch 38/300\n",
      "4/4 [==============================] - 5s 1s/step - loss: 2.2333 - acc: 0.6484 - val_loss: 0.7730 - val_acc: 0.4483\n",
      "Epoch 39/300\n",
      "4/4 [==============================] - 5s 1s/step - loss: 2.1737 - acc: 0.6484 - val_loss: 0.7919 - val_acc: 0.4483\n",
      "Epoch 40/300\n",
      "4/4 [==============================] - 5s 1s/step - loss: 2.1861 - acc: 0.6172 - val_loss: 0.7461 - val_acc: 0.4483\n",
      "Epoch 41/300\n",
      "4/4 [==============================] - 5s 1s/step - loss: 2.2898 - acc: 0.6094 - val_loss: 0.7520 - val_acc: 0.4483\n",
      "Epoch 42/300\n",
      "4/4 [==============================] - 5s 1s/step - loss: 2.2116 - acc: 0.6328 - val_loss: 0.7860 - val_acc: 0.4483\n",
      "Epoch 43/300\n",
      "4/4 [==============================] - 5s 1s/step - loss: 2.1505 - acc: 0.6289 - val_loss: 0.7608 - val_acc: 0.4483\n",
      "Epoch 44/300\n",
      "4/4 [==============================] - 5s 1s/step - loss: 2.1896 - acc: 0.6523 - val_loss: 0.7734 - val_acc: 0.4483\n",
      "Epoch 45/300\n",
      "4/4 [==============================] - 5s 1s/step - loss: 2.1116 - acc: 0.6484 - val_loss: 0.7661 - val_acc: 0.4483\n",
      "Epoch 46/300\n",
      "4/4 [==============================] - 5s 1s/step - loss: 2.1212 - acc: 0.6406 - val_loss: 0.7416 - val_acc: 0.4483\n",
      "Epoch 47/300\n",
      "4/4 [==============================] - 5s 1s/step - loss: 2.1210 - acc: 0.6328 - val_loss: 0.7296 - val_acc: 0.4483\n",
      "Epoch 48/300\n",
      "4/4 [==============================] - 5s 1s/step - loss: 2.0722 - acc: 0.6406 - val_loss: 0.7927 - val_acc: 0.4483\n",
      "Epoch 49/300\n",
      "4/4 [==============================] - 5s 1s/step - loss: 2.1025 - acc: 0.6250 - val_loss: 0.7577 - val_acc: 0.4483\n",
      "Epoch 50/300\n",
      "4/4 [==============================] - 5s 1s/step - loss: 2.1132 - acc: 0.6328 - val_loss: 0.7615 - val_acc: 0.4483\n",
      "Epoch 51/300\n",
      "4/4 [==============================] - 5s 1s/step - loss: 2.1365 - acc: 0.6484 - val_loss: 0.7509 - val_acc: 0.4483\n",
      "Epoch 52/300\n",
      "4/4 [==============================] - 5s 1s/step - loss: 2.3121 - acc: 0.6211 - val_loss: 0.7703 - val_acc: 0.4483\n",
      "Epoch 53/300\n",
      "4/4 [==============================] - 5s 1s/step - loss: 2.1036 - acc: 0.6523 - val_loss: 0.7530 - val_acc: 0.4483\n",
      "Epoch 54/300\n",
      "4/4 [==============================] - 5s 1s/step - loss: 2.0639 - acc: 0.6797 - val_loss: 0.7598 - val_acc: 0.4483\n",
      "Epoch 55/300\n",
      "4/4 [==============================] - 5s 1s/step - loss: 2.1633 - acc: 0.6641 - val_loss: 0.7596 - val_acc: 0.4483\n",
      "Epoch 56/300\n",
      "4/4 [==============================] - 5s 1s/step - loss: 2.0490 - acc: 0.6680 - val_loss: 0.7463 - val_acc: 0.4483\n",
      "Epoch 57/300\n",
      "4/4 [==============================] - 5s 1s/step - loss: 1.9660 - acc: 0.6758 - val_loss: 0.7316 - val_acc: 0.4483\n",
      "Epoch 58/300\n",
      "4/4 [==============================] - 5s 1s/step - loss: 2.0592 - acc: 0.6680 - val_loss: 0.7412 - val_acc: 0.4483\n",
      "Epoch 59/300\n",
      "4/4 [==============================] - 5s 1s/step - loss: 2.1098 - acc: 0.6523 - val_loss: 0.7351 - val_acc: 0.4483\n",
      "Epoch 60/300\n",
      "4/4 [==============================] - 5s 1s/step - loss: 1.9754 - acc: 0.6875 - val_loss: 0.7325 - val_acc: 0.4483\n",
      "Epoch 61/300\n",
      "4/4 [==============================] - 5s 1s/step - loss: 1.9118 - acc: 0.6602 - val_loss: 0.7383 - val_acc: 0.4483\n",
      "Epoch 62/300\n",
      "4/4 [==============================] - 5s 1s/step - loss: 1.9227 - acc: 0.7305 - val_loss: 0.7242 - val_acc: 0.4483\n",
      "Epoch 63/300\n",
      "4/4 [==============================] - 5s 1s/step - loss: 1.9127 - acc: 0.6680 - val_loss: 0.7293 - val_acc: 0.4483\n",
      "Epoch 64/300\n",
      "4/4 [==============================] - 5s 1s/step - loss: 1.6611 - acc: 0.7227 - val_loss: 0.7149 - val_acc: 0.4483\n",
      "Epoch 65/300\n",
      "4/4 [==============================] - 5s 1s/step - loss: 1.9170 - acc: 0.6680 - val_loss: 0.7559 - val_acc: 0.4483\n",
      "Epoch 66/300\n",
      "4/4 [==============================] - 5s 1s/step - loss: 1.7735 - acc: 0.6758 - val_loss: 0.7229 - val_acc: 0.4483\n",
      "Epoch 67/300\n",
      "4/4 [==============================] - 5s 1s/step - loss: 1.7345 - acc: 0.6484 - val_loss: 0.7690 - val_acc: 0.4483\n",
      "Epoch 68/300\n",
      "4/4 [==============================] - 5s 1s/step - loss: 1.6939 - acc: 0.6992 - val_loss: 0.7642 - val_acc: 0.4483\n",
      "Epoch 69/300\n",
      "4/4 [==============================] - 5s 1s/step - loss: 1.5527 - acc: 0.6641 - val_loss: 0.7658 - val_acc: 0.4483\n",
      "Epoch 70/300\n",
      "4/4 [==============================] - 5s 1s/step - loss: 1.6208 - acc: 0.6836 - val_loss: 0.7643 - val_acc: 0.4483\n",
      "Epoch 71/300\n",
      "4/4 [==============================] - 5s 1s/step - loss: 1.6770 - acc: 0.6875 - val_loss: 0.7609 - val_acc: 0.4483\n",
      "Epoch 72/300\n",
      "4/4 [==============================] - 5s 1s/step - loss: 1.5712 - acc: 0.6992 - val_loss: 0.7720 - val_acc: 0.4483\n",
      "Epoch 73/300\n",
      "4/4 [==============================] - 5s 1s/step - loss: 1.4391 - acc: 0.6953 - val_loss: 0.7608 - val_acc: 0.4483\n",
      "Epoch 74/300\n",
      "4/4 [==============================] - 5s 1s/step - loss: 1.8986 - acc: 0.6641 - val_loss: 0.7033 - val_acc: 0.4138\n",
      "Epoch 75/300\n",
      "4/4 [==============================] - 5s 1s/step - loss: 1.5780 - acc: 0.6562 - val_loss: 0.7175 - val_acc: 0.4483\n",
      "Epoch 76/300\n",
      "4/4 [==============================] - 5s 1s/step - loss: 1.7085 - acc: 0.6641 - val_loss: 0.7525 - val_acc: 0.4483\n",
      "Epoch 77/300\n",
      "4/4 [==============================] - 5s 1s/step - loss: 1.5814 - acc: 0.6680 - val_loss: 0.7625 - val_acc: 0.4483\n",
      "Epoch 78/300\n",
      "4/4 [==============================] - 5s 1s/step - loss: 1.6726 - acc: 0.6914 - val_loss: 0.7504 - val_acc: 0.4483\n",
      "Epoch 79/300\n",
      "4/4 [==============================] - 5s 1s/step - loss: 1.5734 - acc: 0.6875 - val_loss: 0.7520 - val_acc: 0.4483\n",
      "Epoch 80/300\n",
      "4/4 [==============================] - 5s 1s/step - loss: 1.4842 - acc: 0.7227 - val_loss: 0.7455 - val_acc: 0.4483\n",
      "Epoch 81/300\n",
      "4/4 [==============================] - 5s 1s/step - loss: 1.5669 - acc: 0.7148 - val_loss: 0.7678 - val_acc: 0.4483\n",
      "Epoch 82/300\n",
      "4/4 [==============================] - 5s 1s/step - loss: 1.4915 - acc: 0.7109 - val_loss: 0.7435 - val_acc: 0.4483\n",
      "Epoch 83/300\n",
      "4/4 [==============================] - 5s 1s/step - loss: 1.6220 - acc: 0.7070 - val_loss: 0.7502 - val_acc: 0.4483\n",
      "Epoch 84/300\n",
      "4/4 [==============================] - 5s 1s/step - loss: 1.6807 - acc: 0.7031 - val_loss: 0.7063 - val_acc: 0.4138\n",
      "Epoch 85/300\n",
      "4/4 [==============================] - 5s 1s/step - loss: 1.5161 - acc: 0.7305 - val_loss: 0.7063 - val_acc: 0.4138\n",
      "Epoch 86/300\n",
      "4/4 [==============================] - 5s 1s/step - loss: 1.7094 - acc: 0.7109 - val_loss: 0.7156 - val_acc: 0.4138\n",
      "Epoch 87/300\n",
      "4/4 [==============================] - 5s 1s/step - loss: 1.4496 - acc: 0.7070 - val_loss: 0.7689 - val_acc: 0.4483\n",
      "Epoch 88/300\n",
      "4/4 [==============================] - 5s 1s/step - loss: 1.5075 - acc: 0.6953 - val_loss: 0.7725 - val_acc: 0.4483\n",
      "Epoch 89/300\n",
      "4/4 [==============================] - 5s 1s/step - loss: 1.4713 - acc: 0.7109 - val_loss: 0.7652 - val_acc: 0.4483\n",
      "Epoch 90/300\n",
      "4/4 [==============================] - 5s 1s/step - loss: 1.7315 - acc: 0.6758 - val_loss: 0.7649 - val_acc: 0.4483\n",
      "Epoch 91/300\n",
      "4/4 [==============================] - 5s 1s/step - loss: 1.4659 - acc: 0.7305 - val_loss: 0.7564 - val_acc: 0.4483\n",
      "Epoch 92/300\n",
      "4/4 [==============================] - 5s 1s/step - loss: 1.4074 - acc: 0.7070 - val_loss: 0.7580 - val_acc: 0.4483\n",
      "Epoch 93/300\n",
      "4/4 [==============================] - 5s 1s/step - loss: 1.4746 - acc: 0.7344 - val_loss: 0.7026 - val_acc: 0.5517\n",
      "Epoch 94/300\n",
      "4/4 [==============================] - 5s 1s/step - loss: 1.4797 - acc: 0.7148 - val_loss: 0.7611 - val_acc: 0.4483\n",
      "Epoch 95/300\n",
      "4/4 [==============================] - 5s 1s/step - loss: 1.4556 - acc: 0.6914 - val_loss: 0.7770 - val_acc: 0.4483\n",
      "Epoch 96/300\n",
      "4/4 [==============================] - 5s 1s/step - loss: 1.3102 - acc: 0.7383 - val_loss: 0.7498 - val_acc: 0.4828\n",
      "Epoch 97/300\n",
      "4/4 [==============================] - 5s 1s/step - loss: 1.4593 - acc: 0.7305 - val_loss: 0.7333 - val_acc: 0.4828\n",
      "Epoch 98/300\n",
      "4/4 [==============================] - 5s 1s/step - loss: 1.4034 - acc: 0.6797 - val_loss: 0.7323 - val_acc: 0.4828\n",
      "Epoch 99/300\n",
      "4/4 [==============================] - 5s 1s/step - loss: 1.1579 - acc: 0.7617 - val_loss: 0.7491 - val_acc: 0.4828\n",
      "Epoch 100/300\n",
      "4/4 [==============================] - 5s 1s/step - loss: 1.3028 - acc: 0.7461 - val_loss: 0.7438 - val_acc: 0.4828\n",
      "Epoch 101/300\n",
      "4/4 [==============================] - 5s 1s/step - loss: 1.2974 - acc: 0.7305 - val_loss: 0.7674 - val_acc: 0.4828\n",
      "Epoch 102/300\n",
      "4/4 [==============================] - 5s 1s/step - loss: 1.2256 - acc: 0.7461 - val_loss: 0.7527 - val_acc: 0.4828\n",
      "Epoch 103/300\n",
      "4/4 [==============================] - 5s 1s/step - loss: 1.2855 - acc: 0.7266 - val_loss: 0.7460 - val_acc: 0.4828\n",
      "Epoch 104/300\n",
      "4/4 [==============================] - 5s 1s/step - loss: 1.4063 - acc: 0.7344 - val_loss: 0.7581 - val_acc: 0.4828\n",
      "Epoch 105/300\n",
      "4/4 [==============================] - 5s 1s/step - loss: 1.4738 - acc: 0.6914 - val_loss: 0.7991 - val_acc: 0.4483\n",
      "Epoch 106/300\n",
      "4/4 [==============================] - 5s 1s/step - loss: 1.4932 - acc: 0.7266 - val_loss: 0.7851 - val_acc: 0.4483\n",
      "Epoch 107/300\n",
      "4/4 [==============================] - 5s 1s/step - loss: 1.3825 - acc: 0.7109 - val_loss: 0.7920 - val_acc: 0.4828\n",
      "Epoch 108/300\n",
      "4/4 [==============================] - 5s 1s/step - loss: 1.3523 - acc: 0.7539 - val_loss: 0.7975 - val_acc: 0.4828\n",
      "Epoch 109/300\n",
      "4/4 [==============================] - 5s 1s/step - loss: 1.2375 - acc: 0.7383 - val_loss: 0.8121 - val_acc: 0.4828\n",
      "Epoch 110/300\n",
      "4/4 [==============================] - 5s 1s/step - loss: 1.3483 - acc: 0.7500 - val_loss: 0.7938 - val_acc: 0.4138\n",
      "Epoch 111/300\n",
      "4/4 [==============================] - 5s 1s/step - loss: 1.3951 - acc: 0.7422 - val_loss: 0.8191 - val_acc: 0.4828\n",
      "Epoch 112/300\n",
      "4/4 [==============================] - 5s 1s/step - loss: 1.3352 - acc: 0.7422 - val_loss: 0.8349 - val_acc: 0.4828\n",
      "Epoch 113/300\n",
      "4/4 [==============================] - 5s 1s/step - loss: 1.2431 - acc: 0.7656 - val_loss: 0.7943 - val_acc: 0.3793\n",
      "Epoch 114/300\n",
      "4/4 [==============================] - 5s 1s/step - loss: 1.4137 - acc: 0.7500 - val_loss: 0.7887 - val_acc: 0.4138\n",
      "Epoch 115/300\n",
      "4/4 [==============================] - 5s 1s/step - loss: 1.3861 - acc: 0.7422 - val_loss: 0.8160 - val_acc: 0.4828\n",
      "Epoch 116/300\n",
      "4/4 [==============================] - 5s 1s/step - loss: 1.3228 - acc: 0.7500 - val_loss: 0.7821 - val_acc: 0.3448\n",
      "Epoch 117/300\n",
      "4/4 [==============================] - 5s 1s/step - loss: 1.2045 - acc: 0.7539 - val_loss: 0.8436 - val_acc: 0.4483\n",
      "Epoch 118/300\n",
      "4/4 [==============================] - 5s 1s/step - loss: 1.3089 - acc: 0.7578 - val_loss: 0.8055 - val_acc: 0.4828\n",
      "Epoch 119/300\n",
      "4/4 [==============================] - 5s 1s/step - loss: 1.3151 - acc: 0.7422 - val_loss: 0.8000 - val_acc: 0.3793\n",
      "Epoch 120/300\n",
      "4/4 [==============================] - 5s 1s/step - loss: 1.1527 - acc: 0.7852 - val_loss: 0.7835 - val_acc: 0.3793\n",
      "Epoch 121/300\n",
      "4/4 [==============================] - 5s 1s/step - loss: 1.1441 - acc: 0.7578 - val_loss: 0.9114 - val_acc: 0.4483\n",
      "Epoch 122/300\n",
      "4/4 [==============================] - 5s 1s/step - loss: 1.0630 - acc: 0.7695 - val_loss: 0.8412 - val_acc: 0.4483\n",
      "Epoch 123/300\n",
      "4/4 [==============================] - 5s 1s/step - loss: 1.0515 - acc: 0.7695 - val_loss: 0.8350 - val_acc: 0.4483\n",
      "Epoch 124/300\n",
      "4/4 [==============================] - 5s 1s/step - loss: 1.0395 - acc: 0.7969 - val_loss: 0.8279 - val_acc: 0.4483\n",
      "Epoch 125/300\n",
      "4/4 [==============================] - 5s 1s/step - loss: 1.1188 - acc: 0.7891 - val_loss: 0.8328 - val_acc: 0.4483\n",
      "Epoch 126/300\n",
      "4/4 [==============================] - 5s 1s/step - loss: 1.0206 - acc: 0.7930 - val_loss: 0.8344 - val_acc: 0.3103\n",
      "Epoch 127/300\n",
      "4/4 [==============================] - 5s 1s/step - loss: 0.9864 - acc: 0.7656 - val_loss: 0.9339 - val_acc: 0.4483\n",
      "Epoch 128/300\n",
      "4/4 [==============================] - 5s 1s/step - loss: 1.1240 - acc: 0.7695 - val_loss: 0.9530 - val_acc: 0.4483\n",
      "Epoch 129/300\n",
      "4/4 [==============================] - 5s 1s/step - loss: 1.1052 - acc: 0.7969 - val_loss: 0.9357 - val_acc: 0.4483\n",
      "Epoch 130/300\n",
      "4/4 [==============================] - 5s 1s/step - loss: 0.9992 - acc: 0.7852 - val_loss: 0.9171 - val_acc: 0.4483\n",
      "Epoch 131/300\n",
      "4/4 [==============================] - 5s 1s/step - loss: 0.9731 - acc: 0.7891 - val_loss: 0.9601 - val_acc: 0.4483\n",
      "Epoch 132/300\n",
      "4/4 [==============================] - 5s 1s/step - loss: 0.9485 - acc: 0.8086 - val_loss: 0.9130 - val_acc: 0.4483\n",
      "Epoch 133/300\n",
      "4/4 [==============================] - 5s 1s/step - loss: 0.9435 - acc: 0.7852 - val_loss: 0.9879 - val_acc: 0.4138\n",
      "Epoch 134/300\n",
      "4/4 [==============================] - 5s 1s/step - loss: 1.1595 - acc: 0.7969 - val_loss: 0.9408 - val_acc: 0.4138\n",
      "Epoch 135/300\n",
      "4/4 [==============================] - 5s 1s/step - loss: 0.9849 - acc: 0.7852 - val_loss: 0.8976 - val_acc: 0.4483\n",
      "Epoch 136/300\n",
      "4/4 [==============================] - 5s 1s/step - loss: 0.8293 - acc: 0.8320 - val_loss: 0.8894 - val_acc: 0.4483\n",
      "Epoch 137/300\n",
      "4/4 [==============================] - 5s 1s/step - loss: 1.0479 - acc: 0.8164 - val_loss: 1.4249 - val_acc: 0.4483\n",
      "Epoch 138/300\n",
      "4/4 [==============================] - 5s 1s/step - loss: 0.9464 - acc: 0.8164 - val_loss: 1.4586 - val_acc: 0.4138\n",
      "Epoch 139/300\n",
      "4/4 [==============================] - 5s 1s/step - loss: 0.8643 - acc: 0.8281 - val_loss: 1.4480 - val_acc: 0.4138\n",
      "Epoch 140/300\n",
      "4/4 [==============================] - 5s 1s/step - loss: 0.8901 - acc: 0.7930 - val_loss: 1.4889 - val_acc: 0.4138\n",
      "Epoch 141/300\n",
      "4/4 [==============================] - 5s 1s/step - loss: 0.9064 - acc: 0.8164 - val_loss: 1.4811 - val_acc: 0.4138\n",
      "Epoch 142/300\n",
      "4/4 [==============================] - 5s 1s/step - loss: 1.0121 - acc: 0.7969 - val_loss: 1.3904 - val_acc: 0.4138\n",
      "Epoch 143/300\n",
      "4/4 [==============================] - 5s 1s/step - loss: 1.0126 - acc: 0.8086 - val_loss: 1.0616 - val_acc: 0.4138\n",
      "Epoch 144/300\n",
      "4/4 [==============================] - 5s 1s/step - loss: 0.8677 - acc: 0.8398 - val_loss: 1.1102 - val_acc: 0.4138\n",
      "Epoch 145/300\n",
      "4/4 [==============================] - 5s 1s/step - loss: 0.7863 - acc: 0.8281 - val_loss: 1.1282 - val_acc: 0.4138\n",
      "Epoch 146/300\n",
      "4/4 [==============================] - 5s 1s/step - loss: 0.8679 - acc: 0.8242 - val_loss: 1.2001 - val_acc: 0.4138\n",
      "Epoch 147/300\n",
      "4/4 [==============================] - 5s 1s/step - loss: 0.9523 - acc: 0.8633 - val_loss: 1.2271 - val_acc: 0.4138\n",
      "Epoch 148/300\n",
      "4/4 [==============================] - 5s 1s/step - loss: 0.9287 - acc: 0.8594 - val_loss: 1.2354 - val_acc: 0.4138\n",
      "Epoch 149/300\n",
      "4/4 [==============================] - 5s 1s/step - loss: 0.9352 - acc: 0.8633 - val_loss: 1.2531 - val_acc: 0.4138\n",
      "Epoch 150/300\n",
      "4/4 [==============================] - 5s 1s/step - loss: 0.9235 - acc: 0.8125 - val_loss: 1.2451 - val_acc: 0.4138\n",
      "Epoch 151/300\n",
      "4/4 [==============================] - 5s 1s/step - loss: 0.9165 - acc: 0.8359 - val_loss: 1.3080 - val_acc: 0.4138\n",
      "Epoch 152/300\n",
      "4/4 [==============================] - 5s 1s/step - loss: 0.8095 - acc: 0.8438 - val_loss: 1.3285 - val_acc: 0.4138\n",
      "Epoch 153/300\n",
      "4/4 [==============================] - 5s 1s/step - loss: 0.8409 - acc: 0.8438 - val_loss: 1.3574 - val_acc: 0.4138\n",
      "Epoch 154/300\n",
      "4/4 [==============================] - 5s 1s/step - loss: 0.8505 - acc: 0.8086 - val_loss: 1.3136 - val_acc: 0.4828\n",
      "Epoch 155/300\n",
      "4/4 [==============================] - 5s 1s/step - loss: 0.8522 - acc: 0.8359 - val_loss: 1.4070 - val_acc: 0.4828\n",
      "Epoch 156/300\n",
      "4/4 [==============================] - 5s 1s/step - loss: 0.8684 - acc: 0.8672 - val_loss: 1.4345 - val_acc: 0.4828\n",
      "Epoch 157/300\n",
      "4/4 [==============================] - 5s 1s/step - loss: 0.7802 - acc: 0.8789 - val_loss: 1.5069 - val_acc: 0.4828\n",
      "Epoch 158/300\n",
      "4/4 [==============================] - 5s 1s/step - loss: 0.9614 - acc: 0.8594 - val_loss: 1.8440 - val_acc: 0.4828\n",
      "Epoch 159/300\n",
      "4/4 [==============================] - 5s 1s/step - loss: 0.7847 - acc: 0.8750 - val_loss: 1.6769 - val_acc: 0.4483\n",
      "Epoch 160/300\n",
      "4/4 [==============================] - 5s 1s/step - loss: 1.0282 - acc: 0.8477 - val_loss: 1.6364 - val_acc: 0.4828\n",
      "Epoch 161/300\n",
      "4/4 [==============================] - 5s 1s/step - loss: 0.9116 - acc: 0.8672 - val_loss: 1.6111 - val_acc: 0.4483\n",
      "Epoch 162/300\n",
      "4/4 [==============================] - 5s 1s/step - loss: 0.8997 - acc: 0.8477 - val_loss: 1.7200 - val_acc: 0.5172\n",
      "Epoch 163/300\n",
      "4/4 [==============================] - 5s 1s/step - loss: 0.8664 - acc: 0.8398 - val_loss: 1.5758 - val_acc: 0.5172\n",
      "Epoch 164/300\n",
      "4/4 [==============================] - 5s 1s/step - loss: 0.6231 - acc: 0.8750 - val_loss: 1.1398 - val_acc: 0.4828\n",
      "Epoch 165/300\n",
      "4/4 [==============================] - 5s 1s/step - loss: 0.7667 - acc: 0.8867 - val_loss: 1.4705 - val_acc: 0.4138\n",
      "Epoch 166/300\n",
      "4/4 [==============================] - 5s 1s/step - loss: 0.7075 - acc: 0.8984 - val_loss: 1.8603 - val_acc: 0.4138\n",
      "Epoch 167/300\n",
      "4/4 [==============================] - 5s 1s/step - loss: 0.7061 - acc: 0.8867 - val_loss: 1.8935 - val_acc: 0.3793\n",
      "Epoch 168/300\n",
      "4/4 [==============================] - 5s 1s/step - loss: 0.7153 - acc: 0.8828 - val_loss: 3.1788 - val_acc: 0.4483\n",
      "Epoch 169/300\n",
      "4/4 [==============================] - 5s 1s/step - loss: 0.8206 - acc: 0.8906 - val_loss: 2.5142 - val_acc: 0.4483\n",
      "Epoch 170/300\n",
      "4/4 [==============================] - 5s 1s/step - loss: 0.9003 - acc: 0.8867 - val_loss: 1.9192 - val_acc: 0.3103\n",
      "Epoch 171/300\n",
      "4/4 [==============================] - 5s 1s/step - loss: 0.6816 - acc: 0.9023 - val_loss: 2.3094 - val_acc: 0.3103\n",
      "Epoch 172/300\n",
      "4/4 [==============================] - 5s 1s/step - loss: 0.8994 - acc: 0.8672 - val_loss: 1.7113 - val_acc: 0.3793\n",
      "Epoch 173/300\n",
      "4/4 [==============================] - 5s 1s/step - loss: 0.8421 - acc: 0.8594 - val_loss: 1.8358 - val_acc: 0.4138\n",
      "Epoch 174/300\n",
      "4/4 [==============================] - 5s 1s/step - loss: 0.6970 - acc: 0.8828 - val_loss: 2.6983 - val_acc: 0.3103\n",
      "Epoch 175/300\n",
      "4/4 [==============================] - 5s 1s/step - loss: 0.5778 - acc: 0.8945 - val_loss: 2.0771 - val_acc: 0.3448\n",
      "Epoch 176/300\n",
      "4/4 [==============================] - 5s 1s/step - loss: 0.7268 - acc: 0.8750 - val_loss: 3.6590 - val_acc: 0.5172\n",
      "Epoch 177/300\n",
      "4/4 [==============================] - 5s 1s/step - loss: 0.7864 - acc: 0.8711 - val_loss: 1.7208 - val_acc: 0.4483\n",
      "Epoch 178/300\n",
      "4/4 [==============================] - 5s 1s/step - loss: 0.8925 - acc: 0.8438 - val_loss: 3.7418 - val_acc: 0.4828\n",
      "Epoch 179/300\n",
      "4/4 [==============================] - 5s 1s/step - loss: 0.8520 - acc: 0.8789 - val_loss: 2.9158 - val_acc: 0.4138\n",
      "Epoch 180/300\n",
      "4/4 [==============================] - 5s 1s/step - loss: 0.5574 - acc: 0.9062 - val_loss: 4.0475 - val_acc: 0.4138\n",
      "Epoch 181/300\n",
      "4/4 [==============================] - 5s 1s/step - loss: 0.6000 - acc: 0.8984 - val_loss: 4.9626 - val_acc: 0.4483\n",
      "Epoch 182/300\n",
      "4/4 [==============================] - 5s 1s/step - loss: 0.6538 - acc: 0.9102 - val_loss: 5.4878 - val_acc: 0.4138\n",
      "Epoch 183/300\n",
      "4/4 [==============================] - 5s 1s/step - loss: 0.6101 - acc: 0.9102 - val_loss: 4.6088 - val_acc: 0.3793\n",
      "Epoch 184/300\n",
      "4/4 [==============================] - 5s 1s/step - loss: 0.6073 - acc: 0.8828 - val_loss: 3.8135 - val_acc: 0.3793\n",
      "Epoch 185/300\n",
      "4/4 [==============================] - 5s 1s/step - loss: 0.5434 - acc: 0.9062 - val_loss: 3.4081 - val_acc: 0.4828\n",
      "Epoch 186/300\n",
      "4/4 [==============================] - 5s 1s/step - loss: 0.4958 - acc: 0.9102 - val_loss: 3.3213 - val_acc: 0.3448\n",
      "Epoch 187/300\n",
      "4/4 [==============================] - 5s 1s/step - loss: 0.4687 - acc: 0.9062 - val_loss: 2.7893 - val_acc: 0.3793\n",
      "Epoch 188/300\n",
      "4/4 [==============================] - 5s 1s/step - loss: 0.5107 - acc: 0.9219 - val_loss: 2.3033 - val_acc: 0.3793\n",
      "Epoch 189/300\n",
      "4/4 [==============================] - 5s 1s/step - loss: 0.4735 - acc: 0.9297 - val_loss: 1.9714 - val_acc: 0.3448\n",
      "Epoch 190/300\n",
      "4/4 [==============================] - 5s 1s/step - loss: 0.5850 - acc: 0.9258 - val_loss: 2.0397 - val_acc: 0.4138\n",
      "Epoch 191/300\n",
      "4/4 [==============================] - 5s 1s/step - loss: 0.4707 - acc: 0.9414 - val_loss: 3.3492 - val_acc: 0.3103\n",
      "Epoch 192/300\n",
      "4/4 [==============================] - 5s 1s/step - loss: 0.5750 - acc: 0.9297 - val_loss: 2.9564 - val_acc: 0.3448\n",
      "Epoch 193/300\n",
      "4/4 [==============================] - 5s 1s/step - loss: 0.5488 - acc: 0.9414 - val_loss: 3.7631 - val_acc: 0.3793\n",
      "Epoch 194/300\n",
      "4/4 [==============================] - 5s 1s/step - loss: 0.5809 - acc: 0.9023 - val_loss: 4.5646 - val_acc: 0.4138\n",
      "Epoch 195/300\n",
      "4/4 [==============================] - 5s 1s/step - loss: 0.7225 - acc: 0.9102 - val_loss: 3.4426 - val_acc: 0.3793\n",
      "Epoch 196/300\n",
      "4/4 [==============================] - 5s 1s/step - loss: 0.7390 - acc: 0.8945 - val_loss: 3.4126 - val_acc: 0.3448\n",
      "Epoch 197/300\n",
      "4/4 [==============================] - 5s 1s/step - loss: 0.4423 - acc: 0.9375 - val_loss: 3.2765 - val_acc: 0.3448\n",
      "Epoch 198/300\n",
      "4/4 [==============================] - 5s 1s/step - loss: 0.4173 - acc: 0.9570 - val_loss: 3.1620 - val_acc: 0.3793\n",
      "Epoch 199/300\n",
      "4/4 [==============================] - 5s 1s/step - loss: 0.4625 - acc: 0.9102 - val_loss: 4.9529 - val_acc: 0.4138\n",
      "Epoch 200/300\n",
      "4/4 [==============================] - 5s 1s/step - loss: 0.5136 - acc: 0.9336 - val_loss: 2.6386 - val_acc: 0.4483\n",
      "Epoch 201/300\n",
      "4/4 [==============================] - 5s 1s/step - loss: 0.3930 - acc: 0.9414 - val_loss: 3.9275 - val_acc: 0.4138\n",
      "Epoch 202/300\n",
      "4/4 [==============================] - 5s 1s/step - loss: 0.4870 - acc: 0.9062 - val_loss: 3.2037 - val_acc: 0.3793\n",
      "Epoch 203/300\n",
      "4/4 [==============================] - 5s 1s/step - loss: 0.4458 - acc: 0.9375 - val_loss: 3.4067 - val_acc: 0.5172\n",
      "Epoch 204/300\n",
      "4/4 [==============================] - 5s 1s/step - loss: 0.4540 - acc: 0.9219 - val_loss: 2.5562 - val_acc: 0.3448\n",
      "Epoch 205/300\n",
      "4/4 [==============================] - 5s 1s/step - loss: 0.4376 - acc: 0.9453 - val_loss: 2.6378 - val_acc: 0.3793\n",
      "Epoch 206/300\n",
      "4/4 [==============================] - 5s 1s/step - loss: 0.3700 - acc: 0.9453 - val_loss: 3.8471 - val_acc: 0.4138\n",
      "Epoch 207/300\n",
      "4/4 [==============================] - 5s 1s/step - loss: 0.3624 - acc: 0.9492 - val_loss: 3.3905 - val_acc: 0.4828\n",
      "Epoch 208/300\n",
      "4/4 [==============================] - 5s 1s/step - loss: 0.4722 - acc: 0.9531 - val_loss: 3.8164 - val_acc: 0.3793\n",
      "Epoch 209/300\n",
      "4/4 [==============================] - 5s 1s/step - loss: 0.3109 - acc: 0.9531 - val_loss: 3.3060 - val_acc: 0.4138\n",
      "Epoch 210/300\n",
      "4/4 [==============================] - 5s 1s/step - loss: 0.2966 - acc: 0.9492 - val_loss: 3.2627 - val_acc: 0.4828\n",
      "Epoch 211/300\n",
      "4/4 [==============================] - 5s 1s/step - loss: 0.2871 - acc: 0.9688 - val_loss: 4.3238 - val_acc: 0.4483\n",
      "Epoch 212/300\n",
      "4/4 [==============================] - 5s 1s/step - loss: 0.4379 - acc: 0.9492 - val_loss: 4.9576 - val_acc: 0.5862\n",
      "Epoch 213/300\n",
      "4/4 [==============================] - 5s 1s/step - loss: 0.5495 - acc: 0.9414 - val_loss: 4.2207 - val_acc: 0.5517\n",
      "Epoch 214/300\n",
      "4/4 [==============================] - 5s 1s/step - loss: 0.3133 - acc: 0.9531 - val_loss: 4.3444 - val_acc: 0.5172\n",
      "Epoch 215/300\n",
      "4/4 [==============================] - 5s 1s/step - loss: 0.3420 - acc: 0.9727 - val_loss: 4.2491 - val_acc: 0.5172\n",
      "Epoch 216/300\n",
      "4/4 [==============================] - 5s 1s/step - loss: 0.2876 - acc: 0.9766 - val_loss: 4.3959 - val_acc: 0.5172\n",
      "Epoch 217/300\n",
      "4/4 [==============================] - 5s 1s/step - loss: 0.1711 - acc: 0.9766 - val_loss: 4.2246 - val_acc: 0.4828\n",
      "Epoch 218/300\n",
      "4/4 [==============================] - 5s 1s/step - loss: 0.2694 - acc: 0.9727 - val_loss: 5.5386 - val_acc: 0.4828\n",
      "Epoch 219/300\n",
      "4/4 [==============================] - 5s 1s/step - loss: 0.2787 - acc: 0.9727 - val_loss: 5.5222 - val_acc: 0.5172\n",
      "Epoch 220/300\n",
      "4/4 [==============================] - 5s 1s/step - loss: 0.2783 - acc: 0.9688 - val_loss: 5.1951 - val_acc: 0.5172\n",
      "Epoch 221/300\n",
      "4/4 [==============================] - 5s 1s/step - loss: 0.5215 - acc: 0.9023 - val_loss: 3.7753 - val_acc: 0.4138\n",
      "Epoch 222/300\n",
      "4/4 [==============================] - 5s 1s/step - loss: 0.2574 - acc: 0.9688 - val_loss: 3.8331 - val_acc: 0.4828\n",
      "Epoch 223/300\n",
      "4/4 [==============================] - 5s 1s/step - loss: 0.4489 - acc: 0.9609 - val_loss: 4.3994 - val_acc: 0.4828\n",
      "Epoch 224/300\n",
      "4/4 [==============================] - 5s 1s/step - loss: 0.3298 - acc: 0.9688 - val_loss: 4.3919 - val_acc: 0.4828\n",
      "Epoch 225/300\n",
      "4/4 [==============================] - 5s 1s/step - loss: 0.3314 - acc: 0.9727 - val_loss: 4.2657 - val_acc: 0.5172\n",
      "Epoch 226/300\n",
      "4/4 [==============================] - 5s 1s/step - loss: 0.2601 - acc: 0.9805 - val_loss: 3.6456 - val_acc: 0.4828\n",
      "Epoch 227/300\n",
      "4/4 [==============================] - 5s 1s/step - loss: 0.2109 - acc: 0.9766 - val_loss: 3.2367 - val_acc: 0.4828\n",
      "Epoch 228/300\n",
      "4/4 [==============================] - 5s 1s/step - loss: 0.2731 - acc: 0.9688 - val_loss: 3.4130 - val_acc: 0.4828\n",
      "Epoch 229/300\n",
      "4/4 [==============================] - 5s 1s/step - loss: 0.3351 - acc: 0.9648 - val_loss: 3.9133 - val_acc: 0.4138\n",
      "Epoch 230/300\n",
      "4/4 [==============================] - 5s 1s/step - loss: 0.3983 - acc: 0.9609 - val_loss: 3.7497 - val_acc: 0.4828\n",
      "Epoch 231/300\n",
      "4/4 [==============================] - 5s 1s/step - loss: 0.2747 - acc: 0.9766 - val_loss: 1.8830 - val_acc: 0.5172\n",
      "Epoch 232/300\n",
      "4/4 [==============================] - 5s 1s/step - loss: 0.3351 - acc: 0.9688 - val_loss: 2.9023 - val_acc: 0.4828\n",
      "Epoch 233/300\n",
      "4/4 [==============================] - 5s 1s/step - loss: 0.3876 - acc: 0.9727 - val_loss: 4.8988 - val_acc: 0.5172\n",
      "Epoch 234/300\n",
      "4/4 [==============================] - 5s 1s/step - loss: 0.3252 - acc: 0.9727 - val_loss: 2.9153 - val_acc: 0.4828\n",
      "Epoch 235/300\n",
      "4/4 [==============================] - 5s 1s/step - loss: 0.2671 - acc: 0.9844 - val_loss: 2.9682 - val_acc: 0.4828\n",
      "Epoch 236/300\n",
      "4/4 [==============================] - 5s 1s/step - loss: 0.2482 - acc: 0.9844 - val_loss: 3.9314 - val_acc: 0.4138\n",
      "Epoch 237/300\n",
      "4/4 [==============================] - 5s 1s/step - loss: 0.3172 - acc: 0.9805 - val_loss: 3.6624 - val_acc: 0.5517\n",
      "Epoch 238/300\n",
      "4/4 [==============================] - 5s 1s/step - loss: 0.2527 - acc: 0.9844 - val_loss: 4.5902 - val_acc: 0.5172\n",
      "Epoch 239/300\n",
      "4/4 [==============================] - 5s 1s/step - loss: 0.3844 - acc: 0.9688 - val_loss: 4.4979 - val_acc: 0.6207\n",
      "Epoch 240/300\n",
      "4/4 [==============================] - 5s 1s/step - loss: 0.2844 - acc: 0.9609 - val_loss: 4.6799 - val_acc: 0.4138\n",
      "Epoch 241/300\n",
      "4/4 [==============================] - 5s 1s/step - loss: 0.5240 - acc: 0.9609 - val_loss: 4.5251 - val_acc: 0.5172\n",
      "Epoch 242/300\n",
      "4/4 [==============================] - 5s 1s/step - loss: 0.3247 - acc: 0.9766 - val_loss: 5.0253 - val_acc: 0.5517\n",
      "Epoch 243/300\n",
      "4/4 [==============================] - 5s 1s/step - loss: 0.3095 - acc: 0.9805 - val_loss: 5.0537 - val_acc: 0.5862\n",
      "Epoch 244/300\n",
      "4/4 [==============================] - 5s 1s/step - loss: 0.2102 - acc: 0.9766 - val_loss: 3.7109 - val_acc: 0.5172\n",
      "Epoch 245/300\n",
      "4/4 [==============================] - 5s 1s/step - loss: 0.2746 - acc: 0.9766 - val_loss: 3.8862 - val_acc: 0.4483\n",
      "Epoch 246/300\n",
      "4/4 [==============================] - 5s 1s/step - loss: 0.4411 - acc: 0.9688 - val_loss: 5.2748 - val_acc: 0.4483\n",
      "Epoch 247/300\n",
      "4/4 [==============================] - 5s 1s/step - loss: 0.4502 - acc: 0.9648 - val_loss: 4.6321 - val_acc: 0.5172\n",
      "Epoch 248/300\n",
      "4/4 [==============================] - 5s 1s/step - loss: 0.7161 - acc: 0.9375 - val_loss: 5.5061 - val_acc: 0.5862\n",
      "Epoch 249/300\n",
      "4/4 [==============================] - 5s 1s/step - loss: 0.5112 - acc: 0.9258 - val_loss: 4.1719 - val_acc: 0.5517\n",
      "Epoch 250/300\n",
      "4/4 [==============================] - 5s 1s/step - loss: 0.3140 - acc: 0.9492 - val_loss: 3.6726 - val_acc: 0.5172\n",
      "Epoch 251/300\n",
      "4/4 [==============================] - 5s 1s/step - loss: 0.3279 - acc: 0.9727 - val_loss: 4.2075 - val_acc: 0.5517\n",
      "Epoch 252/300\n",
      "4/4 [==============================] - 5s 1s/step - loss: 0.3322 - acc: 0.9727 - val_loss: 4.5293 - val_acc: 0.5517\n",
      "Epoch 253/300\n",
      "4/4 [==============================] - 5s 1s/step - loss: 0.2908 - acc: 0.9609 - val_loss: 3.6404 - val_acc: 0.4828\n",
      "Epoch 254/300\n",
      "4/4 [==============================] - 5s 1s/step - loss: 0.3584 - acc: 0.9531 - val_loss: 5.0268 - val_acc: 0.5862\n",
      "Epoch 255/300\n",
      "4/4 [==============================] - 5s 1s/step - loss: 0.2698 - acc: 0.9727 - val_loss: 4.6928 - val_acc: 0.5862\n",
      "Epoch 256/300\n",
      "4/4 [==============================] - 5s 1s/step - loss: 0.2610 - acc: 0.9844 - val_loss: 5.4210 - val_acc: 0.6207\n",
      "Epoch 257/300\n",
      "4/4 [==============================] - 5s 1s/step - loss: 0.2553 - acc: 0.9805 - val_loss: 5.4486 - val_acc: 0.5517\n",
      "Epoch 258/300\n",
      "4/4 [==============================] - 5s 1s/step - loss: 0.2554 - acc: 0.9805 - val_loss: 5.4300 - val_acc: 0.5862\n",
      "Epoch 259/300\n",
      "4/4 [==============================] - 5s 1s/step - loss: 0.3394 - acc: 0.9688 - val_loss: 5.4635 - val_acc: 0.6207\n",
      "Epoch 260/300\n",
      "4/4 [==============================] - 5s 1s/step - loss: 0.2574 - acc: 0.9766 - val_loss: 5.4732 - val_acc: 0.5862\n",
      "Epoch 261/300\n",
      "4/4 [==============================] - 5s 1s/step - loss: 0.3276 - acc: 0.9688 - val_loss: 4.1814 - val_acc: 0.5172\n",
      "Epoch 262/300\n",
      "4/4 [==============================] - 5s 1s/step - loss: 0.2573 - acc: 0.9727 - val_loss: 5.4650 - val_acc: 0.5517\n",
      "Epoch 263/300\n",
      "4/4 [==============================] - 5s 1s/step - loss: 0.3904 - acc: 0.9609 - val_loss: 5.0475 - val_acc: 0.5517\n",
      "Epoch 264/300\n",
      "4/4 [==============================] - 5s 1s/step - loss: 0.2497 - acc: 0.9805 - val_loss: 5.5180 - val_acc: 0.5172\n",
      "Epoch 265/300\n",
      "4/4 [==============================] - 5s 1s/step - loss: 0.2753 - acc: 0.9766 - val_loss: 4.5037 - val_acc: 0.5862\n",
      "Epoch 266/300\n",
      "4/4 [==============================] - 5s 1s/step - loss: 0.3172 - acc: 0.9805 - val_loss: 4.5389 - val_acc: 0.5862\n",
      "Epoch 267/300\n",
      "4/4 [==============================] - 5s 1s/step - loss: 0.2506 - acc: 0.9805 - val_loss: 4.5536 - val_acc: 0.5172\n",
      "Epoch 268/300\n",
      "4/4 [==============================] - 5s 1s/step - loss: 0.2755 - acc: 0.9648 - val_loss: 4.4591 - val_acc: 0.5862\n",
      "Epoch 269/300\n",
      "4/4 [==============================] - 5s 1s/step - loss: 0.2738 - acc: 0.9727 - val_loss: 4.9444 - val_acc: 0.5862\n",
      "Epoch 270/300\n",
      "4/4 [==============================] - 5s 1s/step - loss: 0.1908 - acc: 0.9883 - val_loss: 4.4975 - val_acc: 0.5862\n",
      "Epoch 271/300\n",
      "4/4 [==============================] - 5s 1s/step - loss: 0.1978 - acc: 0.9844 - val_loss: 4.1170 - val_acc: 0.5862\n",
      "Epoch 272/300\n",
      "4/4 [==============================] - 5s 1s/step - loss: 0.2497 - acc: 0.9805 - val_loss: 4.7208 - val_acc: 0.5172\n",
      "Epoch 273/300\n",
      "4/4 [==============================] - 5s 1s/step - loss: 0.3507 - acc: 0.9688 - val_loss: 4.2297 - val_acc: 0.5517\n",
      "Epoch 274/300\n",
      "4/4 [==============================] - 5s 1s/step - loss: 0.1339 - acc: 0.9844 - val_loss: 4.2641 - val_acc: 0.5172\n",
      "Epoch 275/300\n",
      "4/4 [==============================] - 5s 1s/step - loss: 0.2717 - acc: 0.9766 - val_loss: 4.7713 - val_acc: 0.4828\n",
      "Epoch 276/300\n",
      "4/4 [==============================] - 5s 1s/step - loss: 0.1443 - acc: 0.9883 - val_loss: 4.0368 - val_acc: 0.5862\n",
      "Epoch 277/300\n",
      "4/4 [==============================] - 5s 1s/step - loss: 0.1456 - acc: 0.9844 - val_loss: 5.9652 - val_acc: 0.5517\n",
      "Epoch 278/300\n",
      "4/4 [==============================] - 5s 1s/step - loss: 0.1350 - acc: 0.9883 - val_loss: 7.0783 - val_acc: 0.4483\n",
      "Epoch 279/300\n",
      "4/4 [==============================] - 5s 1s/step - loss: 0.2482 - acc: 0.9844 - val_loss: 6.8862 - val_acc: 0.5172\n",
      "Epoch 280/300\n",
      "4/4 [==============================] - 5s 1s/step - loss: 0.2467 - acc: 0.9844 - val_loss: 6.9415 - val_acc: 0.5172\n",
      "Epoch 281/300\n",
      "4/4 [==============================] - 5s 1s/step - loss: 0.2341 - acc: 0.9688 - val_loss: 4.9942 - val_acc: 0.5862\n",
      "Epoch 282/300\n",
      "4/4 [==============================] - 5s 1s/step - loss: 0.2035 - acc: 0.9766 - val_loss: 3.9062 - val_acc: 0.7241\n",
      "Epoch 283/300\n",
      "4/4 [==============================] - 5s 1s/step - loss: 0.2511 - acc: 0.9805 - val_loss: 3.9208 - val_acc: 0.6897\n",
      "Epoch 284/300\n",
      "4/4 [==============================] - 5s 1s/step - loss: 0.1565 - acc: 0.9766 - val_loss: 2.4720 - val_acc: 0.6207\n",
      "Epoch 285/300\n",
      "4/4 [==============================] - 5s 1s/step - loss: 0.3225 - acc: 0.9766 - val_loss: 3.4609 - val_acc: 0.6552\n",
      "Epoch 286/300\n",
      "4/4 [==============================] - 5s 1s/step - loss: 0.2521 - acc: 0.9844 - val_loss: 3.4858 - val_acc: 0.6552\n",
      "Epoch 287/300\n",
      "4/4 [==============================] - 5s 1s/step - loss: 0.2535 - acc: 0.9805 - val_loss: 3.7045 - val_acc: 0.6552\n",
      "Epoch 288/300\n",
      "4/4 [==============================] - 5s 1s/step - loss: 0.1415 - acc: 0.9883 - val_loss: 6.4822 - val_acc: 0.5172\n",
      "Epoch 289/300\n",
      "4/4 [==============================] - 5s 1s/step - loss: 0.3508 - acc: 0.9609 - val_loss: 5.9100 - val_acc: 0.5862\n",
      "Epoch 290/300\n",
      "4/4 [==============================] - 5s 1s/step - loss: 0.5355 - acc: 0.9453 - val_loss: 4.5657 - val_acc: 0.5862\n",
      "Epoch 291/300\n",
      "4/4 [==============================] - 5s 1s/step - loss: 0.1591 - acc: 0.9805 - val_loss: 4.0704 - val_acc: 0.5172\n",
      "Epoch 292/300\n",
      "4/4 [==============================] - 5s 1s/step - loss: 0.1274 - acc: 0.9922 - val_loss: 4.4830 - val_acc: 0.5862\n",
      "Epoch 293/300\n",
      "4/4 [==============================] - 5s 1s/step - loss: 0.1475 - acc: 0.9766 - val_loss: 5.0036 - val_acc: 0.5517\n",
      "Epoch 294/300\n",
      "4/4 [==============================] - 5s 1s/step - loss: 0.1361 - acc: 0.9883 - val_loss: 4.8081 - val_acc: 0.4828\n",
      "Epoch 295/300\n",
      "4/4 [==============================] - 5s 1s/step - loss: 0.2574 - acc: 0.9805 - val_loss: 5.1586 - val_acc: 0.5517\n",
      "Epoch 296/300\n",
      "4/4 [==============================] - 5s 1s/step - loss: 0.1253 - acc: 0.9922 - val_loss: 4.8050 - val_acc: 0.4828\n",
      "Epoch 297/300\n",
      "4/4 [==============================] - 5s 1s/step - loss: 0.1569 - acc: 0.9805 - val_loss: 4.0029 - val_acc: 0.6207\n",
      "Epoch 298/300\n",
      "4/4 [==============================] - 5s 1s/step - loss: 0.2746 - acc: 0.9648 - val_loss: 4.9884 - val_acc: 0.5862\n",
      "Epoch 299/300\n",
      "4/4 [==============================] - 5s 1s/step - loss: 0.2007 - acc: 0.9844 - val_loss: 5.4592 - val_acc: 0.5517\n",
      "Epoch 300/300\n",
      "4/4 [==============================] - 5s 1s/step - loss: 0.1268 - acc: 0.9922 - val_loss: 4.6976 - val_acc: 0.5517\n"
     ]
    }
   ],
   "source": [
    "history = model.fit(X_train, \n",
    "                         y_train, \n",
    "                         batch_size = 64, \n",
    "                         verbose = 1, \n",
    "                         epochs = 300,      \n",
    "                         validation_split= 0.1,\n",
    "                         shuffle = True\n",
    "                     )\n",
    "\n",
    "\n",
    "model.save('semiconductor_model2_300epochs_2.h5')  \n"
   ]
  },
  {
   "cell_type": "code",
   "execution_count": null,
   "metadata": {
    "colab": {
     "base_uri": "https://localhost:8080/",
     "height": 922
    },
    "id": "-e18Ahnmy4fr",
    "outputId": "b3302184-e219-4607-b92c-e2bbf05960c0"
   },
   "outputs": [
    {
     "data": {
      "image/png": "[encoded data removed]",
      "text/plain": [
       "<Figure size 640x480 with 1 Axes>"
      ]
     },
     "metadata": {
      "tags": []
     },
     "output_type": "display_data"
    },
    {
     "data": {
      "image/png": "[encoded data removed]",
      "text/plain": [
       "<Figure size 640x480 with 1 Axes>"
      ]
     },
     "metadata": {
      "tags": []
     },
     "output_type": "display_data"
    }
   ],
   "source": [
    "\n",
    "#plot the training and validation accuracy and loss at each epoch\n",
    "loss = history.history['loss']\n",
    "val_loss = history.history['val_loss']\n",
    "epochs = range(1, len(loss) + 1)\n",
    "plt.plot(epochs, loss, 'y', label='Training loss')\n",
    "plt.plot(epochs, val_loss, 'r', label='Validation loss')\n",
    "plt.title('Training and validation loss')\n",
    "plt.xlabel('Epochs')\n",
    "plt.ylabel('Loss')\n",
    "plt.legend()\n",
    "plt.show()\n",
    "\n",
    "acc = history.history['acc']\n",
    "val_acc = history.history['val_acc']\n",
    "plt.plot(epochs, acc, 'y', label='Training acc')\n",
    "plt.plot(epochs, val_acc, 'r', label='Validation acc')\n",
    "plt.title('Training and validation accuracy')\n",
    "plt.xlabel('Epochs')\n",
    "plt.ylabel('Accuracy')\n",
    "plt.legend()\n",
    "plt.show()"
   ]
  },
  {
   "cell_type": "code",
   "execution_count": null,
   "metadata": {
    "colab": {
     "base_uri": "https://localhost:8080/",
     "height": 752
    },
    "id": "P-zgj1Mdy4iZ",
    "outputId": "331118aa-2e57-4731-c496-70a408fedbcb"
   },
   "outputs": [
    {
     "ename": "TypeError",
     "evalue": "ignored",
     "output_type": "error",
     "traceback": [
      "\u001b[0;31m---------------------------------------------------------------------------\u001b[0m",
      "\u001b[0;31mTypeError\u001b[0m                                 Traceback (most recent call last)",
      "\u001b[0;32m<ipython-input-216-b4f0e01d0bde>\u001b[0m in \u001b[0;36m<module>\u001b[0;34m()\u001b[0m\n\u001b[1;32m      1\u001b[0m \u001b[0mn\u001b[0m\u001b[0;34m=\u001b[0m\u001b[0;36m23\u001b[0m  \u001b[0;31m#Select the index of image to be loaded for testing\u001b[0m\u001b[0;34m\u001b[0m\u001b[0;34m\u001b[0m\u001b[0m\n\u001b[1;32m      2\u001b[0m \u001b[0mimg\u001b[0m \u001b[0;34m=\u001b[0m \u001b[0mX_test\u001b[0m\u001b[0;34m[\u001b[0m\u001b[0mn\u001b[0m\u001b[0;34m]\u001b[0m\u001b[0;34m\u001b[0m\u001b[0;34m\u001b[0m\u001b[0m\n\u001b[0;32m----> 3\u001b[0;31m \u001b[0mplt\u001b[0m\u001b[0;34m.\u001b[0m\u001b[0mimshow\u001b[0m\u001b[0;34m(\u001b[0m\u001b[0mimg\u001b[0m\u001b[0;34m)\u001b[0m\u001b[0;34m\u001b[0m\u001b[0;34m\u001b[0m\u001b[0m\n\u001b[0m",
      "\u001b[0;32m/usr/local/lib/python3.7/dist-packages/matplotlib/pyplot.py\u001b[0m in \u001b[0;36mimshow\u001b[0;34m(X, cmap, norm, aspect, interpolation, alpha, vmin, vmax, origin, extent, shape, filternorm, filterrad, imlim, resample, url, data, **kwargs)\u001b[0m\n\u001b[1;32m   2649\u001b[0m         \u001b[0mfilternorm\u001b[0m\u001b[0;34m=\u001b[0m\u001b[0mfilternorm\u001b[0m\u001b[0;34m,\u001b[0m \u001b[0mfilterrad\u001b[0m\u001b[0;34m=\u001b[0m\u001b[0mfilterrad\u001b[0m\u001b[0;34m,\u001b[0m \u001b[0mimlim\u001b[0m\u001b[0;34m=\u001b[0m\u001b[0mimlim\u001b[0m\u001b[0;34m,\u001b[0m\u001b[0;34m\u001b[0m\u001b[0;34m\u001b[0m\u001b[0m\n\u001b[1;32m   2650\u001b[0m         resample=resample, url=url, **({\"data\": data} if data is not\n\u001b[0;32m-> 2651\u001b[0;31m         None else {}), **kwargs)\n\u001b[0m\u001b[1;32m   2652\u001b[0m     \u001b[0msci\u001b[0m\u001b[0;34m(\u001b[0m\u001b[0m__ret\u001b[0m\u001b[0;34m)\u001b[0m\u001b[0;34m\u001b[0m\u001b[0;34m\u001b[0m\u001b[0m\n\u001b[1;32m   2653\u001b[0m     \u001b[0;32mreturn\u001b[0m \u001b[0m__ret\u001b[0m\u001b[0;34m\u001b[0m\u001b[0;34m\u001b[0m\u001b[0m\n",
      "\u001b[0;32m/usr/local/lib/python3.7/dist-packages/matplotlib/__init__.py\u001b[0m in \u001b[0;36minner\u001b[0;34m(ax, data, *args, **kwargs)\u001b[0m\n\u001b[1;32m   1563\u001b[0m     \u001b[0;32mdef\u001b[0m \u001b[0minner\u001b[0m\u001b[0;34m(\u001b[0m\u001b[0max\u001b[0m\u001b[0;34m,\u001b[0m \u001b[0;34m*\u001b[0m\u001b[0margs\u001b[0m\u001b[0;34m,\u001b[0m \u001b[0mdata\u001b[0m\u001b[0;34m=\u001b[0m\u001b[0;32mNone\u001b[0m\u001b[0;34m,\u001b[0m \u001b[0;34m**\u001b[0m\u001b[0mkwargs\u001b[0m\u001b[0;34m)\u001b[0m\u001b[0;34m:\u001b[0m\u001b[0;34m\u001b[0m\u001b[0;34m\u001b[0m\u001b[0m\n\u001b[1;32m   1564\u001b[0m         \u001b[0;32mif\u001b[0m \u001b[0mdata\u001b[0m \u001b[0;32mis\u001b[0m \u001b[0;32mNone\u001b[0m\u001b[0;34m:\u001b[0m\u001b[0;34m\u001b[0m\u001b[0;34m\u001b[0m\u001b[0m\n\u001b[0;32m-> 1565\u001b[0;31m             \u001b[0;32mreturn\u001b[0m \u001b[0mfunc\u001b[0m\u001b[0;34m(\u001b[0m\u001b[0max\u001b[0m\u001b[0;34m,\u001b[0m \u001b[0;34m*\u001b[0m\u001b[0mmap\u001b[0m\u001b[0;34m(\u001b[0m\u001b[0msanitize_sequence\u001b[0m\u001b[0;34m,\u001b[0m \u001b[0margs\u001b[0m\u001b[0;34m)\u001b[0m\u001b[0;34m,\u001b[0m \u001b[0;34m**\u001b[0m\u001b[0mkwargs\u001b[0m\u001b[0;34m)\u001b[0m\u001b[0;34m\u001b[0m\u001b[0;34m\u001b[0m\u001b[0m\n\u001b[0m\u001b[1;32m   1566\u001b[0m \u001b[0;34m\u001b[0m\u001b[0m\n\u001b[1;32m   1567\u001b[0m         \u001b[0mbound\u001b[0m \u001b[0;34m=\u001b[0m \u001b[0mnew_sig\u001b[0m\u001b[0;34m.\u001b[0m\u001b[0mbind\u001b[0m\u001b[0;34m(\u001b[0m\u001b[0max\u001b[0m\u001b[0;34m,\u001b[0m \u001b[0;34m*\u001b[0m\u001b[0margs\u001b[0m\u001b[0;34m,\u001b[0m \u001b[0;34m**\u001b[0m\u001b[0mkwargs\u001b[0m\u001b[0;34m)\u001b[0m\u001b[0;34m\u001b[0m\u001b[0;34m\u001b[0m\u001b[0m\n",
      "\u001b[0;32m/usr/local/lib/python3.7/dist-packages/matplotlib/cbook/deprecation.py\u001b[0m in \u001b[0;36mwrapper\u001b[0;34m(*args, **kwargs)\u001b[0m\n\u001b[1;32m    356\u001b[0m                 \u001b[0;34mf\"%(removal)s.  If any parameter follows {name!r}, they \"\u001b[0m\u001b[0;34m\u001b[0m\u001b[0;34m\u001b[0m\u001b[0m\n\u001b[1;32m    357\u001b[0m                 f\"should be pass as keyword, not positionally.\")\n\u001b[0;32m--> 358\u001b[0;31m         \u001b[0;32mreturn\u001b[0m \u001b[0mfunc\u001b[0m\u001b[0;34m(\u001b[0m\u001b[0;34m*\u001b[0m\u001b[0margs\u001b[0m\u001b[0;34m,\u001b[0m \u001b[0;34m**\u001b[0m\u001b[0mkwargs\u001b[0m\u001b[0;34m)\u001b[0m\u001b[0;34m\u001b[0m\u001b[0;34m\u001b[0m\u001b[0m\n\u001b[0m\u001b[1;32m    359\u001b[0m \u001b[0;34m\u001b[0m\u001b[0m\n\u001b[1;32m    360\u001b[0m     \u001b[0;32mreturn\u001b[0m \u001b[0mwrapper\u001b[0m\u001b[0;34m\u001b[0m\u001b[0;34m\u001b[0m\u001b[0m\n",
      "\u001b[0;32m/usr/local/lib/python3.7/dist-packages/matplotlib/cbook/deprecation.py\u001b[0m in \u001b[0;36mwrapper\u001b[0;34m(*args, **kwargs)\u001b[0m\n\u001b[1;32m    356\u001b[0m                 \u001b[0;34mf\"%(removal)s.  If any parameter follows {name!r}, they \"\u001b[0m\u001b[0;34m\u001b[0m\u001b[0;34m\u001b[0m\u001b[0m\n\u001b[1;32m    357\u001b[0m                 f\"should be pass as keyword, not positionally.\")\n\u001b[0;32m--> 358\u001b[0;31m         \u001b[0;32mreturn\u001b[0m \u001b[0mfunc\u001b[0m\u001b[0;34m(\u001b[0m\u001b[0;34m*\u001b[0m\u001b[0margs\u001b[0m\u001b[0;34m,\u001b[0m \u001b[0;34m**\u001b[0m\u001b[0mkwargs\u001b[0m\u001b[0;34m)\u001b[0m\u001b[0;34m\u001b[0m\u001b[0;34m\u001b[0m\u001b[0m\n\u001b[0m\u001b[1;32m    359\u001b[0m \u001b[0;34m\u001b[0m\u001b[0m\n\u001b[1;32m    360\u001b[0m     \u001b[0;32mreturn\u001b[0m \u001b[0mwrapper\u001b[0m\u001b[0;34m\u001b[0m\u001b[0;34m\u001b[0m\u001b[0m\n",
      "\u001b[0;32m/usr/local/lib/python3.7/dist-packages/matplotlib/axes/_axes.py\u001b[0m in \u001b[0;36mimshow\u001b[0;34m(self, X, cmap, norm, aspect, interpolation, alpha, vmin, vmax, origin, extent, shape, filternorm, filterrad, imlim, resample, url, **kwargs)\u001b[0m\n\u001b[1;32m   5624\u001b[0m                               resample=resample, **kwargs)\n\u001b[1;32m   5625\u001b[0m \u001b[0;34m\u001b[0m\u001b[0m\n\u001b[0;32m-> 5626\u001b[0;31m         \u001b[0mim\u001b[0m\u001b[0;34m.\u001b[0m\u001b[0mset_data\u001b[0m\u001b[0;34m(\u001b[0m\u001b[0mX\u001b[0m\u001b[0;34m)\u001b[0m\u001b[0;34m\u001b[0m\u001b[0;34m\u001b[0m\u001b[0m\n\u001b[0m\u001b[1;32m   5627\u001b[0m         \u001b[0mim\u001b[0m\u001b[0;34m.\u001b[0m\u001b[0mset_alpha\u001b[0m\u001b[0;34m(\u001b[0m\u001b[0malpha\u001b[0m\u001b[0;34m)\u001b[0m\u001b[0;34m\u001b[0m\u001b[0;34m\u001b[0m\u001b[0m\n\u001b[1;32m   5628\u001b[0m         \u001b[0;32mif\u001b[0m \u001b[0mim\u001b[0m\u001b[0;34m.\u001b[0m\u001b[0mget_clip_path\u001b[0m\u001b[0;34m(\u001b[0m\u001b[0;34m)\u001b[0m \u001b[0;32mis\u001b[0m \u001b[0;32mNone\u001b[0m\u001b[0;34m:\u001b[0m\u001b[0;34m\u001b[0m\u001b[0;34m\u001b[0m\u001b[0m\n",
      "\u001b[0;32m/usr/local/lib/python3.7/dist-packages/matplotlib/image.py\u001b[0m in \u001b[0;36mset_data\u001b[0;34m(self, A)\u001b[0m\n\u001b[1;32m    697\u001b[0m                 or self._A.ndim == 3 and self._A.shape[-1] in [3, 4]):\n\u001b[1;32m    698\u001b[0m             raise TypeError(\"Invalid shape {} for image data\"\n\u001b[0;32m--> 699\u001b[0;31m                             .format(self._A.shape))\n\u001b[0m\u001b[1;32m    700\u001b[0m \u001b[0;34m\u001b[0m\u001b[0m\n\u001b[1;32m    701\u001b[0m         \u001b[0;32mif\u001b[0m \u001b[0mself\u001b[0m\u001b[0;34m.\u001b[0m\u001b[0m_A\u001b[0m\u001b[0;34m.\u001b[0m\u001b[0mndim\u001b[0m \u001b[0;34m==\u001b[0m \u001b[0;36m3\u001b[0m\u001b[0;34m:\u001b[0m\u001b[0;34m\u001b[0m\u001b[0;34m\u001b[0m\u001b[0m\n",
      "\u001b[0;31mTypeError\u001b[0m: Invalid shape (128, 128, 1) for image data"
     ]
    },
    {
     "data": {
      "image/png": "[encoded data removed]",
      "text/plain": [
       "<Figure size 640x480 with 1 Axes>"
      ]
     },
     "metadata": {
      "tags": []
     },
     "output_type": "display_data"
    }
   ],
   "source": [
    "n=23  #Select the index of image to be loaded for testing\n",
    "img = X_test[n]\n",
    "plt.imshow(img)\n"
   ]
  },
  {
   "cell_type": "code",
   "execution_count": null,
   "metadata": {
    "id": "w5o6k-FPJgtt"
   },
   "outputs": [],
   "source": [
    "import tensorflow as tf"
   ]
  },
  {
   "cell_type": "code",
   "execution_count": null,
   "metadata": {
    "colab": {
     "base_uri": "https://localhost:8080/",
     "height": 455
    },
    "id": "ZyqTm3DnIo1T",
    "outputId": "e3394cea-1d1b-4cd1-9ec6-4d89eda64e81"
   },
   "outputs": [
    {
     "data": {
      "text/plain": [
       "<matplotlib.image.AxesImage at 0x7f0eac48f310>"
      ]
     },
     "execution_count": 218,
     "metadata": {
      "tags": []
     },
     "output_type": "execute_result"
    },
    {
     "data": {
      "image/png": "[encoded data removed]",
      "text/plain": [
       "<Figure size 640x480 with 1 Axes>"
      ]
     },
     "metadata": {
      "tags": []
     },
     "output_type": "display_data"
    }
   ],
   "source": [
    "plt.imshow(tf.squeeze(img) )"
   ]
  },
  {
   "cell_type": "code",
   "execution_count": null,
   "metadata": {
    "id": "s3bIvKDPInwJ"
   },
   "outputs": [],
   "source": []
  },
  {
   "cell_type": "code",
   "execution_count": null,
   "metadata": {
    "colab": {
     "base_uri": "https://localhost:8080/"
    },
    "id": "jt2AVuHDy4kw",
    "outputId": "718ede4d-c47a-4247-b92d-38ca3ee4a2b4"
   },
   "outputs": [
    {
     "name": "stdout",
     "output_type": "stream",
     "text": [
      "The prediction for this image is:  [[0.88840973]]\n",
      "The actual label for this image is:  [0]\n"
     ]
    }
   ],
   "source": [
    "input_img = np.expand_dims(img, axis=0) #Expand dims so the input is (num images, x, y, c)\n",
    "print(\"The prediction for this image is: \", model.predict(input_img))\n",
    "print(\"The actual label for this image is: \", y_test[n])"
   ]
  },
  {
   "cell_type": "code",
   "execution_count": null,
   "metadata": {
    "id": "K2_POUtvy4nV"
   },
   "outputs": [],
   "source": [
    "from keras.models import load_model\n",
    "# # load model\n",
    "model = load_model('semiconductor_model_300epochs_2.h5')\n",
    "\n"
   ]
  },
  {
   "cell_type": "code",
   "execution_count": null,
   "metadata": {
    "colab": {
     "base_uri": "https://localhost:8080/"
    },
    "id": "jm34xovY0qJI",
    "outputId": "7968de0b-69c7-42bd-e132-ab7f4df7dcfd"
   },
   "outputs": [
    {
     "name": "stdout",
     "output_type": "stream",
     "text": [
      "3/3 [==============================] - 1s 96ms/step - loss: 0.7228 - acc: 0.5556\n",
      "Accuracy =  55.55555820465088 %\n"
     ]
    }
   ],
   "source": [
    "\n",
    "_, acc = model.evaluate(X_test, y_test)\n",
    "print(\"Accuracy = \", (acc * 100.0), \"%\")"
   ]
  },
  {
   "cell_type": "code",
   "execution_count": null,
   "metadata": {
    "id": "c52MEbH00qLw"
   },
   "outputs": [],
   "source": []
  },
  {
   "cell_type": "code",
   "execution_count": null,
   "metadata": {
    "id": "-lb_S-QO0qOp"
   },
   "outputs": [],
   "source": []
  },
  {
   "cell_type": "code",
   "execution_count": null,
   "metadata": {
    "id": "7r-vu8Uv0qRG"
   },
   "outputs": [],
   "source": []
  },
  {
   "cell_type": "code",
   "execution_count": null,
   "metadata": {
    "id": "ZsBXRNuJ0qUJ"
   },
   "outputs": [],
   "source": []
  },
  {
   "cell_type": "code",
   "execution_count": null,
   "metadata": {
    "id": "VTt66SyB0qWv"
   },
   "outputs": [],
   "source": []
  },
  {
   "cell_type": "code",
   "execution_count": null,
   "metadata": {
    "id": "DwlB8aQL0qZp"
   },
   "outputs": [],
   "source": []
  },
  {
   "cell_type": "code",
   "execution_count": null,
   "metadata": {
    "id": "UUgXu9R90qcc"
   },
   "outputs": [],
   "source": []
  },
  {
   "cell_type": "code",
   "execution_count": null,
   "metadata": {
    "id": "PG-6Pro30qfO"
   },
   "outputs": [],
   "source": []
  },
  {
   "cell_type": "code",
   "execution_count": null,
   "metadata": {
    "id": "FIXSEpgT0qiF"
   },
   "outputs": [],
   "source": []
  },
  {
   "cell_type": "code",
   "execution_count": null,
   "metadata": {
    "id": "8RqNnctg0qlC"
   },
   "outputs": [],
   "source": []
  },
  {
   "cell_type": "code",
   "execution_count": null,
   "metadata": {
    "id": "eECd4X290qn9"
   },
   "outputs": [],
   "source": []
  },
  {
   "cell_type": "code",
   "execution_count": null,
   "metadata": {
    "id": "j6KOy0Iw0qrD"
   },
   "outputs": [],
   "source": []
  },
  {
   "cell_type": "code",
   "execution_count": null,
   "metadata": {
    "id": "ZP9SZ7MO0qtc"
   },
   "outputs": [],
   "source": []
  },
  {
   "cell_type": "code",
   "execution_count": null,
   "metadata": {
    "id": "IlFyqboJ0qww"
   },
   "outputs": [],
   "source": []
  },
  {
   "cell_type": "code",
   "execution_count": null,
   "metadata": {
    "id": "mUoFn8580qy6"
   },
   "outputs": [],
   "source": []
  },
  {
   "cell_type": "code",
   "execution_count": null,
   "metadata": {
    "id": "ynipJgv6y4po"
   },
   "outputs": [],
   "source": [
    "mythreshold=0.908\n",
    "from sklearn.metrics import confusion_matrix\n",
    "\n",
    "y_pred = (model.predict(X_test)>= mythreshold).astype(int)\n",
    "cm=confusion_matrix(y_test, y_pred)  \n",
    "print(cm)"
   ]
  },
  {
   "cell_type": "code",
   "execution_count": null,
   "metadata": {
    "id": "pjHQS3CRy4sD"
   },
   "outputs": [],
   "source": [
    "from sklearn.metrics import roc_curve\n",
    "y_preds = model.predict(X_test).ravel()"
   ]
  },
  {
   "cell_type": "code",
   "execution_count": null,
   "metadata": {
    "id": "n9lFUgnOzTRp"
   },
   "outputs": [],
   "source": [
    "fpr, tpr, thresholds = roc_curve(y_test, y_preds)\n",
    "plt.figure(1)\n",
    "plt.plot([0, 1], [0, 1], 'y--')\n",
    "plt.plot(fpr, tpr, marker='.')\n",
    "plt.xlabel('False positive rate')\n",
    "plt.ylabel('True positive rate')\n",
    "plt.title('ROC curve')\n",
    "plt.show()\n"
   ]
  },
  {
   "cell_type": "code",
   "execution_count": null,
   "metadata": {
    "id": "aHgBTAqAzTUE"
   },
   "outputs": [],
   "source": [
    "import pandas as pd\n",
    "i = np.arange(len(tpr)) \n",
    "roc = pd.DataFrame({'tf' : pd.Series(tpr-(1-fpr), index=i), 'thresholds' : pd.Series(thresholds, index=i)})\n",
    "ideal_roc_thresh = roc.iloc[(roc.tf-0).abs().argsort()[:1]]  #Locate the point where the value is close to 0\n",
    "print(\"Ideal threshold is: \", ideal_roc_thresh['thresholds']) "
   ]
  },
  {
   "cell_type": "code",
   "execution_count": null,
   "metadata": {
    "id": "89Me2IEfzTWj"
   },
   "outputs": [],
   "source": [
    "from sklearn.metrics import auc\n",
    "auc_value = auc(fpr, tpr)\n",
    "print(\"Area under curve, AUC = \", auc_value)"
   ]
  },
  {
   "cell_type": "code",
   "execution_count": null,
   "metadata": {
    "id": "tUWmoNTlzTZJ"
   },
   "outputs": [],
   "source": []
  }
 ],
 "metadata": {
  "colab": {
   "authorship_tag": "ABX9TyMZwZmKibwckohNdSkqlhpA",
   "collapsed_sections": [],
   "include_colab_link": true,
   "mount_file_id": "161JhQCTEBCEVT-lnjlulCtS2HEDL99V8",
   "name": "Test_2.ipynb",
   "provenance": []
  },
  "kernelspec": {
   "display_name": "Python 3",
   "language": "python",
   "name": "python3"
  },
  "language_info": {
   "codemirror_mode": {
    "name": "ipython",
    "version": 3
   },
   "file_extension": ".py",
   "mimetype": "text/x-python",
   "name": "python",
   "nbconvert_exporter": "python",
   "pygments_lexer": "ipython3",
   "version": "3.8.3"
  }
 },
 "nbformat": 4,
 "nbformat_minor": 4
}
