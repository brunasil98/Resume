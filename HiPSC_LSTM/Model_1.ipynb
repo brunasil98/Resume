{
 "cells": [
  {
   "cell_type": "markdown",
   "metadata": {
    "colab_type": "text",
    "id": "view-in-github"
   },
   "source": [
    "<a href=\"https://colab.research.google.com/github/brunasil98/LSTM/blob/master/Project_2.ipynb\" target=\"_parent\"><img src=\"https://colab.research.google.com/assets/colab-badge.svg\" alt=\"Open In Colab\"/></a>"
   ]
  },
  {
   "cell_type": "code",
   "execution_count": 1,
   "metadata": {
    "id": "_5NJ-mNljJAr"
   },
   "outputs": [],
   "source": [
    "import pandas as pd  \n",
    "from random import random\n",
    "import numpy as np\n",
    "from sklearn.model_selection import train_test_split\n",
    "from keras.models import Sequential  \n",
    "from keras.layers.core import Dense, Activation  \n",
    "from keras.layers.recurrent import LSTM\n",
    "import matplotlib.pyplot as plt\n",
    "import os\n",
    "\n",
    "import cv2"
   ]
  },
  {
   "cell_type": "code",
   "execution_count": 2,
   "metadata": {
    "colab": {
     "base_uri": "https://localhost:8080/"
    },
    "id": "Pi-hIFeStuHg",
    "outputId": "1014db35-1785-4444-ee66-59ff1707ddb7"
   },
   "outputs": [],
   "source": [
    "# from google.colab import drive\n",
    "# drive.mount('/content/drive')"
   ]
  },
  {
   "cell_type": "code",
   "execution_count": 7,
   "metadata": {
    "id": "ayyVYR5cJqLX"
   },
   "outputs": [],
   "source": [
    "path = 'TRY/'\n"
   ]
  },
  {
   "cell_type": "code",
   "execution_count": 8,
   "metadata": {
    "id": "WO4VfGL7ko7D"
   },
   "outputs": [],
   "source": [
    "all_files = os.listdir(path)\n"
   ]
  },
  {
   "cell_type": "code",
   "execution_count": 9,
   "metadata": {
    "id": "Z5_5JZfxbMwC"
   },
   "outputs": [],
   "source": [
    "X_ds  = np.zeros([100000,5])\n",
    "Y_ds  = np.zeros([100000,1])"
   ]
  },
  {
   "cell_type": "code",
   "execution_count": 10,
   "metadata": {
    "colab": {
     "base_uri": "https://localhost:8080/"
    },
    "id": "CbDmKpyzeCpL",
    "outputId": "61ddf371-0044-4620-f686-83fa2cf500a7"
   },
   "outputs": [
    {
     "data": {
      "text/plain": [
       "341"
      ]
     },
     "execution_count": 10,
     "metadata": {},
     "output_type": "execute_result"
    }
   ],
   "source": [
    "len(all_files)"
   ]
  },
  {
   "cell_type": "code",
   "execution_count": 11,
   "metadata": {
    "colab": {
     "base_uri": "https://localhost:8080/"
    },
    "id": "TAN9sIQQ_zHn",
    "outputId": "64fda7e1-4097-44ac-efd9-bd11ae63f40f"
   },
   "outputs": [
    {
     "data": {
      "text/plain": [
       "['ALL_0.csv',\n",
       " 'ALL_1.csv',\n",
       " 'ALL_10.csv',\n",
       " 'ALL_2.csv',\n",
       " 'ALL_3.csv',\n",
       " 'ALL_4.csv',\n",
       " 'ALL_5.csv',\n",
       " 'ALL_6.csv',\n",
       " 'ALL_7.csv',\n",
       " 'ALL_8.csv',\n",
       " 'ALL_9.csv',\n",
       " 'ICaL_0.csv',\n",
       " 'ICaL_1.csv',\n",
       " 'ICaL_10.csv',\n",
       " 'ICaL_2.csv',\n",
       " 'ICaL_3.csv',\n",
       " 'ICaL_4.csv',\n",
       " 'ICaL_5.csv',\n",
       " 'ICaL_6.csv',\n",
       " 'ICaL_7.csv',\n",
       " 'ICaL_8.csv',\n",
       " 'ICaL_9.csv',\n",
       " 'ICaL_IK1_0.csv',\n",
       " 'ICaL_IK1_1.csv',\n",
       " 'ICaL_IK1_10.csv',\n",
       " 'ICaL_IK1_2.csv',\n",
       " 'ICaL_IK1_3.csv',\n",
       " 'ICaL_IK1_4.csv',\n",
       " 'ICaL_IK1_5.csv',\n",
       " 'ICaL_IK1_6.csv',\n",
       " 'ICaL_IK1_7.csv',\n",
       " 'ICaL_IK1_8.csv',\n",
       " 'ICaL_IK1_9.csv',\n",
       " 'ICaL_IK1_IKr_0.csv',\n",
       " 'ICaL_IK1_IKr_1.csv',\n",
       " 'ICaL_IK1_IKr_10.csv',\n",
       " 'ICaL_IK1_IKr_2.csv',\n",
       " 'ICaL_IK1_IKr_3.csv',\n",
       " 'ICaL_IK1_IKr_4.csv',\n",
       " 'ICaL_IK1_IKr_5.csv',\n",
       " 'ICaL_IK1_IKr_6.csv',\n",
       " 'ICaL_IK1_IKr_7.csv',\n",
       " 'ICaL_IK1_IKr_8.csv',\n",
       " 'ICaL_IK1_IKr_9.csv',\n",
       " 'ICaL_IK1_IKr_IKur_0.csv',\n",
       " 'ICaL_IK1_IKr_IKur_1.csv',\n",
       " 'ICaL_IK1_IKr_IKur_10.csv',\n",
       " 'ICaL_IK1_IKr_IKur_2.csv',\n",
       " 'ICaL_IK1_IKr_IKur_3.csv',\n",
       " 'ICaL_IK1_IKr_IKur_4.csv',\n",
       " 'ICaL_IK1_IKr_IKur_5.csv',\n",
       " 'ICaL_IK1_IKr_IKur_6.csv',\n",
       " 'ICaL_IK1_IKr_IKur_7.csv',\n",
       " 'ICaL_IK1_IKr_IKur_8.csv',\n",
       " 'ICaL_IK1_IKr_IKur_9.csv',\n",
       " 'ICaL_IK1_IKur_0.csv',\n",
       " 'ICaL_IK1_IKur_1.csv',\n",
       " 'ICaL_IK1_IKur_10.csv',\n",
       " 'ICaL_IK1_IKur_2.csv',\n",
       " 'ICaL_IK1_IKur_3.csv',\n",
       " 'ICaL_IK1_IKur_4.csv',\n",
       " 'ICaL_IK1_IKur_5.csv',\n",
       " 'ICaL_IK1_IKur_6.csv',\n",
       " 'ICaL_IK1_IKur_7.csv',\n",
       " 'ICaL_IK1_IKur_8.csv',\n",
       " 'ICaL_IK1_IKur_9.csv',\n",
       " 'ICaL_IK1_INa_0.csv',\n",
       " 'ICaL_IK1_INa_1.csv',\n",
       " 'ICaL_IK1_INa_10.csv',\n",
       " 'ICaL_IK1_INa_2.csv',\n",
       " 'ICaL_IK1_INa_3.csv',\n",
       " 'ICaL_IK1_INa_4.csv',\n",
       " 'ICaL_IK1_INa_5.csv',\n",
       " 'ICaL_IK1_INa_6.csv',\n",
       " 'ICaL_IK1_INa_7.csv',\n",
       " 'ICaL_IK1_INa_8.csv',\n",
       " 'ICaL_IK1_INa_9.csv',\n",
       " 'ICaL_IK1_INa_IKr_0.csv',\n",
       " 'ICaL_IK1_INa_IKr_1.csv',\n",
       " 'ICaL_IK1_INa_IKr_10.csv',\n",
       " 'ICaL_IK1_INa_IKr_2.csv',\n",
       " 'ICaL_IK1_INa_IKr_3.csv',\n",
       " 'ICaL_IK1_INa_IKr_4.csv',\n",
       " 'ICaL_IK1_INa_IKr_5.csv',\n",
       " 'ICaL_IK1_INa_IKr_6.csv',\n",
       " 'ICaL_IK1_INa_IKr_7.csv',\n",
       " 'ICaL_IK1_INa_IKr_8.csv',\n",
       " 'ICaL_IK1_INa_IKr_9.csv',\n",
       " 'ICaL_IK1_INa_IKur_0.csv',\n",
       " 'ICaL_IK1_INa_IKur_1.csv',\n",
       " 'ICaL_IK1_INa_IKur_10.csv',\n",
       " 'ICaL_IK1_INa_IKur_2.csv',\n",
       " 'ICaL_IK1_INa_IKur_3.csv',\n",
       " 'ICaL_IK1_INa_IKur_4.csv',\n",
       " 'ICaL_IK1_INa_IKur_5.csv',\n",
       " 'ICaL_IK1_INa_IKur_6.csv',\n",
       " 'ICaL_IK1_INa_IKur_7.csv',\n",
       " 'ICaL_IK1_INa_IKur_8.csv',\n",
       " 'ICaL_IK1_INa_IKur_9.csv',\n",
       " 'ICaL_IKr_0.csv',\n",
       " 'ICaL_IKr_1.csv',\n",
       " 'ICaL_IKr_10.csv',\n",
       " 'ICaL_IKr_2.csv',\n",
       " 'ICaL_IKr_3.csv',\n",
       " 'ICaL_IKr_4.csv',\n",
       " 'ICaL_IKr_5.csv',\n",
       " 'ICaL_IKr_6.csv',\n",
       " 'ICaL_IKr_7.csv',\n",
       " 'ICaL_IKr_8.csv',\n",
       " 'ICaL_IKr_9.csv',\n",
       " 'ICaL_IKr_IKur_0.csv',\n",
       " 'ICaL_IKr_IKur_1.csv',\n",
       " 'ICaL_IKr_IKur_10.csv',\n",
       " 'ICaL_IKr_IKur_2.csv',\n",
       " 'ICaL_IKr_IKur_3.csv',\n",
       " 'ICaL_IKr_IKur_4.csv',\n",
       " 'ICaL_IKr_IKur_5.csv',\n",
       " 'ICaL_IKr_IKur_6.csv',\n",
       " 'ICaL_IKr_IKur_7.csv',\n",
       " 'ICaL_IKr_IKur_8.csv',\n",
       " 'ICaL_IKr_IKur_9.csv',\n",
       " 'ICaL_IKur_0.csv',\n",
       " 'ICaL_IKur_1.csv',\n",
       " 'ICaL_IKur_10.csv',\n",
       " 'ICaL_IKur_2.csv',\n",
       " 'ICaL_IKur_3.csv',\n",
       " 'ICaL_IKur_4.csv',\n",
       " 'ICaL_IKur_5.csv',\n",
       " 'ICaL_IKur_6.csv',\n",
       " 'ICaL_IKur_7.csv',\n",
       " 'ICaL_IKur_8.csv',\n",
       " 'ICaL_IKur_9.csv',\n",
       " 'ICaL_INa_0.csv',\n",
       " 'ICaL_INa_1.csv',\n",
       " 'ICaL_INa_10.csv',\n",
       " 'ICaL_INa_2.csv',\n",
       " 'ICaL_INa_3.csv',\n",
       " 'ICaL_INa_4.csv',\n",
       " 'ICaL_INa_5.csv',\n",
       " 'ICaL_INa_6.csv',\n",
       " 'ICaL_INa_7.csv',\n",
       " 'ICaL_INa_8.csv',\n",
       " 'ICaL_INa_9.csv',\n",
       " 'ICaL_INa_IKr_0.csv',\n",
       " 'ICaL_INa_IKr_1.csv',\n",
       " 'ICaL_INa_IKr_10.csv',\n",
       " 'ICaL_INa_IKr_2.csv',\n",
       " 'ICaL_INa_IKr_3.csv',\n",
       " 'ICaL_INa_IKr_4.csv',\n",
       " 'ICaL_INa_IKr_5.csv',\n",
       " 'ICaL_INa_IKr_6.csv',\n",
       " 'ICaL_INa_IKr_7.csv',\n",
       " 'ICaL_INa_IKr_8.csv',\n",
       " 'ICaL_INa_IKr_9.csv',\n",
       " 'ICaL_INa_IKr_IKur_0.csv',\n",
       " 'ICaL_INa_IKr_IKur_1.csv',\n",
       " 'ICaL_INa_IKr_IKur_10.csv',\n",
       " 'ICaL_INa_IKr_IKur_2.csv',\n",
       " 'ICaL_INa_IKr_IKur_3.csv',\n",
       " 'ICaL_INa_IKr_IKur_4.csv',\n",
       " 'ICaL_INa_IKr_IKur_5.csv',\n",
       " 'ICaL_INa_IKr_IKur_6.csv',\n",
       " 'ICaL_INa_IKr_IKur_7.csv',\n",
       " 'ICaL_INa_IKr_IKur_8.csv',\n",
       " 'ICaL_INa_IKr_IKur_9.csv',\n",
       " 'ICaL_INa_IKur_0.csv',\n",
       " 'ICaL_INa_IKur_1.csv',\n",
       " 'ICaL_INa_IKur_10.csv',\n",
       " 'ICaL_INa_IKur_2.csv',\n",
       " 'ICaL_INa_IKur_3.csv',\n",
       " 'ICaL_INa_IKur_4.csv',\n",
       " 'ICaL_INa_IKur_5.csv',\n",
       " 'ICaL_INa_IKur_6.csv',\n",
       " 'ICaL_INa_IKur_7.csv',\n",
       " 'ICaL_INa_IKur_8.csv',\n",
       " 'ICaL_INa_IKur_9.csv',\n",
       " 'IK1_0.csv',\n",
       " 'IK1_1.csv',\n",
       " 'IK1_10.csv',\n",
       " 'IK1_2.csv',\n",
       " 'IK1_3.csv',\n",
       " 'IK1_4.csv',\n",
       " 'IK1_5.csv',\n",
       " 'IK1_6.csv',\n",
       " 'IK1_7.csv',\n",
       " 'IK1_8.csv',\n",
       " 'IK1_9.csv',\n",
       " 'IK1_IKr_0.csv',\n",
       " 'IK1_IKr_1.csv',\n",
       " 'IK1_IKr_10.csv',\n",
       " 'IK1_IKr_2.csv',\n",
       " 'IK1_IKr_3.csv',\n",
       " 'IK1_IKr_4.csv',\n",
       " 'IK1_IKr_5.csv',\n",
       " 'IK1_IKr_6.csv',\n",
       " 'IK1_IKr_7.csv',\n",
       " 'IK1_IKr_8.csv',\n",
       " 'IK1_IKr_9.csv',\n",
       " 'IK1_IKr_IKur_0.csv',\n",
       " 'IK1_IKr_IKur_1.csv',\n",
       " 'IK1_IKr_IKur_10.csv',\n",
       " 'IK1_IKr_IKur_2.csv',\n",
       " 'IK1_IKr_IKur_3.csv',\n",
       " 'IK1_IKr_IKur_4.csv',\n",
       " 'IK1_IKr_IKur_5.csv',\n",
       " 'IK1_IKr_IKur_6.csv',\n",
       " 'IK1_IKr_IKur_7.csv',\n",
       " 'IK1_IKr_IKur_8.csv',\n",
       " 'IK1_IKr_IKur_9.csv',\n",
       " 'IK1_IKur_0.csv',\n",
       " 'IK1_IKur_1.csv',\n",
       " 'IK1_IKur_10.csv',\n",
       " 'IK1_IKur_2.csv',\n",
       " 'IK1_IKur_3.csv',\n",
       " 'IK1_IKur_4.csv',\n",
       " 'IK1_IKur_5.csv',\n",
       " 'IK1_IKur_6.csv',\n",
       " 'IK1_IKur_7.csv',\n",
       " 'IK1_IKur_8.csv',\n",
       " 'IK1_IKur_9.csv',\n",
       " 'IK1_INa_0.csv',\n",
       " 'IK1_INa_1.csv',\n",
       " 'IK1_INa_10.csv',\n",
       " 'IK1_INa_2.csv',\n",
       " 'IK1_INa_3.csv',\n",
       " 'IK1_INa_4.csv',\n",
       " 'IK1_INa_5.csv',\n",
       " 'IK1_INa_6.csv',\n",
       " 'IK1_INa_7.csv',\n",
       " 'IK1_INa_8.csv',\n",
       " 'IK1_INa_9.csv',\n",
       " 'IK1_INa_IKr_0.csv',\n",
       " 'IK1_INa_IKr_1.csv',\n",
       " 'IK1_INa_IKr_10.csv',\n",
       " 'IK1_INa_IKr_2.csv',\n",
       " 'IK1_INa_IKr_3.csv',\n",
       " 'IK1_INa_IKr_4.csv',\n",
       " 'IK1_INa_IKr_5.csv',\n",
       " 'IK1_INa_IKr_6.csv',\n",
       " 'IK1_INa_IKr_7.csv',\n",
       " 'IK1_INa_IKr_8.csv',\n",
       " 'IK1_INa_IKr_9.csv',\n",
       " 'IK1_INa_IKr_IKur_0.csv',\n",
       " 'IK1_INa_IKr_IKur_1.csv',\n",
       " 'IK1_INa_IKr_IKur_10.csv',\n",
       " 'IK1_INa_IKr_IKur_2.csv',\n",
       " 'IK1_INa_IKr_IKur_3.csv',\n",
       " 'IK1_INa_IKr_IKur_4.csv',\n",
       " 'IK1_INa_IKr_IKur_5.csv',\n",
       " 'IK1_INa_IKr_IKur_6.csv',\n",
       " 'IK1_INa_IKr_IKur_7.csv',\n",
       " 'IK1_INa_IKr_IKur_8.csv',\n",
       " 'IK1_INa_IKr_IKur_9.csv',\n",
       " 'IK1_INa_IKur_0.csv',\n",
       " 'IK1_INa_IKur_1.csv',\n",
       " 'IK1_INa_IKur_10.csv',\n",
       " 'IK1_INa_IKur_2.csv',\n",
       " 'IK1_INa_IKur_3.csv',\n",
       " 'IK1_INa_IKur_4.csv',\n",
       " 'IK1_INa_IKur_5.csv',\n",
       " 'IK1_INa_IKur_6.csv',\n",
       " 'IK1_INa_IKur_7.csv',\n",
       " 'IK1_INa_IKur_8.csv',\n",
       " 'IK1_INa_IKur_9.csv',\n",
       " 'IKr_0.csv',\n",
       " 'IKr_1.csv',\n",
       " 'IKr_10.csv',\n",
       " 'IKr_2.csv',\n",
       " 'IKr_3.csv',\n",
       " 'IKr_4.csv',\n",
       " 'IKr_5.csv',\n",
       " 'IKr_6.csv',\n",
       " 'IKr_7.csv',\n",
       " 'IKr_8.csv',\n",
       " 'IKr_9.csv',\n",
       " 'IKr_IKur_0.csv',\n",
       " 'IKr_IKur_1.csv',\n",
       " 'IKr_IKur_10.csv',\n",
       " 'IKr_IKur_2.csv',\n",
       " 'IKr_IKur_3.csv',\n",
       " 'IKr_IKur_4.csv',\n",
       " 'IKr_IKur_5.csv',\n",
       " 'IKr_IKur_6.csv',\n",
       " 'IKr_IKur_7.csv',\n",
       " 'IKr_IKur_8.csv',\n",
       " 'IKr_IKur_9.csv',\n",
       " 'IKur_0.csv',\n",
       " 'IKur_1.csv',\n",
       " 'IKur_10.csv',\n",
       " 'IKur_2.csv',\n",
       " 'IKur_3.csv',\n",
       " 'IKur_4.csv',\n",
       " 'IKur_5.csv',\n",
       " 'IKur_6.csv',\n",
       " 'IKur_7.csv',\n",
       " 'IKur_8.csv',\n",
       " 'IKur_9.csv',\n",
       " 'INa_0.csv',\n",
       " 'INa_1.csv',\n",
       " 'INa_10.csv',\n",
       " 'INa_2.csv',\n",
       " 'INa_3.csv',\n",
       " 'INa_4.csv',\n",
       " 'INa_5.csv',\n",
       " 'INa_6.csv',\n",
       " 'INa_7.csv',\n",
       " 'INa_8.csv',\n",
       " 'INa_9.csv',\n",
       " 'INa_IKr_0.csv',\n",
       " 'INa_IKr_1.csv',\n",
       " 'INa_IKr_10.csv',\n",
       " 'INa_IKr_2.csv',\n",
       " 'INa_IKr_3.csv',\n",
       " 'INa_IKr_4.csv',\n",
       " 'INa_IKr_5.csv',\n",
       " 'INa_IKr_6.csv',\n",
       " 'INa_IKr_7.csv',\n",
       " 'INa_IKr_8.csv',\n",
       " 'INa_IKr_9.csv',\n",
       " 'INa_IKr_IKur_0.csv',\n",
       " 'INa_IKr_IKur_1.csv',\n",
       " 'INa_IKr_IKur_10.csv',\n",
       " 'INa_IKr_IKur_2.csv',\n",
       " 'INa_IKr_IKur_3.csv',\n",
       " 'INa_IKr_IKur_4.csv',\n",
       " 'INa_IKr_IKur_5.csv',\n",
       " 'INa_IKr_IKur_6.csv',\n",
       " 'INa_IKr_IKur_7.csv',\n",
       " 'INa_IKr_IKur_8.csv',\n",
       " 'INa_IKr_IKur_9.csv',\n",
       " 'INa_IKur_0.csv',\n",
       " 'INa_IKur_1.csv',\n",
       " 'INa_IKur_10.csv',\n",
       " 'INa_IKur_2.csv',\n",
       " 'INa_IKur_3.csv',\n",
       " 'INa_IKur_4.csv',\n",
       " 'INa_IKur_5.csv',\n",
       " 'INa_IKur_6.csv',\n",
       " 'INa_IKur_7.csv',\n",
       " 'INa_IKur_8.csv',\n",
       " 'INa_IKur_9.csv']"
      ]
     },
     "execution_count": 11,
     "metadata": {},
     "output_type": "execute_result"
    }
   ],
   "source": [
    "all_files"
   ]
  },
  {
   "cell_type": "code",
   "execution_count": 12,
   "metadata": {
    "id": "70nKHfuqUeus"
   },
   "outputs": [],
   "source": [
    "for fle  in all_files:\n",
    "  df = pd.read_csv(path + fle, sep = ',')\n",
    "  df = df.rename(columns = {'Column1':'Time', 'Column2':'Vm','ICaL':'ICaL','IK1':'IK1','Ikr':'Ikr','IKur':'IKur','INa':'INa'})\n",
    "  df['Time'] = df['Time']-45000\n",
    "  df = df.dropna()\n",
    "  y_ds = df[['Vm']].to_numpy()\n",
    "  x_ds = df[['ICaL','IK1','IKr','IKur','INa']].to_numpy()\n",
    "  X_ds = np.append(x_ds,X_ds,axis = 0)\n",
    "  Y_ds = np.append(y_ds,Y_ds,axis = 0)\n",
    "  \n",
    "  \n",
    "  "
   ]
  },
  {
   "cell_type": "code",
   "execution_count": 13,
   "metadata": {
    "colab": {
     "base_uri": "https://localhost:8080/"
    },
    "id": "1tglI0iiMLqp",
    "outputId": "1e3b0562-0c56-4b98-cd95-18231a660160"
   },
   "outputs": [
    {
     "name": "stdout",
     "output_type": "stream",
     "text": [
      "(34200000, 5)\n",
      "(34200000, 1)\n"
     ]
    }
   ],
   "source": [
    "print(X_ds.shape)\n",
    "print(Y_ds.shape)"
   ]
  },
  {
   "cell_type": "code",
   "execution_count": 14,
   "metadata": {
    "colab": {
     "base_uri": "https://localhost:8080/"
    },
    "id": "9ZzFiHJLWHV5",
    "outputId": "ddbaffe4-e24d-4ff1-ff3d-ff6703b7ec01"
   },
   "outputs": [
    {
     "name": "stdout",
     "output_type": "stream",
     "text": [
      "(342, 100000, 5)\n",
      "(342, 100000, 1)\n"
     ]
    }
   ],
   "source": [
    "X_ds = X_ds.reshape((342,100000,5))\n",
    "Y_ds = Y_ds.reshape((342,100000,1))\n",
    "print(X_ds.shape)\n",
    "print(Y_ds.shape)"
   ]
  },
  {
   "cell_type": "code",
   "execution_count": 15,
   "metadata": {
    "colab": {
     "base_uri": "https://localhost:8080/",
     "height": 422
    },
    "id": "IT9OhXMjPXdX",
    "outputId": "c2c18cd7-07f2-47ab-bd97-3446d28d09c2"
   },
   "outputs": [
    {
     "data": {
      "text/html": [
       "<div>\n",
       "<style scoped>\n",
       "    .dataframe tbody tr th:only-of-type {\n",
       "        vertical-align: middle;\n",
       "    }\n",
       "\n",
       "    .dataframe tbody tr th {\n",
       "        vertical-align: top;\n",
       "    }\n",
       "\n",
       "    .dataframe thead th {\n",
       "        text-align: right;\n",
       "    }\n",
       "</style>\n",
       "<table border=\"1\" class=\"dataframe\">\n",
       "  <thead>\n",
       "    <tr style=\"text-align: right;\">\n",
       "      <th></th>\n",
       "      <th>0</th>\n",
       "      <th>1</th>\n",
       "      <th>2</th>\n",
       "      <th>3</th>\n",
       "      <th>4</th>\n",
       "    </tr>\n",
       "  </thead>\n",
       "  <tbody>\n",
       "    <tr>\n",
       "      <th>0</th>\n",
       "      <td>0.0</td>\n",
       "      <td>0.0</td>\n",
       "      <td>0.0</td>\n",
       "      <td>0.0</td>\n",
       "      <td>0.0</td>\n",
       "    </tr>\n",
       "    <tr>\n",
       "      <th>1</th>\n",
       "      <td>0.0</td>\n",
       "      <td>0.0</td>\n",
       "      <td>0.0</td>\n",
       "      <td>0.0</td>\n",
       "      <td>0.0</td>\n",
       "    </tr>\n",
       "    <tr>\n",
       "      <th>2</th>\n",
       "      <td>0.0</td>\n",
       "      <td>0.0</td>\n",
       "      <td>0.0</td>\n",
       "      <td>0.0</td>\n",
       "      <td>0.0</td>\n",
       "    </tr>\n",
       "    <tr>\n",
       "      <th>3</th>\n",
       "      <td>0.0</td>\n",
       "      <td>0.0</td>\n",
       "      <td>0.0</td>\n",
       "      <td>0.0</td>\n",
       "      <td>0.0</td>\n",
       "    </tr>\n",
       "    <tr>\n",
       "      <th>4</th>\n",
       "      <td>0.0</td>\n",
       "      <td>0.0</td>\n",
       "      <td>0.0</td>\n",
       "      <td>0.0</td>\n",
       "      <td>0.0</td>\n",
       "    </tr>\n",
       "    <tr>\n",
       "      <th>...</th>\n",
       "      <td>...</td>\n",
       "      <td>...</td>\n",
       "      <td>...</td>\n",
       "      <td>...</td>\n",
       "      <td>...</td>\n",
       "    </tr>\n",
       "    <tr>\n",
       "      <th>99995</th>\n",
       "      <td>0.0</td>\n",
       "      <td>0.0</td>\n",
       "      <td>0.0</td>\n",
       "      <td>0.0</td>\n",
       "      <td>0.0</td>\n",
       "    </tr>\n",
       "    <tr>\n",
       "      <th>99996</th>\n",
       "      <td>0.0</td>\n",
       "      <td>0.0</td>\n",
       "      <td>0.0</td>\n",
       "      <td>0.0</td>\n",
       "      <td>0.0</td>\n",
       "    </tr>\n",
       "    <tr>\n",
       "      <th>99997</th>\n",
       "      <td>0.0</td>\n",
       "      <td>0.0</td>\n",
       "      <td>0.0</td>\n",
       "      <td>0.0</td>\n",
       "      <td>0.0</td>\n",
       "    </tr>\n",
       "    <tr>\n",
       "      <th>99998</th>\n",
       "      <td>0.0</td>\n",
       "      <td>0.0</td>\n",
       "      <td>0.0</td>\n",
       "      <td>0.0</td>\n",
       "      <td>0.0</td>\n",
       "    </tr>\n",
       "    <tr>\n",
       "      <th>99999</th>\n",
       "      <td>0.0</td>\n",
       "      <td>0.0</td>\n",
       "      <td>0.0</td>\n",
       "      <td>0.0</td>\n",
       "      <td>0.0</td>\n",
       "    </tr>\n",
       "  </tbody>\n",
       "</table>\n",
       "<p>100000 rows × 5 columns</p>\n",
       "</div>"
      ],
      "text/plain": [
       "         0    1    2    3    4\n",
       "0      0.0  0.0  0.0  0.0  0.0\n",
       "1      0.0  0.0  0.0  0.0  0.0\n",
       "2      0.0  0.0  0.0  0.0  0.0\n",
       "3      0.0  0.0  0.0  0.0  0.0\n",
       "4      0.0  0.0  0.0  0.0  0.0\n",
       "...    ...  ...  ...  ...  ...\n",
       "99995  0.0  0.0  0.0  0.0  0.0\n",
       "99996  0.0  0.0  0.0  0.0  0.0\n",
       "99997  0.0  0.0  0.0  0.0  0.0\n",
       "99998  0.0  0.0  0.0  0.0  0.0\n",
       "99999  0.0  0.0  0.0  0.0  0.0\n",
       "\n",
       "[100000 rows x 5 columns]"
      ]
     },
     "execution_count": 15,
     "metadata": {},
     "output_type": "execute_result"
    }
   ],
   "source": [
    "pd.DataFrame(X_ds[341])"
   ]
  },
  {
   "cell_type": "code",
   "execution_count": 16,
   "metadata": {
    "colab": {
     "base_uri": "https://localhost:8080/"
    },
    "id": "vJ0wgyeLYHXn",
    "outputId": "59d5c8b2-fb17-4aa4-ebc5-7a7912038ec1"
   },
   "outputs": [
    {
     "name": "stdout",
     "output_type": "stream",
     "text": [
      "(341, 100000, 5)\n",
      "(341, 100000, 1)\n"
     ]
    }
   ],
   "source": [
    "X_ds = X_ds[:-1]\n",
    "Y_ds = Y_ds[:-1]\n",
    "print(X_ds.shape)\n",
    "print(Y_ds.shape)"
   ]
  },
  {
   "cell_type": "code",
   "execution_count": 17,
   "metadata": {
    "colab": {
     "base_uri": "https://localhost:8080/",
     "height": 422
    },
    "id": "pZiaIjriMtmA",
    "outputId": "af5d451c-7e70-48e0-9ce2-151e2f6cf55b"
   },
   "outputs": [
    {
     "data": {
      "text/html": [
       "<div>\n",
       "<style scoped>\n",
       "    .dataframe tbody tr th:only-of-type {\n",
       "        vertical-align: middle;\n",
       "    }\n",
       "\n",
       "    .dataframe tbody tr th {\n",
       "        vertical-align: top;\n",
       "    }\n",
       "\n",
       "    .dataframe thead th {\n",
       "        text-align: right;\n",
       "    }\n",
       "</style>\n",
       "<table border=\"1\" class=\"dataframe\">\n",
       "  <thead>\n",
       "    <tr style=\"text-align: right;\">\n",
       "      <th></th>\n",
       "      <th>0</th>\n",
       "      <th>1</th>\n",
       "      <th>2</th>\n",
       "      <th>3</th>\n",
       "      <th>4</th>\n",
       "    </tr>\n",
       "  </thead>\n",
       "  <tbody>\n",
       "    <tr>\n",
       "      <th>0</th>\n",
       "      <td>2.0</td>\n",
       "      <td>2.0</td>\n",
       "      <td>2.0</td>\n",
       "      <td>2.0</td>\n",
       "      <td>2.0</td>\n",
       "    </tr>\n",
       "    <tr>\n",
       "      <th>1</th>\n",
       "      <td>2.0</td>\n",
       "      <td>2.0</td>\n",
       "      <td>2.0</td>\n",
       "      <td>2.0</td>\n",
       "      <td>2.0</td>\n",
       "    </tr>\n",
       "    <tr>\n",
       "      <th>2</th>\n",
       "      <td>2.0</td>\n",
       "      <td>2.0</td>\n",
       "      <td>2.0</td>\n",
       "      <td>2.0</td>\n",
       "      <td>2.0</td>\n",
       "    </tr>\n",
       "    <tr>\n",
       "      <th>3</th>\n",
       "      <td>2.0</td>\n",
       "      <td>2.0</td>\n",
       "      <td>2.0</td>\n",
       "      <td>2.0</td>\n",
       "      <td>2.0</td>\n",
       "    </tr>\n",
       "    <tr>\n",
       "      <th>4</th>\n",
       "      <td>2.0</td>\n",
       "      <td>2.0</td>\n",
       "      <td>2.0</td>\n",
       "      <td>2.0</td>\n",
       "      <td>2.0</td>\n",
       "    </tr>\n",
       "    <tr>\n",
       "      <th>...</th>\n",
       "      <td>...</td>\n",
       "      <td>...</td>\n",
       "      <td>...</td>\n",
       "      <td>...</td>\n",
       "      <td>...</td>\n",
       "    </tr>\n",
       "    <tr>\n",
       "      <th>99995</th>\n",
       "      <td>2.0</td>\n",
       "      <td>2.0</td>\n",
       "      <td>2.0</td>\n",
       "      <td>2.0</td>\n",
       "      <td>2.0</td>\n",
       "    </tr>\n",
       "    <tr>\n",
       "      <th>99996</th>\n",
       "      <td>2.0</td>\n",
       "      <td>2.0</td>\n",
       "      <td>2.0</td>\n",
       "      <td>2.0</td>\n",
       "      <td>2.0</td>\n",
       "    </tr>\n",
       "    <tr>\n",
       "      <th>99997</th>\n",
       "      <td>2.0</td>\n",
       "      <td>2.0</td>\n",
       "      <td>2.0</td>\n",
       "      <td>2.0</td>\n",
       "      <td>2.0</td>\n",
       "    </tr>\n",
       "    <tr>\n",
       "      <th>99998</th>\n",
       "      <td>2.0</td>\n",
       "      <td>2.0</td>\n",
       "      <td>2.0</td>\n",
       "      <td>2.0</td>\n",
       "      <td>2.0</td>\n",
       "    </tr>\n",
       "    <tr>\n",
       "      <th>99999</th>\n",
       "      <td>2.0</td>\n",
       "      <td>2.0</td>\n",
       "      <td>2.0</td>\n",
       "      <td>2.0</td>\n",
       "      <td>2.0</td>\n",
       "    </tr>\n",
       "  </tbody>\n",
       "</table>\n",
       "<p>100000 rows × 5 columns</p>\n",
       "</div>"
      ],
      "text/plain": [
       "         0    1    2    3    4\n",
       "0      2.0  2.0  2.0  2.0  2.0\n",
       "1      2.0  2.0  2.0  2.0  2.0\n",
       "2      2.0  2.0  2.0  2.0  2.0\n",
       "3      2.0  2.0  2.0  2.0  2.0\n",
       "4      2.0  2.0  2.0  2.0  2.0\n",
       "...    ...  ...  ...  ...  ...\n",
       "99995  2.0  2.0  2.0  2.0  2.0\n",
       "99996  2.0  2.0  2.0  2.0  2.0\n",
       "99997  2.0  2.0  2.0  2.0  2.0\n",
       "99998  2.0  2.0  2.0  2.0  2.0\n",
       "99999  2.0  2.0  2.0  2.0  2.0\n",
       "\n",
       "[100000 rows x 5 columns]"
      ]
     },
     "execution_count": 17,
     "metadata": {},
     "output_type": "execute_result"
    }
   ],
   "source": [
    "pd.DataFrame(X_ds[338])"
   ]
  },
  {
   "cell_type": "code",
   "execution_count": 18,
   "metadata": {
    "id": "HR6D891dfoFx"
   },
   "outputs": [],
   "source": [
    " X_train, X_test, y_train, y_test = train_test_split(X_ds, Y_ds, test_size=0.2)"
   ]
  },
  {
   "cell_type": "code",
   "execution_count": 19,
   "metadata": {
    "id": "ACmUi8-Pgj0n"
   },
   "outputs": [],
   "source": [
    "in_neurons = 5\n",
    "out_neurons = 1\n",
    "hidden_neurons = 300"
   ]
  },
  {
   "cell_type": "code",
   "execution_count": 20,
   "metadata": {
    "id": "u72Rpu8_gteR"
   },
   "outputs": [],
   "source": [
    "model = Sequential()  \n",
    "\n",
    "model.add(LSTM(hidden_neurons, input_dim=in_neurons, return_sequences=True)) \n",
    "\n",
    "model.add(Dense(100, input_dim=hidden_neurons))\n",
    "model.add(Dense(out_neurons, input_dim=100))\n",
    "\n",
    "model.add(Activation(\"linear\"))  \n",
    "\n",
    "model.compile(loss='mean_squared_error', optimizer=\"rmsprop\")"
   ]
  },
  {
   "cell_type": "code",
   "execution_count": 21,
   "metadata": {
    "colab": {
     "base_uri": "https://localhost:8080/"
    },
    "id": "tDiClxq_iuSj",
    "outputId": "d44d8ed6-511e-4a3b-9ce0-40e8d6c59705"
   },
   "outputs": [
    {
     "name": "stdout",
     "output_type": "stream",
     "text": [
      "Model: \"sequential\"\n",
      "_________________________________________________________________\n",
      "Layer (type)                 Output Shape              Param #   \n",
      "=================================================================\n",
      "lstm (LSTM)                  (None, None, 300)         367200    \n",
      "_________________________________________________________________\n",
      "dense (Dense)                (None, None, 100)         30100     \n",
      "_________________________________________________________________\n",
      "dense_1 (Dense)              (None, None, 1)           101       \n",
      "_________________________________________________________________\n",
      "activation (Activation)      (None, None, 1)           0         \n",
      "=================================================================\n",
      "Total params: 397,401\n",
      "Trainable params: 397,401\n",
      "Non-trainable params: 0\n",
      "_________________________________________________________________\n",
      "None\n"
     ]
    }
   ],
   "source": [
    "print(model.summary())   "
   ]
  },
  {
   "cell_type": "code",
   "execution_count": null,
   "metadata": {
    "colab": {
     "base_uri": "https://localhost:8080/",
     "height": 540
    },
    "id": "UTJvuwVMgv0I",
    "outputId": "af69b717-1c65-44a3-e23b-5d1e40a4071e"
   },
   "outputs": [
    {
     "name": "stdout",
     "output_type": "stream",
     "text": [
      "Epoch 1/20\n"
     ]
    }
   ],
   "source": [
    "model.fit(X_train, y_train, batch_size=50, epochs=20, validation_split=0.05)  "
   ]
  },
  {
   "cell_type": "code",
   "execution_count": null,
   "metadata": {
    "id": "d9zX-VhJhMOP"
   },
   "outputs": [],
   "source": [
    "# model.save('try_1.h5')"
   ]
  },
  {
   "cell_type": "code",
   "execution_count": null,
   "metadata": {
    "id": "issaqdtxqVIh"
   },
   "outputs": [],
   "source": [
    "\n",
    "# #plot the training and validation accuracy and loss at each epoch\n",
    "# loss = history.history['loss']\n",
    "# val_loss = history.history['val_loss']\n",
    "# epochs = range(1, len(loss) + 1)\n",
    "# plt.plot(epochs, loss, 'y', label='Training loss')\n",
    "# plt.plot(epochs, val_loss, 'r', label='Validation loss')\n",
    "# plt.title('Training and validation loss')\n",
    "# plt.xlabel('Epochs')\n",
    "# plt.ylabel('Loss')\n",
    "# plt.legend()\n",
    "# plt.show()\n",
    "\n",
    "# acc = history.history['acc']\n",
    "# val_acc = history.history['val_acc']\n",
    "# plt.plot(epochs, acc, 'y', label='Training acc')\n",
    "# plt.plot(epochs, val_acc, 'r', label='Validation acc')\n",
    "# plt.title('Training and validation accuracy')\n",
    "# plt.xlabel('Epochs')\n",
    "# plt.ylabel('Accuracy')\n",
    "# plt.legend()\n",
    "# plt.show()"
   ]
  },
  {
   "cell_type": "code",
   "execution_count": null,
   "metadata": {
    "id": "F0gIb8Q7qSs2"
   },
   "outputs": [],
   "source": [
    "predicted = model.predict(X_test)  \n",
    "\n",
    "rmse = np.sqrt(((predicted - y_test) ** 2).mean(axis=1))"
   ]
  },
  {
   "cell_type": "code",
   "execution_count": null,
   "metadata": {
    "id": "5-bC-3o4jZVv"
   },
   "outputs": [],
   "source": [
    "final = pd.DataFrame(predicted,Y_test)"
   ]
  },
  {
   "cell_type": "code",
   "execution_count": null,
   "metadata": {
    "id": "yfwUBH9svFQe"
   },
   "outputs": [],
   "source": [
    "final"
   ]
  },
  {
   "cell_type": "code",
   "execution_count": null,
   "metadata": {
    "id": "33tQw7qqpObf"
   },
   "outputs": [],
   "source": [
    "pd.DataFrame(predicted.reshape(45,10001)).to_csv(\"predicted.csv\")  "
   ]
  },
  {
   "cell_type": "code",
   "execution_count": null,
   "metadata": {
    "id": "DcbeMEMRvB_0"
   },
   "outputs": [],
   "source": [
    "# save Model\n",
    "model_json = model.to_json()\n",
    "with open('model.json', 'W',) as json_file:\n",
    "    json_file.write(model_json)\n",
    "model.save_weights('model.h5')"
   ]
  },
  {
   "cell_type": "code",
   "execution_count": null,
   "metadata": {
    "id": "FJ9T78VNvtWA"
   },
   "outputs": [],
   "source": []
  }
 ],
 "metadata": {
  "accelerator": "GPU",
  "colab": {
   "authorship_tag": "ABX9TyMEVuo8o2Xw/wIPGmeB01Hu",
   "collapsed_sections": [],
   "include_colab_link": true,
   "machine_shape": "hm",
   "name": "Project_1.ipynb",
   "provenance": []
  },
  "kernelspec": {
   "display_name": "Python 3",
   "language": "python",
   "name": "python3"
  },
  "language_info": {
   "codemirror_mode": {
    "name": "ipython",
    "version": 3
   },
   "file_extension": ".py",
   "mimetype": "text/x-python",
   "name": "python",
   "nbconvert_exporter": "python",
   "pygments_lexer": "ipython3",
   "version": "3.8.3"
  }
 },
 "nbformat": 4,
 "nbformat_minor": 1
}
